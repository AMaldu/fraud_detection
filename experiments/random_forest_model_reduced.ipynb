{
 "cells": [
  {
   "cell_type": "code",
   "execution_count": 1,
   "metadata": {},
   "outputs": [],
   "source": [
    "import pandas as pd\n",
    "import mlflow\n",
    "import mlflow.sklearn\n",
    "from hyperopt import fmin, tpe, hp, STATUS_OK, Trials\n",
    "from sklearn.compose import ColumnTransformer\n",
    "from sklearn.preprocessing import StandardScaler, OneHotEncoder\n",
    "from sklearn.model_selection import train_test_split\n",
    "from imblearn.over_sampling import SMOTE\n",
    "from sklearn.ensemble import RandomForestClassifier\n",
    "from sklearn.metrics import confusion_matrix, classification_report, roc_auc_score, roc_curve, accuracy_score\n",
    "\n",
    "import seaborn as sns\n",
    "import matplotlib.pyplot as plt\n",
    "\n",
    "import warnings\n",
    "import os \n",
    "\n",
    "\n",
    "warnings.filterwarnings('ignore')\n",
    "\n",
    "load_dir = '../data/gold/'\n",
    "\n",
    "# mlflow server --backend-store-uri sqlite:///backend.db --default-artifact-root ./artifacts_local"
   ]
  },
  {
   "cell_type": "code",
   "execution_count": 2,
   "metadata": {},
   "outputs": [
    {
     "data": {
      "text/plain": [
       "<Experiment: artifact_location='/home/maldu/dscience/projects/fraud_detection/experiments/artifacts_local/2', creation_time=1723978570179, experiment_id='2', last_update_time=1723978570179, lifecycle_stage='active', name='fraud_random_forest_model', tags={}>"
      ]
     },
     "execution_count": 2,
     "metadata": {},
     "output_type": "execute_result"
    }
   ],
   "source": [
    "mlflow.set_tracking_uri(\"http://127.0.0.1:5000\")\n",
    "mlflow.set_experiment('fraud_random_forest_model')\n"
   ]
  },
  {
   "cell_type": "code",
   "execution_count": 3,
   "metadata": {},
   "outputs": [
    {
     "data": {
      "text/html": [
       "<div>\n",
       "<style scoped>\n",
       "    .dataframe tbody tr th:only-of-type {\n",
       "        vertical-align: middle;\n",
       "    }\n",
       "\n",
       "    .dataframe tbody tr th {\n",
       "        vertical-align: top;\n",
       "    }\n",
       "\n",
       "    .dataframe thead th {\n",
       "        text-align: right;\n",
       "    }\n",
       "</style>\n",
       "<table border=\"1\" class=\"dataframe\">\n",
       "  <thead>\n",
       "    <tr style=\"text-align: right;\">\n",
       "      <th></th>\n",
       "      <th>step</th>\n",
       "      <th>type</th>\n",
       "      <th>amount</th>\n",
       "      <th>nameOrig</th>\n",
       "      <th>oldbalanceOrig</th>\n",
       "      <th>newbalanceOrig</th>\n",
       "      <th>nameDest</th>\n",
       "      <th>oldbalanceDest</th>\n",
       "      <th>newbalanceDest</th>\n",
       "      <th>isFraud</th>\n",
       "      <th>day_of_month</th>\n",
       "      <th>amount_range</th>\n",
       "      <th>diffbalanceOrig</th>\n",
       "      <th>diffbalanceDest</th>\n",
       "    </tr>\n",
       "    <tr>\n",
       "      <th>index</th>\n",
       "      <th></th>\n",
       "      <th></th>\n",
       "      <th></th>\n",
       "      <th></th>\n",
       "      <th></th>\n",
       "      <th></th>\n",
       "      <th></th>\n",
       "      <th></th>\n",
       "      <th></th>\n",
       "      <th></th>\n",
       "      <th></th>\n",
       "      <th></th>\n",
       "      <th></th>\n",
       "      <th></th>\n",
       "    </tr>\n",
       "  </thead>\n",
       "  <tbody>\n",
       "    <tr>\n",
       "      <th>1044</th>\n",
       "      <td>1</td>\n",
       "      <td>PAYMENT</td>\n",
       "      <td>4.518420e+03</td>\n",
       "      <td>C1504321715</td>\n",
       "      <td>8.790000e+03</td>\n",
       "      <td>4.271580e+03</td>\n",
       "      <td>M910123336</td>\n",
       "      <td>0.000000e+00</td>\n",
       "      <td>0.000000e+00</td>\n",
       "      <td>no_fraud</td>\n",
       "      <td>1</td>\n",
       "      <td>1.000-10.000</td>\n",
       "      <td>-4518.419922</td>\n",
       "      <td>0.00000</td>\n",
       "    </tr>\n",
       "    <tr>\n",
       "      <th>439</th>\n",
       "      <td>1</td>\n",
       "      <td>CASH_IN</td>\n",
       "      <td>1.314093e+05</td>\n",
       "      <td>C1476235721</td>\n",
       "      <td>8.491742e+06</td>\n",
       "      <td>8.623151e+06</td>\n",
       "      <td>C1068824137</td>\n",
       "      <td>2.902760e+05</td>\n",
       "      <td>2.650924e+05</td>\n",
       "      <td>no_fraud</td>\n",
       "      <td>1</td>\n",
       "      <td>100.000-1.000.000</td>\n",
       "      <td>131409.000000</td>\n",
       "      <td>-25183.65625</td>\n",
       "    </tr>\n",
       "    <tr>\n",
       "      <th>3718</th>\n",
       "      <td>2</td>\n",
       "      <td>PAYMENT</td>\n",
       "      <td>5.621400e+02</td>\n",
       "      <td>C837981622</td>\n",
       "      <td>7.221367e+05</td>\n",
       "      <td>7.215745e+05</td>\n",
       "      <td>M2053668237</td>\n",
       "      <td>0.000000e+00</td>\n",
       "      <td>0.000000e+00</td>\n",
       "      <td>no_fraud</td>\n",
       "      <td>1</td>\n",
       "      <td>0-1.000</td>\n",
       "      <td>-562.187500</td>\n",
       "      <td>0.00000</td>\n",
       "    </tr>\n",
       "    <tr>\n",
       "      <th>2919</th>\n",
       "      <td>2</td>\n",
       "      <td>CASH_IN</td>\n",
       "      <td>8.851071e+04</td>\n",
       "      <td>C2145921383</td>\n",
       "      <td>5.775554e+06</td>\n",
       "      <td>5.864064e+06</td>\n",
       "      <td>C977993101</td>\n",
       "      <td>1.180073e+06</td>\n",
       "      <td>7.442649e+05</td>\n",
       "      <td>no_fraud</td>\n",
       "      <td>1</td>\n",
       "      <td>10.000-100.000</td>\n",
       "      <td>88510.500000</td>\n",
       "      <td>-435807.81250</td>\n",
       "    </tr>\n",
       "    <tr>\n",
       "      <th>3957</th>\n",
       "      <td>3</td>\n",
       "      <td>CASH_IN</td>\n",
       "      <td>1.684791e+05</td>\n",
       "      <td>C1644155208</td>\n",
       "      <td>6.673927e+06</td>\n",
       "      <td>6.842406e+06</td>\n",
       "      <td>C575335780</td>\n",
       "      <td>3.086425e+05</td>\n",
       "      <td>1.401634e+05</td>\n",
       "      <td>no_fraud</td>\n",
       "      <td>1</td>\n",
       "      <td>100.000-1.000.000</td>\n",
       "      <td>168479.000000</td>\n",
       "      <td>-168479.09375</td>\n",
       "    </tr>\n",
       "    <tr>\n",
       "      <th>...</th>\n",
       "      <td>...</td>\n",
       "      <td>...</td>\n",
       "      <td>...</td>\n",
       "      <td>...</td>\n",
       "      <td>...</td>\n",
       "      <td>...</td>\n",
       "      <td>...</td>\n",
       "      <td>...</td>\n",
       "      <td>...</td>\n",
       "      <td>...</td>\n",
       "      <td>...</td>\n",
       "      <td>...</td>\n",
       "      <td>...</td>\n",
       "      <td>...</td>\n",
       "    </tr>\n",
       "    <tr>\n",
       "      <th>6362584</th>\n",
       "      <td>741</td>\n",
       "      <td>TRANSFER</td>\n",
       "      <td>5.674548e+06</td>\n",
       "      <td>C992223106</td>\n",
       "      <td>5.674548e+06</td>\n",
       "      <td>5.674548e+06</td>\n",
       "      <td>C1366804249</td>\n",
       "      <td>0.000000e+00</td>\n",
       "      <td>0.000000e+00</td>\n",
       "      <td>fraud</td>\n",
       "      <td>31</td>\n",
       "      <td>1.000.000-10.000.000</td>\n",
       "      <td>0.000000</td>\n",
       "      <td>0.00000</td>\n",
       "    </tr>\n",
       "    <tr>\n",
       "      <th>6362608</th>\n",
       "      <td>742</td>\n",
       "      <td>TRANSFER</td>\n",
       "      <td>2.583554e+05</td>\n",
       "      <td>C1226129332</td>\n",
       "      <td>2.583554e+05</td>\n",
       "      <td>0.000000e+00</td>\n",
       "      <td>C1744173808</td>\n",
       "      <td>0.000000e+00</td>\n",
       "      <td>0.000000e+00</td>\n",
       "      <td>fraud</td>\n",
       "      <td>31</td>\n",
       "      <td>100.000-1.000.000</td>\n",
       "      <td>-258355.421875</td>\n",
       "      <td>0.00000</td>\n",
       "    </tr>\n",
       "    <tr>\n",
       "      <th>6362601</th>\n",
       "      <td>742</td>\n",
       "      <td>CASH_OUT</td>\n",
       "      <td>6.529939e+05</td>\n",
       "      <td>C1614818636</td>\n",
       "      <td>6.529939e+05</td>\n",
       "      <td>0.000000e+00</td>\n",
       "      <td>C362803701</td>\n",
       "      <td>0.000000e+00</td>\n",
       "      <td>6.529939e+05</td>\n",
       "      <td>fraud</td>\n",
       "      <td>31</td>\n",
       "      <td>100.000-1.000.000</td>\n",
       "      <td>-652993.937500</td>\n",
       "      <td>652993.93750</td>\n",
       "    </tr>\n",
       "    <tr>\n",
       "      <th>6362619</th>\n",
       "      <td>743</td>\n",
       "      <td>CASH_OUT</td>\n",
       "      <td>8.500025e+05</td>\n",
       "      <td>C1280323807</td>\n",
       "      <td>8.500025e+05</td>\n",
       "      <td>0.000000e+00</td>\n",
       "      <td>C873221189</td>\n",
       "      <td>6.510099e+06</td>\n",
       "      <td>7.360102e+06</td>\n",
       "      <td>fraud</td>\n",
       "      <td>31</td>\n",
       "      <td>100.000-1.000.000</td>\n",
       "      <td>-850002.500000</td>\n",
       "      <td>850002.50000</td>\n",
       "    </tr>\n",
       "    <tr>\n",
       "      <th>6362614</th>\n",
       "      <td>743</td>\n",
       "      <td>TRANSFER</td>\n",
       "      <td>3.396821e+05</td>\n",
       "      <td>C2013999242</td>\n",
       "      <td>3.396821e+05</td>\n",
       "      <td>0.000000e+00</td>\n",
       "      <td>C1850423904</td>\n",
       "      <td>0.000000e+00</td>\n",
       "      <td>0.000000e+00</td>\n",
       "      <td>fraud</td>\n",
       "      <td>31</td>\n",
       "      <td>100.000-1.000.000</td>\n",
       "      <td>-339682.125000</td>\n",
       "      <td>0.00000</td>\n",
       "    </tr>\n",
       "  </tbody>\n",
       "</table>\n",
       "<p>1486 rows × 14 columns</p>\n",
       "</div>"
      ],
      "text/plain": [
       "         step      type        amount     nameOrig  oldbalanceOrig  \\\n",
       "index                                                                \n",
       "1044        1   PAYMENT  4.518420e+03  C1504321715    8.790000e+03   \n",
       "439         1   CASH_IN  1.314093e+05  C1476235721    8.491742e+06   \n",
       "3718        2   PAYMENT  5.621400e+02   C837981622    7.221367e+05   \n",
       "2919        2   CASH_IN  8.851071e+04  C2145921383    5.775554e+06   \n",
       "3957        3   CASH_IN  1.684791e+05  C1644155208    6.673927e+06   \n",
       "...       ...       ...           ...          ...             ...   \n",
       "6362584   741  TRANSFER  5.674548e+06   C992223106    5.674548e+06   \n",
       "6362608   742  TRANSFER  2.583554e+05  C1226129332    2.583554e+05   \n",
       "6362601   742  CASH_OUT  6.529939e+05  C1614818636    6.529939e+05   \n",
       "6362619   743  CASH_OUT  8.500025e+05  C1280323807    8.500025e+05   \n",
       "6362614   743  TRANSFER  3.396821e+05  C2013999242    3.396821e+05   \n",
       "\n",
       "         newbalanceOrig     nameDest  oldbalanceDest  newbalanceDest  \\\n",
       "index                                                                  \n",
       "1044       4.271580e+03   M910123336    0.000000e+00    0.000000e+00   \n",
       "439        8.623151e+06  C1068824137    2.902760e+05    2.650924e+05   \n",
       "3718       7.215745e+05  M2053668237    0.000000e+00    0.000000e+00   \n",
       "2919       5.864064e+06   C977993101    1.180073e+06    7.442649e+05   \n",
       "3957       6.842406e+06   C575335780    3.086425e+05    1.401634e+05   \n",
       "...                 ...          ...             ...             ...   \n",
       "6362584    5.674548e+06  C1366804249    0.000000e+00    0.000000e+00   \n",
       "6362608    0.000000e+00  C1744173808    0.000000e+00    0.000000e+00   \n",
       "6362601    0.000000e+00   C362803701    0.000000e+00    6.529939e+05   \n",
       "6362619    0.000000e+00   C873221189    6.510099e+06    7.360102e+06   \n",
       "6362614    0.000000e+00  C1850423904    0.000000e+00    0.000000e+00   \n",
       "\n",
       "          isFraud  day_of_month          amount_range  diffbalanceOrig  \\\n",
       "index                                                                    \n",
       "1044     no_fraud             1          1.000-10.000     -4518.419922   \n",
       "439      no_fraud             1     100.000-1.000.000    131409.000000   \n",
       "3718     no_fraud             1               0-1.000      -562.187500   \n",
       "2919     no_fraud             1        10.000-100.000     88510.500000   \n",
       "3957     no_fraud             1     100.000-1.000.000    168479.000000   \n",
       "...           ...           ...                   ...              ...   \n",
       "6362584     fraud            31  1.000.000-10.000.000         0.000000   \n",
       "6362608     fraud            31     100.000-1.000.000   -258355.421875   \n",
       "6362601     fraud            31     100.000-1.000.000   -652993.937500   \n",
       "6362619     fraud            31     100.000-1.000.000   -850002.500000   \n",
       "6362614     fraud            31     100.000-1.000.000   -339682.125000   \n",
       "\n",
       "         diffbalanceDest  \n",
       "index                     \n",
       "1044             0.00000  \n",
       "439         -25183.65625  \n",
       "3718             0.00000  \n",
       "2919       -435807.81250  \n",
       "3957       -168479.09375  \n",
       "...                  ...  \n",
       "6362584          0.00000  \n",
       "6362608          0.00000  \n",
       "6362601     652993.93750  \n",
       "6362619     850002.50000  \n",
       "6362614          0.00000  \n",
       "\n",
       "[1486 rows x 14 columns]"
      ]
     },
     "execution_count": 3,
     "metadata": {},
     "output_type": "execute_result"
    }
   ],
   "source": [
    "# X_train = load_npz(os.path.join(load_dir, 'X_train_scaled.npz'))\n",
    "# X_test = load_npz(os.path.join(load_dir, 'X_test_scaled.npz'))\n",
    "\n",
    "# y_train = joblib.load(os.path.join(load_dir, 'y_train.pkl'))\n",
    "# y_test = joblib.load(os.path.join(load_dir, 'y_test.pkl'))\n",
    "\n",
    "data = pd.read_parquet('../data/gold/df_fraud_final.parquet', engine= 'fastparquet')\n",
    "data"
   ]
  },
  {
   "cell_type": "code",
   "execution_count": 4,
   "metadata": {},
   "outputs": [],
   "source": [
    "categorical_features = ['type', 'nameDest']\n",
    "numeric_features = ['step', 'amount', 'oldbalanceOrig', 'oldbalanceDest', 'diffbalanceOrig', 'diffbalanceDest']\n",
    "\n",
    "data = data.rename(columns={'oldbalanceOrg': 'oldbalanceOrig'})\n",
    "data['diffbalanceOrig'] = data['newbalanceOrig'] - data['oldbalanceOrig']\n",
    "data['diffbalanceDest'] = data['newbalanceDest'] - data['oldbalanceDest']\n",
    "data = data.drop(columns=['newbalanceOrig', 'nameOrig', 'newbalanceDest'])\n",
    "data['isFraud'] = data['isFraud'].map({'fraud': 1, 'no_fraud': 0})\n",
    "# data['type'] = data['type'].map({'CASH_OUT': 1, 'PAYMENT': 2, 'CASH_IN': 3, 'TRANSFER': 4, 'DEBIT': 5})"
   ]
  },
  {
   "cell_type": "code",
   "execution_count": 5,
   "metadata": {},
   "outputs": [],
   "source": [
    "X = data.drop(columns= 'isFraud')\n",
    "y = data['isFraud']\n",
    "\n",
    "\n",
    "X_train, X_test, y_train, y_test = train_test_split(X, y, test_size=0.3, random_state=42)\n"
   ]
  },
  {
   "cell_type": "code",
   "execution_count": 6,
   "metadata": {},
   "outputs": [],
   "source": [
    "categorical_transformer = OneHotEncoder(handle_unknown='ignore')\n",
    "numeric_transformer = StandardScaler()\n",
    "\n",
    "preprocessor = ColumnTransformer(\n",
    "    transformers=[\n",
    "        ('num', numeric_transformer, numeric_features),\n",
    "        ('cat', categorical_transformer, categorical_features)\n",
    "    ]\n",
    ")\n",
    "\n",
    "X_train = preprocessor.fit_transform(X_train)\n",
    "\n",
    "smote = SMOTE(random_state=42)\n",
    "X_train, y_train = smote.fit_resample(X_train, y_train)\n",
    "\n",
    "X_test = preprocessor.transform(X_test)\n",
    "\n"
   ]
  },
  {
   "cell_type": "code",
   "execution_count": 7,
   "metadata": {},
   "outputs": [],
   "source": [
    "search_space = {\n",
    "    'max_depth': hp.quniform('max_depth', 5, 50, 5),\n",
    "    'min_samples_leaf': hp.quniform('min_samples_leaf', 1, 10, 1),\n",
    "    'min_samples_split': hp.quniform('min_samples_split', 2, 20, 1), \n",
    "    'n_estimators': hp.quniform('n_estimators', 50, 200, 10),\n",
    "    'ccp_alpha': hp.uniform('ccp_alpha', 0.0, 0.1),\n",
    "    'criterion': hp.choice('criterion', ['gini', 'entropy', 'log_loss']),\n",
    "    'max_features': hp.choice('max_features', ['sqrt', 'log2']),\n",
    "    'bootstrap': hp.choice('bootstrap', [True, False]),\n",
    "    'random_state': 42,  \n",
    "}\n"
   ]
  },
  {
   "cell_type": "code",
   "execution_count": 8,
   "metadata": {},
   "outputs": [],
   "source": [
    "def objective(params):\n",
    "    with mlflow.start_run():\n",
    "        mlflow.set_tag('developer', 'Maldu')\n",
    "        \n",
    "        # Log data paths\n",
    "        mlflow.log_param('train-data-path', os.path.join(load_dir, 'X_train_scaled.npz'))\n",
    "        mlflow.log_param('val-data-path', os.path.join(load_dir, 'X_test_scaled.npz'))\n",
    "        mlflow.log_param('train-labels-path', os.path.join(load_dir, 'y_train.pkl'))\n",
    "        mlflow.log_param('val-labels-path', os.path.join(load_dir, 'y_test.pkl'))\n",
    "        \n",
    "        # Log parameters\n",
    "        n_estimators = int(params['n_estimators'])\n",
    "        max_depth = int(params['max_depth'])\n",
    "        min_samples_split = int(params['min_samples_split'])\n",
    "        \n",
    "        mlflow.log_param('n_estimators', n_estimators)\n",
    "        mlflow.log_param('max_depth', max_depth)\n",
    "        mlflow.log_param('min_samples_split', min_samples_split)\n",
    "        \n",
    "        model = RandomForestClassifier(\n",
    "            n_estimators=n_estimators,\n",
    "            max_depth=max_depth,\n",
    "            min_samples_split=min_samples_split,\n",
    "            random_state=42\n",
    "        )\n",
    "        \n",
    "        model.fit(X_train, y_train)\n",
    "        \n",
    "        # Evaluate the model on train \n",
    "        train_accuracy = model.score(X_train, y_train)\n",
    "        mlflow.log_metric('train_accuracy', train_accuracy)\n",
    "        \n",
    "        \n",
    "        # Evaluate the model on test\n",
    "        y_pred = model.predict(X_test)\n",
    "        accuracy = accuracy_score(y_test, y_pred)\n",
    "        mlflow.log_metric('accuracy', accuracy)\n",
    "\n",
    "        \n",
    "        test_accuracy = model.score(X_test, y_test)\n",
    "        mlflow.log_metric('test_accuracy', test_accuracy)\n",
    "        \n",
    "        # Confusion matrix\n",
    "        cm = confusion_matrix(y_test, y_pred)\n",
    "        cm_display = sns.heatmap(cm, annot=True, fmt=\"d\", cmap=\"Blues\")\n",
    "        plt.title('Confusion Matrix')\n",
    "        plt.xlabel('Predicted')\n",
    "        plt.ylabel('Actual')\n",
    "        plt.savefig(\"confusion_matrix.png\")\n",
    "        mlflow.log_artifact(\"confusion_matrix.png\")\n",
    "        plt.close()\n",
    "\n",
    "        # Classification report \n",
    "        report = classification_report(y_test, y_pred, output_dict=True)\n",
    "        for key, value in report.items():\n",
    "            if isinstance(value, dict):\n",
    "                for sub_key, sub_value in value.items():\n",
    "                    mlflow.log_metric(f'{key}_{sub_key}', sub_value)\n",
    "            else:\n",
    "                mlflow.log_metric(f'{key}', value)\n",
    "        \n",
    "        # ROC and AUC\n",
    "        y_prob = model.predict_proba(X_test)[:, 1]\n",
    "        roc_auc = roc_auc_score(y_test, y_prob)\n",
    "        mlflow.log_metric('roc_auc', roc_auc)\n",
    "        \n",
    "        fpr, tpr, _ = roc_curve(y_test, y_prob)\n",
    "        plt.figure()\n",
    "        plt.plot(fpr, tpr, color='darkorange', lw=2, label=f'ROC curve (AUC = {roc_auc:.2f})')\n",
    "        plt.plot([0, 1], [0, 1], color='navy', lw=2, linestyle='--')\n",
    "        plt.xlabel('False Positive Rate')\n",
    "        plt.ylabel('True Positive Rate')\n",
    "        plt.title('Receiver Operating Characteristic')\n",
    "        plt.legend(loc=\"lower right\")\n",
    "        plt.savefig(\"roc_curve.png\")\n",
    "        mlflow.log_artifact(\"roc_curve.png\")\n",
    "        plt.close()\n",
    "        \n",
    "        \n",
    "        # Save the model\n",
    "        mlflow.sklearn.log_model(model, \"model\")\n",
    "        print(f\"Default artifacts URI: '{mlflow.get_artifact_uri()}'\")\n",
    "        \n",
    "        return {'loss': -accuracy, 'status': STATUS_OK}\n"
   ]
  },
  {
   "cell_type": "code",
   "execution_count": 9,
   "metadata": {},
   "outputs": [
    {
     "name": "stdout",
     "output_type": "stream",
     "text": [
      "  0%|          | 0/10 [00:00<?, ?trial/s, best loss=?]"
     ]
    },
    {
     "name": "stderr",
     "output_type": "stream",
     "text": [
      "2024/08/18 12:57:38 WARNING mlflow.models.model: Input example should be provided to infer model signature if the model signature is not provided when logging the model.\n",
      "\n"
     ]
    },
    {
     "name": "stdout",
     "output_type": "stream",
     "text": [
      "Default artifacts URI: '/home/maldu/dscience/projects/fraud_detection/experiments/artifacts_local/2/5658638a26734f5f9870d7b74e620482/artifacts'\n",
      "  0%|          | 0/10 [00:02<?, ?trial/s, best loss=?]"
     ]
    },
    {
     "name": "stderr",
     "output_type": "stream",
     "text": [
      "2024/08/18 12:57:38 INFO mlflow.tracking._tracking_service.client: 🏃 View run monumental-rook-964 at: http://127.0.0.1:5000/#/experiments/2/runs/5658638a26734f5f9870d7b74e620482.\n",
      "\n",
      "2024/08/18 12:57:38 INFO mlflow.tracking._tracking_service.client: 🧪 View experiment at: http://127.0.0.1:5000/#/experiments/2.\n",
      "\n"
     ]
    },
    {
     "name": "stdout",
     "output_type": "stream",
     "text": [
      " 10%|█         | 1/10 [00:02<00:25,  2.79s/trial, best loss: -0.9641255605381166]"
     ]
    },
    {
     "name": "stderr",
     "output_type": "stream",
     "text": [
      "2024/08/18 12:57:40 WARNING mlflow.models.model: Input example should be provided to infer model signature if the model signature is not provided when logging the model.\n",
      "\n"
     ]
    },
    {
     "name": "stdout",
     "output_type": "stream",
     "text": [
      "Default artifacts URI: '/home/maldu/dscience/projects/fraud_detection/experiments/artifacts_local/2/0982ed8010014d1c96cf77a5f5ac0f3b/artifacts'\n",
      " 10%|█         | 1/10 [00:05<00:25,  2.79s/trial, best loss: -0.9641255605381166]"
     ]
    },
    {
     "name": "stderr",
     "output_type": "stream",
     "text": [
      "2024/08/18 12:57:40 INFO mlflow.tracking._tracking_service.client: 🏃 View run exultant-goose-653 at: http://127.0.0.1:5000/#/experiments/2/runs/0982ed8010014d1c96cf77a5f5ac0f3b.\n",
      "\n",
      "2024/08/18 12:57:40 INFO mlflow.tracking._tracking_service.client: 🧪 View experiment at: http://127.0.0.1:5000/#/experiments/2.\n",
      "\n"
     ]
    },
    {
     "name": "stdout",
     "output_type": "stream",
     "text": [
      " 20%|██        | 2/10 [00:05<00:20,  2.51s/trial, best loss: -0.9641255605381166]"
     ]
    },
    {
     "name": "stderr",
     "output_type": "stream",
     "text": [
      "2024/08/18 12:57:42 WARNING mlflow.models.model: Input example should be provided to infer model signature if the model signature is not provided when logging the model.\n",
      "\n"
     ]
    },
    {
     "name": "stdout",
     "output_type": "stream",
     "text": [
      "Default artifacts URI: '/home/maldu/dscience/projects/fraud_detection/experiments/artifacts_local/2/a86c7a9b24044cbcb5896d29f4616cfb/artifacts'\n",
      " 20%|██        | 2/10 [00:07<00:20,  2.51s/trial, best loss: -0.9641255605381166]"
     ]
    },
    {
     "name": "stderr",
     "output_type": "stream",
     "text": [
      "2024/08/18 12:57:42 INFO mlflow.tracking._tracking_service.client: 🏃 View run efficient-sheep-637 at: http://127.0.0.1:5000/#/experiments/2/runs/a86c7a9b24044cbcb5896d29f4616cfb.\n",
      "\n",
      "2024/08/18 12:57:42 INFO mlflow.tracking._tracking_service.client: 🧪 View experiment at: http://127.0.0.1:5000/#/experiments/2.\n",
      "\n"
     ]
    },
    {
     "name": "stdout",
     "output_type": "stream",
     "text": [
      " 30%|███       | 3/10 [00:07<00:15,  2.27s/trial, best loss: -0.9641255605381166]"
     ]
    },
    {
     "name": "stderr",
     "output_type": "stream",
     "text": [
      "2024/08/18 12:57:44 WARNING mlflow.models.model: Input example should be provided to infer model signature if the model signature is not provided when logging the model.\n",
      "\n"
     ]
    },
    {
     "name": "stdout",
     "output_type": "stream",
     "text": [
      "Default artifacts URI: '/home/maldu/dscience/projects/fraud_detection/experiments/artifacts_local/2/fc7d0913f37945d192cd02bfd22279f2/artifacts'\n",
      " 30%|███       | 3/10 [00:09<00:15,  2.27s/trial, best loss: -0.9641255605381166]"
     ]
    },
    {
     "name": "stderr",
     "output_type": "stream",
     "text": [
      "2024/08/18 12:57:44 INFO mlflow.tracking._tracking_service.client: 🏃 View run gregarious-mole-614 at: http://127.0.0.1:5000/#/experiments/2/runs/fc7d0913f37945d192cd02bfd22279f2.\n",
      "\n",
      "2024/08/18 12:57:44 INFO mlflow.tracking._tracking_service.client: 🧪 View experiment at: http://127.0.0.1:5000/#/experiments/2.\n",
      "\n"
     ]
    },
    {
     "name": "stdout",
     "output_type": "stream",
     "text": [
      " 40%|████      | 4/10 [00:09<00:13,  2.18s/trial, best loss: -0.968609865470852] "
     ]
    },
    {
     "name": "stderr",
     "output_type": "stream",
     "text": [
      "2024/08/18 12:57:46 WARNING mlflow.models.model: Input example should be provided to infer model signature if the model signature is not provided when logging the model.\n",
      "\n"
     ]
    },
    {
     "name": "stdout",
     "output_type": "stream",
     "text": [
      "Default artifacts URI: '/home/maldu/dscience/projects/fraud_detection/experiments/artifacts_local/2/4f1e3b54f1cd41d6a72b825b610a3197/artifacts'\n",
      " 40%|████      | 4/10 [00:11<00:13,  2.18s/trial, best loss: -0.968609865470852]"
     ]
    },
    {
     "name": "stderr",
     "output_type": "stream",
     "text": [
      "2024/08/18 12:57:46 INFO mlflow.tracking._tracking_service.client: 🏃 View run polite-fly-759 at: http://127.0.0.1:5000/#/experiments/2/runs/4f1e3b54f1cd41d6a72b825b610a3197.\n",
      "\n",
      "2024/08/18 12:57:46 INFO mlflow.tracking._tracking_service.client: 🧪 View experiment at: http://127.0.0.1:5000/#/experiments/2.\n",
      "\n"
     ]
    },
    {
     "name": "stdout",
     "output_type": "stream",
     "text": [
      " 50%|█████     | 5/10 [00:11<00:10,  2.16s/trial, best loss: -0.968609865470852]"
     ]
    },
    {
     "name": "stderr",
     "output_type": "stream",
     "text": [
      "2024/08/18 12:57:48 WARNING mlflow.models.model: Input example should be provided to infer model signature if the model signature is not provided when logging the model.\n",
      "\n"
     ]
    },
    {
     "name": "stdout",
     "output_type": "stream",
     "text": [
      "Default artifacts URI: '/home/maldu/dscience/projects/fraud_detection/experiments/artifacts_local/2/a29163c4d0a44689b5ca9e4f04a6a45a/artifacts'\n",
      " 50%|█████     | 5/10 [00:13<00:10,  2.16s/trial, best loss: -0.968609865470852]"
     ]
    },
    {
     "name": "stderr",
     "output_type": "stream",
     "text": [
      "2024/08/18 12:57:48 INFO mlflow.tracking._tracking_service.client: 🏃 View run burly-bird-57 at: http://127.0.0.1:5000/#/experiments/2/runs/a29163c4d0a44689b5ca9e4f04a6a45a.\n",
      "\n",
      "2024/08/18 12:57:48 INFO mlflow.tracking._tracking_service.client: 🧪 View experiment at: http://127.0.0.1:5000/#/experiments/2.\n",
      "\n"
     ]
    },
    {
     "name": "stdout",
     "output_type": "stream",
     "text": [
      " 60%|██████    | 6/10 [00:13<00:08,  2.21s/trial, best loss: -0.968609865470852]"
     ]
    },
    {
     "name": "stderr",
     "output_type": "stream",
     "text": [
      "2024/08/18 12:57:50 WARNING mlflow.models.model: Input example should be provided to infer model signature if the model signature is not provided when logging the model.\n",
      "\n"
     ]
    },
    {
     "name": "stdout",
     "output_type": "stream",
     "text": [
      "Default artifacts URI: '/home/maldu/dscience/projects/fraud_detection/experiments/artifacts_local/2/e8535a4ed59448ab81d9a63dea1a1749/artifacts'\n",
      " 60%|██████    | 6/10 [00:15<00:08,  2.21s/trial, best loss: -0.968609865470852]"
     ]
    },
    {
     "name": "stderr",
     "output_type": "stream",
     "text": [
      "2024/08/18 12:57:50 INFO mlflow.tracking._tracking_service.client: 🏃 View run invincible-fawn-710 at: http://127.0.0.1:5000/#/experiments/2/runs/e8535a4ed59448ab81d9a63dea1a1749.\n",
      "\n",
      "2024/08/18 12:57:50 INFO mlflow.tracking._tracking_service.client: 🧪 View experiment at: http://127.0.0.1:5000/#/experiments/2.\n",
      "\n"
     ]
    },
    {
     "name": "stdout",
     "output_type": "stream",
     "text": [
      " 70%|███████   | 7/10 [00:15<00:06,  2.11s/trial, best loss: -0.968609865470852]"
     ]
    },
    {
     "name": "stderr",
     "output_type": "stream",
     "text": [
      "2024/08/18 12:57:52 WARNING mlflow.models.model: Input example should be provided to infer model signature if the model signature is not provided when logging the model.\n",
      "\n"
     ]
    },
    {
     "name": "stdout",
     "output_type": "stream",
     "text": [
      "Default artifacts URI: '/home/maldu/dscience/projects/fraud_detection/experiments/artifacts_local/2/6b8a50816f4d4eb489ed1b4d47cc6ed9/artifacts'\n",
      " 70%|███████   | 7/10 [00:17<00:06,  2.11s/trial, best loss: -0.968609865470852]"
     ]
    },
    {
     "name": "stderr",
     "output_type": "stream",
     "text": [
      "2024/08/18 12:57:52 INFO mlflow.tracking._tracking_service.client: 🏃 View run debonair-goose-352 at: http://127.0.0.1:5000/#/experiments/2/runs/6b8a50816f4d4eb489ed1b4d47cc6ed9.\n",
      "\n",
      "2024/08/18 12:57:52 INFO mlflow.tracking._tracking_service.client: 🧪 View experiment at: http://127.0.0.1:5000/#/experiments/2.\n",
      "\n"
     ]
    },
    {
     "name": "stdout",
     "output_type": "stream",
     "text": [
      " 80%|████████  | 8/10 [00:17<00:04,  2.02s/trial, best loss: -0.968609865470852]"
     ]
    },
    {
     "name": "stderr",
     "output_type": "stream",
     "text": [
      "2024/08/18 12:57:54 WARNING mlflow.models.model: Input example should be provided to infer model signature if the model signature is not provided when logging the model.\n",
      "\n"
     ]
    },
    {
     "name": "stdout",
     "output_type": "stream",
     "text": [
      "Default artifacts URI: '/home/maldu/dscience/projects/fraud_detection/experiments/artifacts_local/2/311ec8dca66147b185edaa7d2ef09d38/artifacts'\n",
      " 80%|████████  | 8/10 [00:19<00:04,  2.02s/trial, best loss: -0.968609865470852]"
     ]
    },
    {
     "name": "stderr",
     "output_type": "stream",
     "text": [
      "2024/08/18 12:57:54 INFO mlflow.tracking._tracking_service.client: 🏃 View run adventurous-carp-978 at: http://127.0.0.1:5000/#/experiments/2/runs/311ec8dca66147b185edaa7d2ef09d38.\n",
      "\n",
      "2024/08/18 12:57:54 INFO mlflow.tracking._tracking_service.client: 🧪 View experiment at: http://127.0.0.1:5000/#/experiments/2.\n",
      "\n"
     ]
    },
    {
     "name": "stdout",
     "output_type": "stream",
     "text": [
      " 90%|█████████ | 9/10 [00:19<00:01,  2.00s/trial, best loss: -0.968609865470852]"
     ]
    },
    {
     "name": "stderr",
     "output_type": "stream",
     "text": [
      "2024/08/18 12:57:56 WARNING mlflow.models.model: Input example should be provided to infer model signature if the model signature is not provided when logging the model.\n",
      "\n"
     ]
    },
    {
     "name": "stdout",
     "output_type": "stream",
     "text": [
      "Default artifacts URI: '/home/maldu/dscience/projects/fraud_detection/experiments/artifacts_local/2/3de6f69b123c4f0c954b4068613094b6/artifacts'\n",
      " 90%|█████████ | 9/10 [00:21<00:01,  2.00s/trial, best loss: -0.968609865470852]"
     ]
    },
    {
     "name": "stderr",
     "output_type": "stream",
     "text": [
      "2024/08/18 12:57:56 INFO mlflow.tracking._tracking_service.client: 🏃 View run caring-ray-654 at: http://127.0.0.1:5000/#/experiments/2/runs/3de6f69b123c4f0c954b4068613094b6.\n",
      "\n",
      "2024/08/18 12:57:56 INFO mlflow.tracking._tracking_service.client: 🧪 View experiment at: http://127.0.0.1:5000/#/experiments/2.\n",
      "\n"
     ]
    },
    {
     "name": "stdout",
     "output_type": "stream",
     "text": [
      "100%|██████████| 10/10 [00:21<00:00,  2.12s/trial, best loss: -0.968609865470852]\n"
     ]
    }
   ],
   "source": [
    "trials = Trials()\n",
    "\n",
    "best = fmin(\n",
    "    fn=objective,\n",
    "    space=search_space,\n",
    "    algo=tpe.suggest,\n",
    "    max_evals=10,  \n",
    "    trials=trials\n",
    ")"
   ]
  },
  {
   "cell_type": "code",
   "execution_count": 10,
   "metadata": {},
   "outputs": [
    {
     "name": "stdout",
     "output_type": "stream",
     "text": [
      "Best hyperparameters: {'bootstrap': 0, 'ccp_alpha': 0.07354053731740971, 'criterion': 0, 'max_depth': 45.0, 'max_features': 0, 'min_samples_leaf': 7.0, 'min_samples_split': 3.0, 'n_estimators': 110.0}\n"
     ]
    }
   ],
   "source": [
    "print(f\"Best hyperparameters: {best}\")"
   ]
  }
 ],
 "metadata": {
  "kernelspec": {
   "display_name": "fraud_detection-I9haicwR",
   "language": "python",
   "name": "python3"
  },
  "language_info": {
   "codemirror_mode": {
    "name": "ipython",
    "version": 3
   },
   "file_extension": ".py",
   "mimetype": "text/x-python",
   "name": "python",
   "nbconvert_exporter": "python",
   "pygments_lexer": "ipython3",
   "version": "3.10.12"
  }
 },
 "nbformat": 4,
 "nbformat_minor": 2
}
