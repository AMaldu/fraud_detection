{
 "cells": [
  {
   "cell_type": "code",
   "execution_count": 1,
   "metadata": {},
   "outputs": [],
   "source": [
    "\n",
    "import mlflow\n",
    "import mlflow.sklearn\n",
    "from hyperopt import fmin, tpe, hp, STATUS_OK, Trials\n",
    "from hyperopt.pyll import scope\n",
    "from sklearn.ensemble import RandomForestClassifier\n",
    "from sklearn.metrics import confusion_matrix, classification_report, roc_auc_score, roc_curve, accuracy_score\n",
    "import seaborn as sns\n",
    "import matplotlib.pyplot as plt\n",
    "\n",
    "import warnings\n",
    "import joblib\n",
    "import os \n",
    "from scipy.sparse import load_npz\n",
    "\n",
    "warnings.filterwarnings('ignore')\n",
    "\n",
    "load_dir = '../data/gold/'"
   ]
  },
  {
   "cell_type": "code",
   "execution_count": 2,
   "metadata": {},
   "outputs": [
    {
     "data": {
      "text/plain": [
       "<Experiment: artifact_location='/home/maldu/dscience/projects/fraud_detection/experiments/artifacts_local/2', creation_time=1723547437350, experiment_id='2', last_update_time=1723547437350, lifecycle_stage='active', name='fraud_random_forest_model', tags={}>"
      ]
     },
     "execution_count": 2,
     "metadata": {},
     "output_type": "execute_result"
    }
   ],
   "source": [
    "mlflow.set_tracking_uri(\"http://127.0.0.1:5000\")\n",
    "mlflow.set_experiment('fraud_random_forest_model')\n"
   ]
  },
  {
   "cell_type": "code",
   "execution_count": 3,
   "metadata": {},
   "outputs": [],
   "source": [
    "X_train = load_npz(os.path.join(load_dir, 'X_train_scaled.npz'))\n",
    "X_test = load_npz(os.path.join(load_dir, 'X_test_scaled.npz'))\n",
    "\n",
    "y_train = joblib.load(os.path.join(load_dir, 'y_train.pkl'))\n",
    "y_test = joblib.load(os.path.join(load_dir, 'y_test.pkl'))"
   ]
  },
  {
   "cell_type": "code",
   "execution_count": 4,
   "metadata": {},
   "outputs": [],
   "source": [
    "\n",
    "search_space = {\n",
    "    'max_depth': hp.quniform('max_depth', 5, 50, 5),\n",
    "    'min_samples_leaf': hp.quniform('min_samples_leaf', 1, 10, 1),\n",
    "    'min_samples_split': hp.quniform('min_samples_split', 18) + 2,  \n",
    "    'n_estimators': hp.quniform('n_estimators', 50, 200, 10),\n",
    "    'ccp_alpha': hp.uniform('ccp_alpha', 0.0, 0.1),\n",
    "    'criterion': hp.choice('criterion', ['gini', 'entropy', 'log_loss']),\n",
    "    'max_features': hp.choice('max_features', ['sqrt', 'log2']),\n",
    "    'bootstrap': hp.choice('bootstrap', [True, False]),\n",
    "    'random_state': 42,\n",
    "}"
   ]
  },
  {
   "cell_type": "code",
   "execution_count": 5,
   "metadata": {},
   "outputs": [],
   "source": [
    "def objective(params):\n",
    "    with mlflow.start_run():\n",
    "        mlflow.set_tag('developer', 'Maldu')\n",
    "        \n",
    "        # Log data paths\n",
    "        mlflow.log_param('train-data-path', os.path.join(load_dir, 'X_train_scaled.npz'))\n",
    "        mlflow.log_param('val-data-path', os.path.join(load_dir, 'X_test_scaled.npz'))\n",
    "        mlflow.log_param('train-labels-path', os.path.join(load_dir, 'y_train.pkl'))\n",
    "        mlflow.log_param('val-labels-path', os.path.join(load_dir, 'y_test.pkl'))\n",
    "        \n",
    "        # Log parameters\n",
    "        n_estimators = int(params['n_estimators'])\n",
    "        max_depth = int(params['max_depth'])\n",
    "        min_samples_split = int(params['min_samples_split'])\n",
    "        \n",
    "        mlflow.log_param('n_estimators', n_estimators)\n",
    "        mlflow.log_param('max_depth', max_depth)\n",
    "        mlflow.log_param('min_samples_split', min_samples_split)\n",
    "        \n",
    "        model = RandomForestClassifier(\n",
    "            n_estimators=n_estimators,\n",
    "            max_depth=max_depth,\n",
    "            min_samples_split=min_samples_split,\n",
    "            random_state=42\n",
    "        )\n",
    "        \n",
    "        model.fit(X_train, y_train)\n",
    "        \n",
    "        # Evaluate the model on train \n",
    "        train_accuracy = model.score(X_train, y_train)\n",
    "        mlflow.log_metric('train_accuracy', train_accuracy)\n",
    "        \n",
    "        \n",
    "        # Evaluate the model on test\n",
    "        y_pred = model.predict(X_test)\n",
    "        accuracy = accuracy_score(y_test, y_pred)\n",
    "        mlflow.log_metric('accuracy', accuracy)\n",
    "\n",
    "        \n",
    "        test_accuracy = model.score(X_test, y_test)\n",
    "        mlflow.log_metric('test_accuracy', test_accuracy)\n",
    "        \n",
    "        # Confusion matrix\n",
    "        cm = confusion_matrix(y_test, y_pred)\n",
    "        cm_display = sns.heatmap(cm, annot=True, fmt=\"d\", cmap=\"Blues\")\n",
    "        plt.title('Confusion Matrix')\n",
    "        plt.xlabel('Predicted')\n",
    "        plt.ylabel('Actual')\n",
    "        plt.savefig(\"confusion_matrix.png\")\n",
    "        mlflow.log_artifact(\"confusion_matrix.png\")\n",
    "        plt.close()\n",
    "\n",
    "        # Classification report \n",
    "        report = classification_report(y_test, y_pred, output_dict=True)\n",
    "        for key, value in report.items():\n",
    "            if isinstance(value, dict):\n",
    "                for sub_key, sub_value in value.items():\n",
    "                    mlflow.log_metric(f'{key}_{sub_key}', sub_value)\n",
    "            else:\n",
    "                mlflow.log_metric(f'{key}', value)\n",
    "        \n",
    "        # ROC and AUC\n",
    "        y_prob = model.predict_proba(X_test)[:, 1]\n",
    "        roc_auc = roc_auc_score(y_test, y_prob)\n",
    "        mlflow.log_metric('roc_auc', roc_auc)\n",
    "        \n",
    "        fpr, tpr, _ = roc_curve(y_test, y_prob)\n",
    "        plt.figure()\n",
    "        plt.plot(fpr, tpr, color='darkorange', lw=2, label=f'ROC curve (AUC = {roc_auc:.2f})')\n",
    "        plt.plot([0, 1], [0, 1], color='navy', lw=2, linestyle='--')\n",
    "        plt.xlabel('False Positive Rate')\n",
    "        plt.ylabel('True Positive Rate')\n",
    "        plt.title('Receiver Operating Characteristic')\n",
    "        plt.legend(loc=\"lower right\")\n",
    "        plt.savefig(\"roc_curve.png\")\n",
    "        mlflow.log_artifact(\"roc_curve.png\")\n",
    "        plt.close()\n",
    "        \n",
    "        \n",
    "        # Save the model\n",
    "        mlflow.sklearn.log_model(model, \"model\")\n",
    "        print(f\"Default artifacts URI: '{mlflow.get_artifact_uri()}'\")\n",
    "        \n",
    "        return {'loss': -accuracy, 'status': STATUS_OK}\n"
   ]
  },
  {
   "cell_type": "code",
   "execution_count": 6,
   "metadata": {},
   "outputs": [
    {
     "name": "stdout",
     "output_type": "stream",
     "text": [
      "  0%|          | 0/10 [00:00<?, ?trial/s, best loss=?]"
     ]
    },
    {
     "name": "stderr",
     "output_type": "stream",
     "text": [
      "2024/08/13 13:13:27 WARNING mlflow.models.model: Input example should be provided to infer model signature if the model signature is not provided when logging the model.\n",
      "\n"
     ]
    },
    {
     "name": "stdout",
     "output_type": "stream",
     "text": [
      "Default artifacts URI: '/home/maldu/dscience/projects/fraud_detection/experiments/artifacts_local/2/26ea2b1e6d9c407db8a8386e930ae5ac/artifacts'\n",
      "  0%|          | 0/10 [00:04<?, ?trial/s, best loss=?]"
     ]
    },
    {
     "name": "stderr",
     "output_type": "stream",
     "text": [
      "2024/08/13 13:13:27 INFO mlflow.tracking._tracking_service.client: 🏃 View run unique-mouse-306 at: http://127.0.0.1:5000/#/experiments/2/runs/26ea2b1e6d9c407db8a8386e930ae5ac.\n",
      "\n",
      "2024/08/13 13:13:27 INFO mlflow.tracking._tracking_service.client: 🧪 View experiment at: http://127.0.0.1:5000/#/experiments/2.\n",
      "\n"
     ]
    },
    {
     "name": "stdout",
     "output_type": "stream",
     "text": [
      " 10%|█         | 1/10 [00:04<00:43,  4.87s/trial, best loss: -0.998]"
     ]
    },
    {
     "name": "stderr",
     "output_type": "stream",
     "text": [
      "2024/08/13 13:13:30 WARNING mlflow.models.model: Input example should be provided to infer model signature if the model signature is not provided when logging the model.\n",
      "\n"
     ]
    },
    {
     "name": "stdout",
     "output_type": "stream",
     "text": [
      "Default artifacts URI: '/home/maldu/dscience/projects/fraud_detection/experiments/artifacts_local/2/e7d3bb340b534fdc83d9f52c0d38d541/artifacts'\n",
      " 10%|█         | 1/10 [00:08<00:43,  4.87s/trial, best loss: -0.998]"
     ]
    },
    {
     "name": "stderr",
     "output_type": "stream",
     "text": [
      "2024/08/13 13:13:30 INFO mlflow.tracking._tracking_service.client: 🏃 View run resilient-ox-769 at: http://127.0.0.1:5000/#/experiments/2/runs/e7d3bb340b534fdc83d9f52c0d38d541.\n",
      "\n",
      "2024/08/13 13:13:30 INFO mlflow.tracking._tracking_service.client: 🧪 View experiment at: http://127.0.0.1:5000/#/experiments/2.\n",
      "\n"
     ]
    },
    {
     "name": "stdout",
     "output_type": "stream",
     "text": [
      " 20%|██        | 2/10 [00:08<00:30,  3.87s/trial, best loss: -0.998]"
     ]
    },
    {
     "name": "stderr",
     "output_type": "stream",
     "text": [
      "2024/08/13 13:13:33 WARNING mlflow.models.model: Input example should be provided to infer model signature if the model signature is not provided when logging the model.\n",
      "\n"
     ]
    },
    {
     "name": "stdout",
     "output_type": "stream",
     "text": [
      "Default artifacts URI: '/home/maldu/dscience/projects/fraud_detection/experiments/artifacts_local/2/69a782cae30a4cddb12e431c426ce0c0/artifacts'\n",
      " 20%|██        | 2/10 [00:10<00:30,  3.87s/trial, best loss: -0.998]"
     ]
    },
    {
     "name": "stderr",
     "output_type": "stream",
     "text": [
      "2024/08/13 13:13:33 INFO mlflow.tracking._tracking_service.client: 🏃 View run resilient-snail-806 at: http://127.0.0.1:5000/#/experiments/2/runs/69a782cae30a4cddb12e431c426ce0c0.\n",
      "\n",
      "2024/08/13 13:13:33 INFO mlflow.tracking._tracking_service.client: 🧪 View experiment at: http://127.0.0.1:5000/#/experiments/2.\n",
      "\n"
     ]
    },
    {
     "name": "stdout",
     "output_type": "stream",
     "text": [
      " 30%|███       | 3/10 [00:10<00:22,  3.25s/trial, best loss: -0.998]"
     ]
    },
    {
     "name": "stderr",
     "output_type": "stream",
     "text": [
      "2024/08/13 13:13:35 WARNING mlflow.models.model: Input example should be provided to infer model signature if the model signature is not provided when logging the model.\n",
      "\n"
     ]
    },
    {
     "name": "stdout",
     "output_type": "stream",
     "text": [
      "Default artifacts URI: '/home/maldu/dscience/projects/fraud_detection/experiments/artifacts_local/2/0aa45f1a48ca43b49a4ff26555eb76bb/artifacts'\n",
      " 30%|███       | 3/10 [00:12<00:22,  3.25s/trial, best loss: -0.998]"
     ]
    },
    {
     "name": "stderr",
     "output_type": "stream",
     "text": [
      "2024/08/13 13:13:35 INFO mlflow.tracking._tracking_service.client: 🏃 View run stylish-fawn-572 at: http://127.0.0.1:5000/#/experiments/2/runs/0aa45f1a48ca43b49a4ff26555eb76bb.\n",
      "\n",
      "2024/08/13 13:13:35 INFO mlflow.tracking._tracking_service.client: 🧪 View experiment at: http://127.0.0.1:5000/#/experiments/2.\n",
      "\n"
     ]
    },
    {
     "name": "stdout",
     "output_type": "stream",
     "text": [
      " 40%|████      | 4/10 [00:13<00:17,  2.93s/trial, best loss: -0.998]"
     ]
    },
    {
     "name": "stderr",
     "output_type": "stream",
     "text": [
      "2024/08/13 13:13:38 WARNING mlflow.models.model: Input example should be provided to infer model signature if the model signature is not provided when logging the model.\n",
      "\n"
     ]
    },
    {
     "name": "stdout",
     "output_type": "stream",
     "text": [
      "Default artifacts URI: '/home/maldu/dscience/projects/fraud_detection/experiments/artifacts_local/2/f153bf5fc1fd4dc09a076f4ca0db674c/artifacts'\n",
      " 40%|████      | 4/10 [00:16<00:17,  2.93s/trial, best loss: -0.998]"
     ]
    },
    {
     "name": "stderr",
     "output_type": "stream",
     "text": [
      "2024/08/13 13:13:38 INFO mlflow.tracking._tracking_service.client: 🏃 View run enthused-gnat-916 at: http://127.0.0.1:5000/#/experiments/2/runs/f153bf5fc1fd4dc09a076f4ca0db674c.\n",
      "\n",
      "2024/08/13 13:13:38 INFO mlflow.tracking._tracking_service.client: 🧪 View experiment at: http://127.0.0.1:5000/#/experiments/2.\n",
      "\n"
     ]
    },
    {
     "name": "stdout",
     "output_type": "stream",
     "text": [
      " 50%|█████     | 5/10 [00:16<00:15,  3.05s/trial, best loss: -0.998]"
     ]
    },
    {
     "name": "stderr",
     "output_type": "stream",
     "text": [
      "2024/08/13 13:13:41 WARNING mlflow.models.model: Input example should be provided to infer model signature if the model signature is not provided when logging the model.\n",
      "\n"
     ]
    },
    {
     "name": "stdout",
     "output_type": "stream",
     "text": [
      "Default artifacts URI: '/home/maldu/dscience/projects/fraud_detection/experiments/artifacts_local/2/58e33df0bc274f83b8396fbde4580a70/artifacts'\n",
      " 50%|█████     | 5/10 [00:19<00:15,  3.05s/trial, best loss: -0.998]"
     ]
    },
    {
     "name": "stderr",
     "output_type": "stream",
     "text": [
      "2024/08/13 13:13:41 INFO mlflow.tracking._tracking_service.client: 🏃 View run abrasive-penguin-459 at: http://127.0.0.1:5000/#/experiments/2/runs/58e33df0bc274f83b8396fbde4580a70.\n",
      "\n",
      "2024/08/13 13:13:41 INFO mlflow.tracking._tracking_service.client: 🧪 View experiment at: http://127.0.0.1:5000/#/experiments/2.\n",
      "\n"
     ]
    },
    {
     "name": "stdout",
     "output_type": "stream",
     "text": [
      " 60%|██████    | 6/10 [00:19<00:12,  3.05s/trial, best loss: -0.998]"
     ]
    },
    {
     "name": "stderr",
     "output_type": "stream",
     "text": [
      "2024/08/13 13:13:45 WARNING mlflow.models.model: Input example should be provided to infer model signature if the model signature is not provided when logging the model.\n",
      "\n"
     ]
    },
    {
     "name": "stdout",
     "output_type": "stream",
     "text": [
      "Default artifacts URI: '/home/maldu/dscience/projects/fraud_detection/experiments/artifacts_local/2/a65e51ff9f4a4a118c1d2a8bdf2ea5b5/artifacts'\n",
      " 60%|██████    | 6/10 [00:22<00:12,  3.05s/trial, best loss: -0.998]"
     ]
    },
    {
     "name": "stderr",
     "output_type": "stream",
     "text": [
      "2024/08/13 13:13:45 INFO mlflow.tracking._tracking_service.client: 🏃 View run nebulous-shrew-733 at: http://127.0.0.1:5000/#/experiments/2/runs/a65e51ff9f4a4a118c1d2a8bdf2ea5b5.\n",
      "\n",
      "2024/08/13 13:13:45 INFO mlflow.tracking._tracking_service.client: 🧪 View experiment at: http://127.0.0.1:5000/#/experiments/2.\n",
      "\n"
     ]
    },
    {
     "name": "stdout",
     "output_type": "stream",
     "text": [
      " 70%|███████   | 7/10 [00:22<00:09,  3.15s/trial, best loss: -0.998]"
     ]
    },
    {
     "name": "stderr",
     "output_type": "stream",
     "text": [
      "2024/08/13 13:13:48 WARNING mlflow.models.model: Input example should be provided to infer model signature if the model signature is not provided when logging the model.\n",
      "\n"
     ]
    },
    {
     "name": "stdout",
     "output_type": "stream",
     "text": [
      "Default artifacts URI: '/home/maldu/dscience/projects/fraud_detection/experiments/artifacts_local/2/21f90c4f50204c6a882e6582c6ff855a/artifacts'\n",
      " 70%|███████   | 7/10 [00:25<00:09,  3.15s/trial, best loss: -0.998]"
     ]
    },
    {
     "name": "stderr",
     "output_type": "stream",
     "text": [
      "2024/08/13 13:13:48 INFO mlflow.tracking._tracking_service.client: 🏃 View run sassy-stag-284 at: http://127.0.0.1:5000/#/experiments/2/runs/21f90c4f50204c6a882e6582c6ff855a.\n",
      "\n",
      "2024/08/13 13:13:48 INFO mlflow.tracking._tracking_service.client: 🧪 View experiment at: http://127.0.0.1:5000/#/experiments/2.\n",
      "\n"
     ]
    },
    {
     "name": "stdout",
     "output_type": "stream",
     "text": [
      " 80%|████████  | 8/10 [00:25<00:06,  3.05s/trial, best loss: -0.998]"
     ]
    },
    {
     "name": "stderr",
     "output_type": "stream",
     "text": [
      "2024/08/13 13:13:53 WARNING mlflow.models.model: Input example should be provided to infer model signature if the model signature is not provided when logging the model.\n",
      "\n"
     ]
    },
    {
     "name": "stdout",
     "output_type": "stream",
     "text": [
      "Default artifacts URI: '/home/maldu/dscience/projects/fraud_detection/experiments/artifacts_local/2/7c2bd8efba4e4eb591f62023efb1b6c3/artifacts'\n",
      " 80%|████████  | 8/10 [00:31<00:06,  3.05s/trial, best loss: -0.998]"
     ]
    },
    {
     "name": "stderr",
     "output_type": "stream",
     "text": [
      "2024/08/13 13:13:53 INFO mlflow.tracking._tracking_service.client: 🏃 View run traveling-cow-158 at: http://127.0.0.1:5000/#/experiments/2/runs/7c2bd8efba4e4eb591f62023efb1b6c3.\n",
      "\n",
      "2024/08/13 13:13:53 INFO mlflow.tracking._tracking_service.client: 🧪 View experiment at: http://127.0.0.1:5000/#/experiments/2.\n",
      "\n"
     ]
    },
    {
     "name": "stdout",
     "output_type": "stream",
     "text": [
      " 90%|█████████ | 9/10 [00:31<00:03,  3.92s/trial, best loss: -0.998]"
     ]
    },
    {
     "name": "stderr",
     "output_type": "stream",
     "text": [
      "2024/08/13 13:13:56 WARNING mlflow.models.model: Input example should be provided to infer model signature if the model signature is not provided when logging the model.\n",
      "\n"
     ]
    },
    {
     "name": "stdout",
     "output_type": "stream",
     "text": [
      "Default artifacts URI: '/home/maldu/dscience/projects/fraud_detection/experiments/artifacts_local/2/10812e31a9ab4d2aa8709c3037f70cbd/artifacts'\n",
      " 90%|█████████ | 9/10 [00:33<00:03,  3.92s/trial, best loss: -0.998]"
     ]
    },
    {
     "name": "stderr",
     "output_type": "stream",
     "text": [
      "2024/08/13 13:13:56 INFO mlflow.tracking._tracking_service.client: 🏃 View run stately-deer-491 at: http://127.0.0.1:5000/#/experiments/2/runs/10812e31a9ab4d2aa8709c3037f70cbd.\n",
      "\n",
      "2024/08/13 13:13:56 INFO mlflow.tracking._tracking_service.client: 🧪 View experiment at: http://127.0.0.1:5000/#/experiments/2.\n",
      "\n"
     ]
    },
    {
     "name": "stdout",
     "output_type": "stream",
     "text": [
      "100%|██████████| 10/10 [00:34<00:00,  3.40s/trial, best loss: -0.998]\n"
     ]
    }
   ],
   "source": [
    "trials = Trials()\n",
    "\n",
    "best = fmin(\n",
    "    fn=objective,\n",
    "    space=search_space,\n",
    "    algo=tpe.suggest,\n",
    "    max_evals=10,  \n",
    "    trials=trials\n",
    ")"
   ]
  },
  {
   "cell_type": "code",
   "execution_count": 7,
   "metadata": {},
   "outputs": [
    {
     "name": "stdout",
     "output_type": "stream",
     "text": [
      "Best hyperparameters: {'bootstrap': 0, 'ccp_alpha': 0.09764165713133799, 'criterion': 1, 'max_depth': 45.0, 'max_features': 1, 'min_samples_leaf': 4.0, 'min_samples_split': 12, 'n_estimators': 130.0}\n"
     ]
    }
   ],
   "source": [
    "print(f\"Best hyperparameters: {best}\")"
   ]
  }
 ],
 "metadata": {
  "kernelspec": {
   "display_name": "fraud_detection-I9haicwR",
   "language": "python",
   "name": "python3"
  },
  "language_info": {
   "codemirror_mode": {
    "name": "ipython",
    "version": 3
   },
   "file_extension": ".py",
   "mimetype": "text/x-python",
   "name": "python",
   "nbconvert_exporter": "python",
   "pygments_lexer": "ipython3",
   "version": "3.10.12"
  }
 },
 "nbformat": 4,
 "nbformat_minor": 2
}
