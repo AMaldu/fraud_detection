{
 "cells": [
  {
   "cell_type": "code",
   "execution_count": null,
   "metadata": {},
   "outputs": [],
   "source": [
<<<<<<< HEAD
    "## This is a checker, a new one one one more one"
=======
    "## This is a checker"
>>>>>>> 1d8803765613298a66eea31bc32de0bda1d48f2a
   ]
  }
 ],
 "metadata": {
  "language_info": {
   "name": "python"
  }
 },
 "nbformat": 4,
 "nbformat_minor": 2
}
