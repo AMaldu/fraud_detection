{
 "cells": [
  {
   "cell_type": "markdown",
   "metadata": {},
   "source": [
    "# Multivariate analysis"
   ]
  },
  {
   "cell_type": "markdown",
   "metadata": {},
   "source": [
    "The objective of this notebook is to analyze how multiple variables interact simultaneously."
   ]
  },
  {
   "cell_type": "code",
   "execution_count": 1,
   "metadata": {},
   "outputs": [
    {
     "name": "stdout",
     "output_type": "stream",
     "text": [
      "src added to sys.path: /home/maldu/dscience/projects/fraud_detection/src\n"
     ]
    }
   ],
   "source": [
    "import pandas as pd\n",
    "import matplotlib.pyplot as plt\n",
    "import seaborn as sns\n",
    "import numpy as np\n",
    "from scipy.stats import mannwhitneyu, chi2_contingency, ks_2samp, anderson\n",
    "import statsmodels.api as sm\n",
    "from statsmodels.formula.api import ols\n",
    "import category_encoders as ce\n",
    "\n",
    "import os\n",
    "import sys \n",
    "import warnings\n",
    "import pickle\n",
    "import config\n",
    "from IPython.display import Image\n",
    "\n",
    "from utils import load_from_pickle, save_to_pickle\n",
    "\n",
    "warnings.filterwarnings(\"ignore\")\n",
    "\n",
    "images_directory = 'images/images_multivar_analysis'\n",
    "os.makedirs(images_directory, exist_ok=True)\n",
    "\n",
    "pickle_directory = 'variables/variables_multivar_analysis'\n",
    "os.makedirs(pickle_directory, exist_ok=True)"
   ]
  },
  {
   "cell_type": "code",
   "execution_count": 3,
   "metadata": {},
   "outputs": [
    {
     "data": {
      "text/html": [
       "<div>\n",
       "<style scoped>\n",
       "    .dataframe tbody tr th:only-of-type {\n",
       "        vertical-align: middle;\n",
       "    }\n",
       "\n",
       "    .dataframe tbody tr th {\n",
       "        vertical-align: top;\n",
       "    }\n",
       "\n",
       "    .dataframe thead th {\n",
       "        text-align: right;\n",
       "    }\n",
       "</style>\n",
       "<table border=\"1\" class=\"dataframe\">\n",
       "  <thead>\n",
       "    <tr style=\"text-align: right;\">\n",
       "      <th></th>\n",
       "      <th>step</th>\n",
       "      <th>type</th>\n",
       "      <th>amount</th>\n",
       "      <th>nameOrig</th>\n",
       "      <th>oldbalanceOrig</th>\n",
       "      <th>newbalanceOrig</th>\n",
       "      <th>nameDest</th>\n",
       "      <th>oldbalanceDest</th>\n",
       "      <th>newbalanceDest</th>\n",
       "      <th>isFraud</th>\n",
       "      <th>day_of_month</th>\n",
       "      <th>amount_range</th>\n",
       "      <th>diffbalanceOrig</th>\n",
       "      <th>diffbalanceDest</th>\n",
       "    </tr>\n",
       "  </thead>\n",
       "  <tbody>\n",
       "    <tr>\n",
       "      <th>0</th>\n",
       "      <td>1</td>\n",
       "      <td>PAYMENT</td>\n",
       "      <td>9839.639648</td>\n",
       "      <td>C1231006815</td>\n",
       "      <td>170136.0</td>\n",
       "      <td>160296.359375</td>\n",
       "      <td>M1979787155</td>\n",
       "      <td>0.0</td>\n",
       "      <td>0.0</td>\n",
       "      <td>no_fraud</td>\n",
       "      <td>1</td>\n",
       "      <td>1.000-10.000</td>\n",
       "      <td>-9839.640625</td>\n",
       "      <td>0.0</td>\n",
       "    </tr>\n",
       "    <tr>\n",
       "      <th>1</th>\n",
       "      <td>1</td>\n",
       "      <td>PAYMENT</td>\n",
       "      <td>1864.280029</td>\n",
       "      <td>C1666544295</td>\n",
       "      <td>21249.0</td>\n",
       "      <td>19384.720703</td>\n",
       "      <td>M2044282225</td>\n",
       "      <td>0.0</td>\n",
       "      <td>0.0</td>\n",
       "      <td>no_fraud</td>\n",
       "      <td>1</td>\n",
       "      <td>1.000-10.000</td>\n",
       "      <td>-1864.279297</td>\n",
       "      <td>0.0</td>\n",
       "    </tr>\n",
       "    <tr>\n",
       "      <th>2</th>\n",
       "      <td>1</td>\n",
       "      <td>TRANSFER</td>\n",
       "      <td>181.000000</td>\n",
       "      <td>C1305486145</td>\n",
       "      <td>181.0</td>\n",
       "      <td>0.000000</td>\n",
       "      <td>C553264065</td>\n",
       "      <td>0.0</td>\n",
       "      <td>0.0</td>\n",
       "      <td>fraud</td>\n",
       "      <td>1</td>\n",
       "      <td>0-1.000</td>\n",
       "      <td>-181.000000</td>\n",
       "      <td>0.0</td>\n",
       "    </tr>\n",
       "    <tr>\n",
       "      <th>3</th>\n",
       "      <td>1</td>\n",
       "      <td>CASH_OUT</td>\n",
       "      <td>181.000000</td>\n",
       "      <td>C840083671</td>\n",
       "      <td>181.0</td>\n",
       "      <td>0.000000</td>\n",
       "      <td>C38997010</td>\n",
       "      <td>21182.0</td>\n",
       "      <td>0.0</td>\n",
       "      <td>fraud</td>\n",
       "      <td>1</td>\n",
       "      <td>0-1.000</td>\n",
       "      <td>-181.000000</td>\n",
       "      <td>-21182.0</td>\n",
       "    </tr>\n",
       "    <tr>\n",
       "      <th>4</th>\n",
       "      <td>1</td>\n",
       "      <td>PAYMENT</td>\n",
       "      <td>11668.139648</td>\n",
       "      <td>C2048537720</td>\n",
       "      <td>41554.0</td>\n",
       "      <td>29885.859375</td>\n",
       "      <td>M1230701703</td>\n",
       "      <td>0.0</td>\n",
       "      <td>0.0</td>\n",
       "      <td>no_fraud</td>\n",
       "      <td>1</td>\n",
       "      <td>10.000-100.000</td>\n",
       "      <td>-11668.140625</td>\n",
       "      <td>0.0</td>\n",
       "    </tr>\n",
       "  </tbody>\n",
       "</table>\n",
       "</div>"
      ],
      "text/plain": [
       "   step      type        amount     nameOrig  oldbalanceOrig  newbalanceOrig  \\\n",
       "0     1   PAYMENT   9839.639648  C1231006815        170136.0   160296.359375   \n",
       "1     1   PAYMENT   1864.280029  C1666544295         21249.0    19384.720703   \n",
       "2     1  TRANSFER    181.000000  C1305486145           181.0        0.000000   \n",
       "3     1  CASH_OUT    181.000000   C840083671           181.0        0.000000   \n",
       "4     1   PAYMENT  11668.139648  C2048537720         41554.0    29885.859375   \n",
       "\n",
       "      nameDest  oldbalanceDest  newbalanceDest   isFraud  day_of_month  \\\n",
       "0  M1979787155             0.0             0.0  no_fraud             1   \n",
       "1  M2044282225             0.0             0.0  no_fraud             1   \n",
       "2   C553264065             0.0             0.0     fraud             1   \n",
       "3    C38997010         21182.0             0.0     fraud             1   \n",
       "4  M1230701703             0.0             0.0  no_fraud             1   \n",
       "\n",
       "     amount_range  diffbalanceOrig  diffbalanceDest  \n",
       "0    1.000-10.000     -9839.640625              0.0  \n",
       "1    1.000-10.000     -1864.279297              0.0  \n",
       "2         0-1.000      -181.000000              0.0  \n",
       "3         0-1.000      -181.000000         -21182.0  \n",
       "4  10.000-100.000    -11668.140625              0.0  "
      ]
     },
     "execution_count": 3,
     "metadata": {},
     "output_type": "execute_result"
    }
   ],
   "source": [
    "data = pd.read_parquet('../data/silver/df_fraud_bivar.parquet', engine= 'fastparquet')\n",
    "data.head()"
   ]
  },
  {
   "cell_type": "markdown",
   "metadata": {},
   "source": [
    "nameorig con fraud con type"
   ]
  },
  {
   "cell_type": "code",
   "execution_count": 4,
   "metadata": {},
   "outputs": [],
   "source": [
    "boxplot_filename = 'boxplot_nameOrig_vs_fraud_and_type.png'\n",
    "boxplot_filepath = os.path.join(images_directory, boxplot_filename)\n",
    "\n",
    "if not os.path.isfile(boxplot_filepath):\n",
    "    plt.figure(figsize=(12, 6))\n",
    "    sns.boxplot(x='type', y='nameOrig', hue='isFraud', data=data, palette='pastel')\n",
    "    plt.title('Box Plot of nameOrig by Fraud Status and Type')\n",
    "    plt.xlabel('Type')\n",
    "    plt.ylabel('nameOrig')\n",
    "    plt.tight_layout()\n",
    "    plt.savefig(boxplot_filepath)\n",
    "    plt.close()\n",
    "\n",
    "Image(filename=boxplot_filepath)"
   ]
  },
  {
   "cell_type": "markdown",
   "metadata": {},
   "source": [
    "nameorig con fraud ambiguo con type de transaction...son robadas?"
   ]
  },
  {
   "cell_type": "code",
   "execution_count": null,
   "metadata": {},
   "outputs": [],
   "source": []
  },
  {
   "cell_type": "markdown",
   "metadata": {},
   "source": [
    "estudiar los balances con 0 euros con type"
   ]
  },
  {
   "cell_type": "code",
   "execution_count": null,
   "metadata": {},
   "outputs": [],
   "source": []
  },
  {
   "cell_type": "markdown",
   "metadata": {},
   "source": [
    "estudiar oldbalanceorig = 0 cuando es fraud y el amount_range"
   ]
  },
  {
   "cell_type": "code",
   "execution_count": null,
   "metadata": {},
   "outputs": [],
   "source": []
  },
  {
   "cell_type": "markdown",
   "metadata": {},
   "source": [
    "estudiar oldbalanceorig = 0 cuando es fraud y el type"
   ]
  },
  {
   "cell_type": "code",
   "execution_count": null,
   "metadata": {},
   "outputs": [],
   "source": []
  },
  {
   "cell_type": "code",
   "execution_count": null,
   "metadata": {},
   "outputs": [],
   "source": []
  },
  {
   "cell_type": "code",
   "execution_count": null,
   "metadata": {},
   "outputs": [],
   "source": []
  },
  {
   "cell_type": "code",
   "execution_count": null,
   "metadata": {},
   "outputs": [],
   "source": []
  }
 ],
 "metadata": {
  "kernelspec": {
   "display_name": "fraud_detection-I9haicwR",
   "language": "python",
   "name": "python3"
  },
  "language_info": {
   "codemirror_mode": {
    "name": "ipython",
    "version": 3
   },
   "file_extension": ".py",
   "mimetype": "text/x-python",
   "name": "python",
   "nbconvert_exporter": "python",
   "pygments_lexer": "ipython3",
   "version": "3.10.12"
  }
 },
 "nbformat": 4,
 "nbformat_minor": 2
}
