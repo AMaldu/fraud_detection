{
 "cells": [
  {
   "cell_type": "markdown",
   "metadata": {},
   "source": [
    "# Bivariate analysis"
   ]
  },
  {
   "cell_type": "markdown",
   "metadata": {},
   "source": [
    "\n",
    "The objective of this notebook is to analyze each variable vs. the target to understand patterns, associations, and potential causal relationships between the variables."
   ]
  },
  {
   "cell_type": "code",
   "execution_count": 2,
   "metadata": {},
   "outputs": [],
   "source": [
    "import pandas as pd\n",
    "import matplotlib.pyplot as plt\n",
    "import seaborn as sns\n",
    "import numpy as np\n",
    "from scipy.stats import mannwhitneyu, chi2_contingency, ks_2samp\n",
    "import category_encoders as ce\n",
    "import os\n",
    "import warnings\n",
    "from IPython.display import Image\n",
    "\n",
    "warnings.filterwarnings(\"ignore\")\n",
    "\n",
    "base_directory = 'images/images_bivar_analysis'\n",
    "os.makedirs(base_directory, exist_ok=True)"
   ]
  },
  {
   "cell_type": "code",
   "execution_count": 3,
   "metadata": {},
   "outputs": [
    {
     "data": {
      "text/html": [
       "<div>\n",
       "<style scoped>\n",
       "    .dataframe tbody tr th:only-of-type {\n",
       "        vertical-align: middle;\n",
       "    }\n",
       "\n",
       "    .dataframe tbody tr th {\n",
       "        vertical-align: top;\n",
       "    }\n",
       "\n",
       "    .dataframe thead th {\n",
       "        text-align: right;\n",
       "    }\n",
       "</style>\n",
       "<table border=\"1\" class=\"dataframe\">\n",
       "  <thead>\n",
       "    <tr style=\"text-align: right;\">\n",
       "      <th></th>\n",
       "      <th>step</th>\n",
       "      <th>type</th>\n",
       "      <th>amount</th>\n",
       "      <th>nameOrig</th>\n",
       "      <th>oldbalanceOrig</th>\n",
       "      <th>newbalanceOrig</th>\n",
       "      <th>nameDest</th>\n",
       "      <th>oldbalanceDest</th>\n",
       "      <th>newbalanceDest</th>\n",
       "      <th>isFraud</th>\n",
       "      <th>day_of_month</th>\n",
       "      <th>amount_range</th>\n",
       "    </tr>\n",
       "  </thead>\n",
       "  <tbody>\n",
       "    <tr>\n",
       "      <th>0</th>\n",
       "      <td>1</td>\n",
       "      <td>PAYMENT</td>\n",
       "      <td>9839.639648</td>\n",
       "      <td>C1231006815</td>\n",
       "      <td>170136.0</td>\n",
       "      <td>160296.359375</td>\n",
       "      <td>M1979787155</td>\n",
       "      <td>0.0</td>\n",
       "      <td>0.0</td>\n",
       "      <td>no_fraud</td>\n",
       "      <td>1</td>\n",
       "      <td>1.000-10.000</td>\n",
       "    </tr>\n",
       "    <tr>\n",
       "      <th>1</th>\n",
       "      <td>1</td>\n",
       "      <td>PAYMENT</td>\n",
       "      <td>1864.280029</td>\n",
       "      <td>C1666544295</td>\n",
       "      <td>21249.0</td>\n",
       "      <td>19384.720703</td>\n",
       "      <td>M2044282225</td>\n",
       "      <td>0.0</td>\n",
       "      <td>0.0</td>\n",
       "      <td>no_fraud</td>\n",
       "      <td>1</td>\n",
       "      <td>1.000-10.000</td>\n",
       "    </tr>\n",
       "    <tr>\n",
       "      <th>2</th>\n",
       "      <td>1</td>\n",
       "      <td>TRANSFER</td>\n",
       "      <td>181.000000</td>\n",
       "      <td>C1305486145</td>\n",
       "      <td>181.0</td>\n",
       "      <td>0.000000</td>\n",
       "      <td>C553264065</td>\n",
       "      <td>0.0</td>\n",
       "      <td>0.0</td>\n",
       "      <td>fraud</td>\n",
       "      <td>1</td>\n",
       "      <td>0-1.000</td>\n",
       "    </tr>\n",
       "    <tr>\n",
       "      <th>3</th>\n",
       "      <td>1</td>\n",
       "      <td>CASH_OUT</td>\n",
       "      <td>181.000000</td>\n",
       "      <td>C840083671</td>\n",
       "      <td>181.0</td>\n",
       "      <td>0.000000</td>\n",
       "      <td>C38997010</td>\n",
       "      <td>21182.0</td>\n",
       "      <td>0.0</td>\n",
       "      <td>fraud</td>\n",
       "      <td>1</td>\n",
       "      <td>0-1.000</td>\n",
       "    </tr>\n",
       "    <tr>\n",
       "      <th>4</th>\n",
       "      <td>1</td>\n",
       "      <td>PAYMENT</td>\n",
       "      <td>11668.139648</td>\n",
       "      <td>C2048537720</td>\n",
       "      <td>41554.0</td>\n",
       "      <td>29885.859375</td>\n",
       "      <td>M1230701703</td>\n",
       "      <td>0.0</td>\n",
       "      <td>0.0</td>\n",
       "      <td>no_fraud</td>\n",
       "      <td>1</td>\n",
       "      <td>10.000-100.000</td>\n",
       "    </tr>\n",
       "  </tbody>\n",
       "</table>\n",
       "</div>"
      ],
      "text/plain": [
       "   step      type        amount     nameOrig  oldbalanceOrig  newbalanceOrig  \\\n",
       "0     1   PAYMENT   9839.639648  C1231006815        170136.0   160296.359375   \n",
       "1     1   PAYMENT   1864.280029  C1666544295         21249.0    19384.720703   \n",
       "2     1  TRANSFER    181.000000  C1305486145           181.0        0.000000   \n",
       "3     1  CASH_OUT    181.000000   C840083671           181.0        0.000000   \n",
       "4     1   PAYMENT  11668.139648  C2048537720         41554.0    29885.859375   \n",
       "\n",
       "      nameDest  oldbalanceDest  newbalanceDest   isFraud  day_of_month  \\\n",
       "0  M1979787155             0.0             0.0  no_fraud             1   \n",
       "1  M2044282225             0.0             0.0  no_fraud             1   \n",
       "2   C553264065             0.0             0.0     fraud             1   \n",
       "3    C38997010         21182.0             0.0     fraud             1   \n",
       "4  M1230701703             0.0             0.0  no_fraud             1   \n",
       "\n",
       "     amount_range  \n",
       "0    1.000-10.000  \n",
       "1    1.000-10.000  \n",
       "2         0-1.000  \n",
       "3         0-1.000  \n",
       "4  10.000-100.000  "
      ]
     },
     "execution_count": 3,
     "metadata": {},
     "output_type": "execute_result"
    }
   ],
   "source": [
    "data = pd.read_parquet('../data/silver/df_fraud_univar.parquet', engine= 'fastparquet')\n",
    "data.head()"
   ]
  },
  {
   "cell_type": "markdown",
   "metadata": {},
   "source": [
    "## step & day_of_month vs. isFraud"
   ]
  },
  {
   "cell_type": "markdown",
   "metadata": {},
   "source": [
    "I use the Mann-Whitney U Test because the variable 'step' doesn't follow a normal distribution. This test is robust in front of unbalanced data."
   ]
  },
  {
   "cell_type": "code",
   "execution_count": null,
   "metadata": {},
   "outputs": [],
   "source": [
    "group1 = data[data['isFraud'] == 'fraud']['step']\n",
    "group2 = data[data['isFraud'] == 'no_fraud']['step']\n",
    "\n",
    "stat, p_value = mannwhitneyu(group1, group2)\n",
    "\n",
    "print(f\"Mann-Whitney U Statistic: {stat}\")\n",
    "print(f\"P-Value: {p_value}\")"
   ]
  },
  {
   "cell_type": "markdown",
   "metadata": {},
   "source": [
    "- p-value = 0 so there is a significative statistical difference of 'step' between the two catories of 'isFraud'. The variable 'step' behaves differently in each group.\n",
    "\n",
    "- Mann-Whitney U Statistic: 34829829709.5. The range between both groups is very huge. \n",
    "\n",
    "But as we saw in the univariate analysis our independent variable is VERY unbalanced and this can affect statistical results with any test:\n",
    "\n",
    "isFraud\n",
    "- no_fraud    6354407\n",
    "- fraud          8213\n",
    "\n",
    "isFraud\n",
    "- no_fraud    99.871%\n",
    "- fraud        0.129%\n",
    "\n",
    "Making more than one test is always useful when having very unbalanced data. The Kolmogorov-Smirnov Test can be useful when we can't assume normality in unbalanced dataset. "
   ]
  },
  {
   "cell_type": "code",
   "execution_count": null,
   "metadata": {},
   "outputs": [],
   "source": [
    "ks_stat, ks_p_value = ks_2samp(group1, group2)\n",
    "\n",
    "print(f\"KS Statistic: {ks_stat}\")\n",
    "print(f\"P-Value: {ks_p_value}\")"
   ]
  },
  {
   "cell_type": "markdown",
   "metadata": {},
   "source": [
    "- KS Statistic = 0.38 means that there is a difference of the 38% in some point of the CDF (Cumulative Distribution Function) = clear discrepancy between distributions\n",
    "\n",
    "- p-value = 0, same conclusion as before"
   ]
  },
  {
   "cell_type": "code",
   "execution_count": null,
   "metadata": {},
   "outputs": [],
   "source": [
    "filename = 'freq_of_step_in_total_transactions.png'\n",
    "plot_filename = os.path.join(base_directory, filename)\n",
    "\n",
    "if not os.path.isfile(plot_filename):\n",
    "\n",
    "    total_value_counts = data['step'].value_counts().sort_index()\n",
    "    fraud_value_counts = data[data['isFraud'] == 'fraud']['step'].value_counts().sort_index()\n",
    "    non_fraud_value_counts = data[data['isFraud'] == 'no_fraud']['step'].value_counts().sort_index()\n",
    "\n",
    "    fig, axes = plt.subplots(nrows=3, ncols=1, figsize=(15, 20), sharex=True)\n",
    "\n",
    "    titles = [\n",
    "        \"Frequency of Steps in Total Transactions\", \n",
    "        \"Frequency of Steps in Fraudulent Transactions\", \n",
    "        \"Frequency of Steps in Non-Fraudulent Transactions\"\n",
    "    ]\n",
    "    colors = ['#00008B', '#8B0000', '#006400']\n",
    "    counts_list = [total_value_counts, fraud_value_counts, non_fraud_value_counts]\n",
    "\n",
    "    for ax, counts, title, color in zip(axes, counts_list, titles, colors):\n",
    "        ax.plot(counts.index, counts, marker='o', color=color, linestyle='-', markersize=6)\n",
    "        ax.set_title(title)\n",
    "        ax.set_xlabel(\"Step\")\n",
    "        ax.set_ylabel(\"Frequency\")\n",
    "        ax.grid(True, which='both', linestyle='--', linewidth=0.7)\n",
    "        ax.set_xticks(np.arange(min(counts.index), max(counts.index) + 1, 24)) \n",
    "        ax.set_xticks(np.arange(min(counts.index), max(counts.index) + 1, 1), minor=True)  \n",
    "        ax.tick_params(axis='x', which='minor', length=3, color='grey')\n",
    "\n",
    "    plt.tight_layout()\n",
    "    plt.savefig(plot_filename)  \n",
    "    plt.close(fig)  \n",
    "\n",
    "Image(filename=plot_filename)"
   ]
  },
  {
   "cell_type": "code",
   "execution_count": null,
   "metadata": {},
   "outputs": [],
   "source": [
    "#TODO - fix x axis and x labels (de 24 en 24)"
   ]
  },
  {
   "cell_type": "markdown",
   "metadata": {},
   "source": [
    "Observations:\n",
    "\n",
    "For context, 1 step represents 1 hour. The total range of hour data is equivalent to a month. \n",
    "\n",
    "Non-fraudulent transactions vary over time, fraudulent transactions remain constant.\n",
    "\n",
    "\n",
    "Non-fraudulent transactions happen inside defined step ranges and slow down when the step is a bit higher than 400 (15 days aprox). \n",
    "- The first step range makes sense since people get their salaries at the beginning of the month. \n",
    "- The second step range, as I said in the univariate analysis notebook doesn't make sense to me. In this case it would be helpful to know, for example, which month of the year it is to understand if there is any special event in the middle of the month that made people use more transactions.\n",
    "- There is a gap between the first 48 and 120 hours. It would be interesting to get more information about the month, year, country from where the transaction was sent/received. Was it a bank holiday so people would be on holidays? \n",
    "\n",
    "Fraudulent transactions stay constant along the step range. That means fraudsters behaviour stays constant all over the month. \n",
    "- There is also a step with very high frequency between the steps 193 and 217.\n",
    "- Fraudsters usually take very short time to process the transaction so it would be also nice to obtain data about the amount of time spent on the merchants website, the time used by the client to confirm the transaction (short times can indicate that a bot is actually using the platform), etc.\n",
    "\n",
    "---\n",
    "\n",
    "What is happening in the very frequent step? How is the relationship between that step and fraud?"
   ]
  },
  {
   "cell_type": "code",
   "execution_count": null,
   "metadata": {},
   "outputs": [],
   "source": [
    "contingency_table = pd.crosstab(data['step'], data['isFraud'])\n",
    "contingency_table['total'] = contingency_table['fraud'] + contingency_table['no_fraud']\n",
    "contingency_table['fraud_proportion'] = (contingency_table['fraud'] / contingency_table['total']) * 100\n",
    "\n",
    "contingency_table.loc[(contingency_table.index > 193) & (contingency_table.index < 220)]"
   ]
  },
  {
   "cell_type": "markdown",
   "metadata": {},
   "source": [
    "Observations:\n",
    "\n",
    "There are far more fraudulent transactions on the step 212. 212 steps = 8 days + 20h.\n",
    "- Why so many people are commiting fraud that day? Why at that time? Was it a coincidence? \n",
    "- Was it Black Friday or maybe another special day where a website makes offers?\n",
    "Time to ask what could have happened here from a business perspective and check the characteristics of those transactions.\n",
    "\n",
    "\n",
    "The are also other picks on the fraudulent transactions that could be analysed along the gaps of days between them even though the amount of fraud transactions are very constant over time. \n",
    "\n",
    "\n",
    "----\n",
    "\n",
    "Are night transactions more likely to be fraudulent? "
   ]
  },
  {
   "cell_type": "code",
   "execution_count": null,
   "metadata": {},
   "outputs": [],
   "source": [
    "time_data = data[['step', 'day_of_month', 'isFraud']].copy()\n",
    "time_data['hour_of_day'] = data['step'] % 24\n",
    "time_data"
   ]
  },
  {
   "cell_type": "code",
   "execution_count": null,
   "metadata": {},
   "outputs": [],
   "source": [
    "count_hours = time_data.groupby(['hour_of_day']).agg(\n",
    "    count_fraud=pd.NamedAgg(column='isFraud', aggfunc=lambda x: (x == 'fraud').sum()),\n",
    "    count_no_fraud=pd.NamedAgg(column='isFraud', aggfunc=lambda x: (x == 'no_fraud').sum())\n",
    "    \n",
    ").reset_index()\n",
    "\n",
    "count_hours    "
   ]
  },
  {
   "cell_type": "code",
   "execution_count": null,
   "metadata": {},
   "outputs": [],
   "source": [
    "plt.figure(figsize=(8, 5))\n",
    "sns.lineplot(data=count_hours, x='hour_of_day', y='count_fraud', marker='o')\n",
    "plt.xlabel('Step')\n",
    "plt.ylabel('Count of Fraud')\n",
    "plt.title('Average of Fraud over Time Steps')\n",
    "plt.grid()\n",
    "plt.show()"
   ]
  },
  {
   "cell_type": "code",
   "execution_count": null,
   "metadata": {},
   "outputs": [],
   "source": [
    "plt.figure(figsize=(8, 5))\n",
    "sns.lineplot(data=count_hours, x='hour_of_day', y='count_no_fraud', marker='o')\n",
    "plt.xlabel('Step')\n",
    "plt.ylabel('Count of Fraud')\n",
    "plt.title('Average of Fraud over Time Steps')\n",
    "plt.grid()\n",
    "plt.show()"
   ]
  },
  {
   "cell_type": "markdown",
   "metadata": {},
   "source": [
    "Observations: \n",
    "\n",
    "The fraudulent transactions stay constant, the non-fraudulent transactions go down during the night.\n",
    "\n",
    "---\n",
    "Let's check the distribution of the column \"day_of_the_month\""
   ]
  },
  {
   "cell_type": "code",
   "execution_count": null,
   "metadata": {},
   "outputs": [],
   "source": [
    "contingency_table = pd.crosstab(data['day_of_month'], data['isFraud'])\n",
    "contingency_table['total'] = contingency_table['fraud'] + contingency_table['no_fraud']\n",
    "contingency_table['fraud_proportion'] = (contingency_table['fraud'] / contingency_table['total']) * 100\n",
    "contingency_table"
   ]
  },
  {
   "cell_type": "code",
   "execution_count": null,
   "metadata": {},
   "outputs": [],
   "source": [
    "contingency_table = time_data.groupby(['day_of_month', 'isFraud'], observed=True).size().unstack(fill_value=0)\n",
    "# Calcular proporciones\n",
    "proportions = contingency_table.div(contingency_table.sum(axis=1), axis=0) * 100\n",
    "\n",
    "# Crear el gráfico de barras apiladas\n",
    "plt.figure(figsize=(12, 6))\n",
    "\n",
    "# Trazar las barras apiladas con proporciones\n",
    "proportions.plot(kind='bar', stacked=True, color=['#ff9999', '#66b3ff'], ax=plt.gca())\n",
    "\n",
    "# Configuración del gráfico\n",
    "plt.title('Proportions of Fraud and No Fraud by Day of Month', fontsize=16)\n",
    "plt.xlabel('Day of Month', fontsize=14)\n",
    "plt.ylabel('Proportion (%)', fontsize=14)\n",
    "plt.xticks(rotation=45)\n",
    "plt.legend(title='isFraud', title_fontsize='13', fontsize='11')\n",
    "plt.tight_layout()\n",
    "\n",
    "plt.show()"
   ]
  },
  {
   "cell_type": "markdown",
   "metadata": {},
   "source": [
    "Observations:\n",
    "\n",
    "- The last day of the month has only fraudulent transactions. Curious, right? I would need more info about the context but it looks like it's a coincidence.\n",
    "- In the same days where non fraudulent transactions (remember we had the hypothesis that it would may be )\n",
    "Besides that I don't see any clear pattern."
   ]
  },
  {
   "cell_type": "markdown",
   "metadata": {},
   "source": [
    "## type vs. isFraud"
   ]
  },
  {
   "cell_type": "code",
   "execution_count": null,
   "metadata": {},
   "outputs": [],
   "source": [
    "contingency_table = pd.crosstab(data['type'], data['isFraud'])\n",
    "contingency_table"
   ]
  },
  {
   "cell_type": "markdown",
   "metadata": {},
   "source": [
    "Observations:\n",
    "\n",
    "The only types that have fraudulent transactions are CASH_OUT and TRANSFER and as we saw in the univariate analysis they are substantially less common"
   ]
  },
  {
   "cell_type": "code",
   "execution_count": null,
   "metadata": {},
   "outputs": [],
   "source": [
    "chi2, p, dof, expected = chi2_contingency(contingency_table)\n",
    "\n",
    "print(f\"Chi-Square Statistic: {chi2}\")\n",
    "print(f\"P-Value: {p}\")\n",
    "print(f\"Degrees of Freedom: {dof}\")\n",
    "print(\"Expected Frequencies:\")\n",
    "print(expected)"
   ]
  },
  {
   "cell_type": "markdown",
   "metadata": {},
   "source": [
    "Observations:\n",
    "\n",
    "- Chi-Square Statistic: 317,577.50. Big discrepancy between frequencies\n",
    "- p-value: 0. Very likely that the observed asociation is random.\n",
    "\n",
    "There are very low frequencies on the contingency table so I will apply the Monte Carlo aproximation on the Chi-square test\n"
   ]
  },
  {
   "cell_type": "code",
   "execution_count": null,
   "metadata": {},
   "outputs": [],
   "source": [
    "contingency_table = pd.crosstab(data['day_of_month'], data['isFraud'])\n",
    "\n",
    "# Calcular el estadístico chi-cuadrado y el valor p observado\n",
    "chi2_observed, _, _, _ = chi2_contingency(contingency_table)\n",
    "\n",
    "# Función para simular una tabla de contingencia bajo la hipótesis nula\n",
    "def simulate_contingency_table(observed_table):\n",
    "    # Total número de observaciones\n",
    "    total = observed_table.sum().sum()\n",
    "    # Proporciones marginales\n",
    "    row_totals = observed_table.sum(axis=1)\n",
    "    col_totals = observed_table.sum(axis=0)\n",
    "    \n",
    "    # Generar la tabla simulada\n",
    "    expected_frequencies = np.outer(row_totals, col_totals) / total\n",
    "    simulated_table = np.random.multinomial(total, expected_frequencies.flatten()/total).reshape(observed_table.shape)\n",
    "    \n",
    "    return pd.DataFrame(simulated_table, index=observed_table.index, columns=observed_table.columns)\n",
    "\n",
    "# Número de simulaciones\n",
    "num_simulations = 10000\n",
    "chi2_simulated = []\n",
    "\n",
    "# Realizar las simulaciones\n",
    "for _ in range(num_simulations):\n",
    "    simulated_table = simulate_contingency_table(contingency_table)\n",
    "    chi2_sim, _, _, _ = chi2_contingency(simulated_table)\n",
    "    chi2_simulated.append(chi2_sim)\n",
    "\n",
    "# Convertir a un array numpy para el cálculo\n",
    "chi2_simulated = np.array(chi2_simulated)\n",
    "\n",
    "# Calcular el valor p\n",
    "p_value = np.mean(chi2_simulated >= chi2_observed)\n",
    "\n",
    "# Imprimir los resultados\n",
    "print(f\"Chi-Square Statistic observed: {chi2_observed}\")\n",
    "print(f\"P-Value (Simulated): {p_value}\")"
   ]
  },
  {
   "cell_type": "markdown",
   "metadata": {},
   "source": [
    "Observations: \n",
    "\n",
    "I reject hypothesis 0. \n"
   ]
  },
  {
   "cell_type": "code",
   "execution_count": null,
   "metadata": {},
   "outputs": [],
   "source": [
    "sns.countplot(x='type', hue='isFraud', data=data, palette = 'pastel')\n",
    "\n",
    "plt.xlabel('Type')\n",
    "plt.ylabel('Count')\n",
    "plt.title('Count Plot of Type by Fraud Status')\n",
    "plt.grid()\n",
    "plt.show()"
   ]
  },
  {
   "cell_type": "markdown",
   "metadata": {},
   "source": [
    "## amount vs. isFraud"
   ]
  },
  {
   "cell_type": "code",
   "execution_count": null,
   "metadata": {},
   "outputs": [],
   "source": [
    "data"
   ]
  },
  {
   "cell_type": "code",
   "execution_count": null,
   "metadata": {},
   "outputs": [],
   "source": [
    "contingency_table = pd.crosstab(data['amount_range'], data['isFraud'])\n",
    "contingency_table"
   ]
  },
  {
   "cell_type": "code",
   "execution_count": null,
   "metadata": {},
   "outputs": [],
   "source": [
    "chi2, p, dof, expected = chi2_contingency(contingency_table)\n",
    "\n",
    "print(f\"Chi-Square Statistic: {chi2}\")\n",
    "print(f\"P-Value: {p}\")\n",
    "print(f\"Degrees of Freedom: {dof}\")\n",
    "print(\"Expected Frequencies:\")\n",
    "print(expected)"
   ]
  },
  {
   "cell_type": "code",
   "execution_count": 4,
   "metadata": {},
   "outputs": [
    {
     "data": {
      "image/png": "[encoded data removed]",
      "text/plain": [
       "<Figure size 1000x600 with 1 Axes>"
      ]
     },
     "metadata": {},
     "output_type": "display_data"
    }
   ],
   "source": [
    "plt.figure(figsize=(10, 6))\n",
    "segmented_bar = sns.histplot(\n",
    "    data=data,\n",
    "    x=\"amount_range\", \n",
    "    hue=\"isFraud\", \n",
    "    multiple=\"fill\", \n",
    "    shrink=0.8,\n",
    "    palette = 'pastel'\n",
    "    \n",
    ")\n",
    "plt.xticks(rotation=45)\n",
    "segmented_bar.set(ylabel=\"Proportion\")\n",
    "plt.title('Segmented Bar Chart of Fraud by Amount Range')\n",
    "plt.show()"
   ]
  },
  {
   "cell_type": "code",
   "execution_count": null,
   "metadata": {},
   "outputs": [],
   "source": [
    "data.query('amount == 0')"
   ]
  },
  {
   "cell_type": "markdown",
   "metadata": {},
   "source": [
    "Observations:\n",
    "\n",
    "Withrawals with amount = 0 are fraudulent, none of them is repeated and they have been used to try to withdraw money. We could analyze the origin and destination users and see their behaviour. One example could be using the postal code, the IP data, the account age, etc. to find hidden patterns."
   ]
  },
  {
   "cell_type": "code",
   "execution_count": 8,
   "metadata": {},
   "outputs": [
    {
     "name": "stderr",
     "output_type": "stream",
     "text": [
      "/tmp/ipykernel_20906/426625421.py:6: FutureWarning: \n",
      "\n",
      "Passing `palette` without assigning `hue` is deprecated and will be removed in v0.14.0. Assign the `x` variable to `hue` and set `legend=False` for the same effect.\n",
      "\n",
      "  boxplot = sns.boxplot(x='isFraud', y='amount', data=data, palette='pastel')\n"
     ]
    },
    {
     "name": "stdout",
     "output_type": "stream",
     "text": [
      "Stats 0: [127091.328125      0.      ]\n",
      "Stats 1: [1517771.5 3595911.5]\n",
      "Stats 2: [0. 0.]\n",
      "Stats 3: [3595911.5 3595911.5]\n",
      "Stats 4: [441423.4375 441423.4375]\n",
      "Stats 5: [10000000.   10000000.    5460003.    5460003.    3964130.    3964130.\n",
      "  4022667.5   4022667.5   6188515.    6188515.   10000000.   10000000.\n",
      "  3832058.25  3832058.25  5021186.5   5021186.5  10000000.   10000000.\n",
      "  9887819.    9887819.    6648390.    6648390.    3606943.25  3606943.25\n",
      "  9465989.    9465989.    5979556.    5979556.    7567170.5   7567170.5\n",
      "  7937954.    7937954.    6188772.5   6188772.5   5032484.5   5032484.5\n",
      "  5188875.5   5188875.5   4919642.5   4919642.5   7335355.5   7335355.5\n",
      "  9977761.    9977761.    5489302.    5489302.    7484125.    7484125.\n",
      "  3640271.25  3640271.25  4243468.    4243468.    6501303.    6501303.\n",
      "  7108914.    7108914.    3904257.5   3904257.5   3857176.75  3857176.75\n",
      "  3760068.    3760068.    7169130.    7169130.    4631432.    4631432.\n",
      "  5800988.    5800988.    7728992.5   7728992.5   5521483.5   5521483.5\n",
      "  3786438.    3786438.   10000000.   10000000.    8594065.    8594065.\n",
      "  4375931.5   4375931.5   4582074.5   4582074.5   9039247.    9039247.\n",
      "  5715004.5   5715004.5   5338583.5   5338583.5  10000000.   10000000.\n",
      " 10000000.   10000000.    4830219.    4830219.    8924972.    8924972.\n",
      " 10000000.   10000000.    8931608.    8931608.    6972165.    6972165.\n",
      "  9345700.    9345700.    4022408.75  4022408.75  3607917.75  3607917.75\n",
      "  7696836.5   7696836.5   3723738.    3723738.    8775594.    8775594.\n",
      " 10000000.   10000000.    8267760.5   8267760.5   4454632.5   4454632.5\n",
      "  4589441.5   4589441.5   7060217.    7060217.    4032691.25  4032691.25\n",
      " 10000000.   10000000.    3794763.75  3794763.75  6351930.5   6351930.5\n",
      "  9639053.    9639053.    8097183.    8097183.    5245375.5   5245375.5\n",
      "  6910927.    6910927.    4483869.    4483869.   10000000.   10000000.\n",
      "  7476725.5   7476725.5   3735525.    3735525.   10000000.   10000000.\n",
      "  3892156.25  3892156.25  7563537.    7563537.    4400458.    4400458.\n",
      "  6168077.5   6168077.5   7068115.5   7068115.5   7114590.    7114590.\n",
      "  3733104.    3733104.    7188425.    7188425.    5477272.5   5477272.5\n",
      "  4738282.5   4738282.5  10000000.   10000000.   10000000.   10000000.\n",
      " 10000000.   10000000.    7670038.    7670038.    8720558.    8720558.\n",
      " 10000000.   10000000.    5820137.5   5820137.5   8327328.5   8327328.5\n",
      "  7513581.5   7513581.5   7246962.    7246962.    6302889.    6302889.\n",
      "  6501296.5   6501296.5   8594500.    8594500.    3608191.5   3608191.5\n",
      "  8186519.    8186519.    5363595.    5363595.    4354175.5   4354175.5\n",
      "  8607090.    8607090.    8142605.5   8142605.5   7196174.5   7196174.5\n",
      "  3671853.75  3671853.75  5777706.5   5777706.5  10000000.   10000000.\n",
      "  7197532.5   7197532.5   7620549.    7620549.    3644234.    3644234.\n",
      "  7482670.    7482670.    5393290.5   5393290.5   4644693.    4644693.\n",
      "  5903046.5   5903046.5   3864609.5   3864609.5   4815187.    4815187.\n",
      "  7044228.    7044228.    5689516.    5689516.    3640983.75  3640983.75\n",
      " 10000000.   10000000.   10000000.   10000000.   10000000.   10000000.\n",
      "  4953893.    5131896.    5131896.    3996798.75  3996798.75  9453681.\n",
      "  9453681.    7983958.5   7983958.5   8752000.    8752000.    9960382.\n",
      "  9960382.    4075956.5   4075956.5  10000000.   10000000.    4526748.5\n",
      "  4526748.5  10000000.   10000000.    3774746.    3774746.    6029387.5\n",
      "  6029387.5   4121986.5   4121986.5  10000000.   10000000.   10000000.\n",
      " 10000000.    3924102.25  3924102.25 10000000.   10000000.    5274773.5\n",
      "  5274773.5   5044147.5   5044147.5   4252657.    4252657.    4448599.\n",
      "  4448599.   10000000.   10000000.    4011314.    4011314.    3879669.75\n",
      "  3879669.75  4720555.    4720555.   10000000.   10000000.   10000000.\n",
      " 10000000.   10000000.   10000000.   10000000.   10000000.    8276235.5\n",
      "  8276235.5   9811104.    9811104.    6262506.    6262506.    8274021.\n",
      "  8274021.   10000000.   10000000.    8332003.    8332003.    5039827.5\n",
      "  5039827.5   3929113.25  3929113.25  5721872.    5721872.   10000000.\n",
      " 10000000.   10000000.   10000000.    5494863.    5494863.   10000000.\n",
      " 10000000.    5926745.5   5926745.5   5141770.    5141770.    3738575.\n",
      "  3738575.    4574247.    4574247.    5052211.    5052211.    4162556.\n",
      "  4162556.   10000000.   10000000.   10000000.   10000000.   10000000.\n",
      " 10000000.    5393228.    5393228.    4452001.    4452001.    6249266.\n",
      "  6249266.    7109454.    7109454.    3731378.25  3731378.25  7809302.\n",
      "  7809302.    4531343.5   4531343.5  10000000.   10000000.    5591414.5\n",
      "  5591414.5   5591648.    5591648.    5166729.    5166729.   10000000.\n",
      " 10000000.   10000000.   10000000.    5614246.    5614246.   10000000.\n",
      " 10000000.    4262592.5   4262592.5  10000000.   10000000.    6647156.\n",
      "  6647156.    5239429.    5239429.    8589704.    8589704.    6558088.\n",
      "  6558088.   10000000.   10000000.    6580428.    6580428.    5818863.\n",
      "  5818863.    3972969.    3972969.    4713935.5   4713935.5   7748802.\n",
      "  7748802.    4895343.5   4895343.5   8950011.    8950011.    9208369.\n",
      "  9208369.    7596887.    7596887.    6546019.    6546019.    9198460.\n",
      "  9198460.    5903457.5   5903457.5   4896179.5   4896179.5   4677359.\n",
      "  4677359.    8994287.    8994287.    7445821.    7445821.    5963850.5\n",
      "  5963850.5   6417789.    6417789.    4129483.    4129483.    9772559.\n",
      "  9772559.    6721321.5   6721321.5   7454553.    7454553.   10000000.\n",
      " 10000000.    9299230.    9299230.    5338163.    5338163.    5952739.5\n",
      "  5952739.5   4177467.5   4177467.5  10000000.   10000000.    5656417.\n",
      "  5656417.   10000000.   10000000.    7428844.5   7428844.5  10000000.\n",
      " 10000000.    7677120.5   7677120.5   6513531.5   6513531.5   7703574.5\n",
      "  7703574.5   4841332.5   4841332.5   5807352.    5807352.   10000000.\n",
      " 10000000.    5464727.    5464727.    4294676.    4294676.    8317724.5\n",
      "  8317724.5   4445514.    4445514.    4104942.75  4104942.75  4961093.\n",
      "  4961093.    4731372.    4731372.    6063657.    6063657.   10000000.\n",
      " 10000000.   10000000.   10000000.   10000000.   10000000.   10000000.\n",
      " 10000000.   10000000.   10000000.   10000000.   10000000.    4892193.\n",
      " 10000000.   10000000.   10000000.   10000000.    9110884.    9110884.\n",
      "  6703831.5   6703831.5   5658123.5   5658123.5   9060955.    9060955.\n",
      "  4525901.    4525901.    4559921.5   4559921.5   9725837.    9725837.\n",
      " 10000000.   10000000.   10000000.   10000000.    5618180.    5618180.\n",
      "  4309298.5   4309298.5   5096946.5   5096946.5   4598090.    4598090.\n",
      "  4481768.5   4481768.5   5838803.    5838803.    4257337.5   4257337.5\n",
      " 10000000.   10000000.   10000000.   10000000.    4160888.    4160888.\n",
      " 10000000.   10000000.    4737833.5   4737833.5  10000000.   10000000.\n",
      " 10000000.   10000000.    9033761.    9033761.    4900487.    4900487.\n",
      " 10000000.   10000000.    6370727.    6370727.    8536151.    8536151.\n",
      "  4602636.5   4602636.5  10000000.   10000000.   10000000.   10000000.\n",
      " 10000000.   10000000.   10000000.   10000000.    5455966.    5455966.\n",
      "  5475018.5   5475018.5  10000000.   10000000.   10000000.   10000000.\n",
      " 10000000.   10000000.   10000000.   10000000.   10000000.    9585040.\n",
      "  4892226.    4892226.    3890628.    3890628.    3718503.25  3718503.25\n",
      "  4152987.    4152987.    4135944.25  4135944.25  8006429.    8006429.\n",
      "  4626269.5   4626269.5   3653274.25  3653274.25  3947541.25  3947541.25\n",
      " 10000000.   10000000.   10000000.   10000000.    4339822.    4339822.\n",
      " 10000000.   10000000.    5049594.5   5049594.5  10000000.   10000000.\n",
      "  5429154.    5429154.   10000000.   10000000.   10000000.   10000000.\n",
      "  3752520.5   3752520.5   7782452.    7782452.    3965182.75  3965182.75\n",
      " 10000000.   10000000.    9228514.    9228514.    7578130.5   7578130.5\n",
      "  4017973.    4017973.   10000000.   10000000.    6273660.5   6273660.5\n",
      "  4342582.5   4342582.5   4152436.    4152436.    4640633.5   4640633.5\n",
      "  4690770.    4690770.    4364760.5   4364760.5   4417192.    4417192.\n",
      " 10000000.   10000000.    6484527.    6484527.    6646879.5   6646879.5\n",
      "  9639525.    9639525.    6669495.5   6669495.5   7576324.5   7576324.5\n",
      "  4505012.5   4505012.5   5363795.5   5363795.5   7515624.5   7515624.5\n",
      "  3641525.75  3641525.75  7078157.    7078157.    3642569.25  3642569.25\n",
      " 10000000.   10000000.    3695430.    3695430.   10000000.   10000000.\n",
      "  9593839.    9593839.    6183238.5   6183238.5   9301213.    9301213.\n",
      " 10000000.   10000000.    8020192.    8020192.    4758181.    4758181.\n",
      "  4553004.5   4553004.5  10000000.   10000000.    7041719.5   7041719.5\n",
      " 10000000.   10000000.    7239987.    7239987.    8991626.    8991626.\n",
      " 10000000.   10000000.    5912204.    5912204.   10000000.   10000000.\n",
      " 10000000.   10000000.    4993939.    4993939.    5469911.    5469911.\n",
      "  5087422.    5087422.    7603589.5   7603589.5   4623764.5   4623764.5\n",
      " 10000000.   10000000.    5999377.    5999377.    6392801.    6392801.\n",
      "  3707342.5   3707342.5  10000000.   10000000.    5512595.    5512595.\n",
      "  7469051.    7469051.    5166393.5   5166393.5   3774777.75  3774777.75\n",
      " 10000000.   10000000.   10000000.   10000000.   10000000.   10000000.\n",
      "  9421857.    9421857.    6324300.    6324300.    8208916.    8208916.\n",
      "  3968964.5   3968964.5   7365107.    7365107.    4961014.    4961014.\n",
      "  6274752.5   6274752.5   6106149.5   6106149.5   8286342.5   8286342.5\n",
      " 10000000.   10000000.   10000000.   10000000.   10000000.   10000000.\n",
      "  4863106.5   4863106.5   5566368.    5566368.    7363709.    7363709.\n",
      "  4099382.25  4099382.25  4672401.    4672401.    3973479.5   3973479.5\n",
      "  6575903.    6575903.    4716307.5   4716307.5  10000000.   10000000.\n",
      "  4212683.    4212683.    8931551.    8931551.    7240966.    7240966.\n",
      " 10000000.   10000000.   10000000.   10000000.   10000000.   10000000.\n",
      " 10000000.   10000000.    6961359.    6961359.    6038051.    6038051.\n",
      " 10000000.   10000000.    6870369.5   6870369.5  10000000.   10000000.\n",
      "  8488866.    8488866.   10000000.   10000000.    4128853.75  4128853.75\n",
      "  9168748.    9168748.    3845765.25  3845765.25  7788725.    7788725.\n",
      "  5101856.    5101856.    4222595.    4222595.    4438932.    4438932.\n",
      " 10000000.   10000000.   10000000.   10000000.    6468916.5   6468916.5\n",
      " 10000000.   10000000.   10000000.   10000000.   10000000.   10000000.\n",
      " 10000000.   10000000.   10000000.    4480592.    4480592.    9996887.\n",
      "  9996887.    9468064.    9468064.    8730601.    8730601.    6695071.\n",
      "  6695071.   10000000.   10000000.    7807640.    7807640.    5652739.5\n",
      "  5652739.5   7539166.    7539166.    4022098.75  4022098.75  5388834.5\n",
      "  5388834.5  10000000.   10000000.   10000000.   10000000.   10000000.\n",
      " 10000000.   10000000.   10000000.    7218629.    7218629.   10000000.\n",
      " 10000000.    6250439.    6250439.   10000000.   10000000.    5016884.5\n",
      "  5016884.5  10000000.   10000000.    9295454.    9295454.   10000000.\n",
      " 10000000.   10000000.   10000000.    8104558.    8104558.    6545346.\n",
      "  6545346.   10000000.   10000000.    4886423.    4886423.    6295010.5\n",
      "  6295010.5   7442005.    7442005.    6174385.5   6174385.5   3887853.25\n",
      "  3887853.25  6856104.    6856104.   10000000.   10000000.   10000000.\n",
      " 10000000.    8980854.    8980854.    5175876.5   5175876.5   7435751.5\n",
      "  7435751.5  10000000.   10000000.    9097680.    9097680.    8537861.\n",
      "  8537861.   10000000.   10000000.   10000000.   10000000.   10000000.\n",
      " 10000000.    6498297.5   6498297.5   8813323.    8813323.   10000000.\n",
      " 10000000.   10000000.   10000000.   10000000.   10000000.    7418265.5\n",
      "  7418265.5   4130371.75  4130371.75 10000000.   10000000.    8443529.\n",
      "  8443529.    6426126.5   6426126.5   6512846.5   6512846.5  10000000.\n",
      " 10000000.    9749043.    9749043.    6219566.5   6219566.5   6199009.\n",
      "  6199009.    6377401.    6377401.    6322400.    6322400.    3846781.\n",
      "  3846781.   10000000.   10000000.   10000000.   10000000.   10000000.\n",
      " 10000000.   10000000.   10000000.   10000000.    7316255.   10000000.\n",
      " 10000000.   10000000.   10000000.    3912252.75  3912252.75  7758036.5\n",
      "  7758036.5  10000000.   10000000.   10000000.   10000000.   10000000.\n",
      " 10000000.   10000000.   10000000.    5674548.    4009058.5   4009058.5\n",
      "  6311409.5   6311409.5 ]\n",
      "Stats 6: [1.33683950e+04 9.99999978e-03]\n",
      "Stats 7: [208364.765625 500859.0625  ]\n",
      "Stats 8: [0.01 0.01]\n",
      "Stats 9: [500859.0625 500859.0625]\n",
      "Stats 10: [74684.71875 74684.71875]\n",
      "Stats 11: [1505626.      554027.      761507.375  ...  655985.125   711796.25\n",
      "  735585.8125]\n"
     ]
    },
    {
     "data": {
      "image/png": "[encoded data removed]",
      "text/plain": [
       "<Figure size 1200x600 with 1 Axes>"
      ]
     },
     "metadata": {},
     "output_type": "display_data"
    },
    {
     "ename": "FileNotFoundError",
     "evalue": "[Errno 2] No such file or directory: 'images/images_bivar_analysis/amount_boxplot.png'",
     "output_type": "error",
     "traceback": [
      "\u001b[0;31m---------------------------------------------------------------------------\u001b[0m",
      "\u001b[0;31mFileNotFoundError\u001b[0m                         Traceback (most recent call last)",
      "Cell \u001b[0;32mIn[8], line 26\u001b[0m\n\u001b[1;32m     22\u001b[0m     plt\u001b[38;5;241m.\u001b[39mgrid(\u001b[38;5;28;01mTrue\u001b[39;00m)\n\u001b[1;32m     23\u001b[0m     plt\u001b[38;5;241m.\u001b[39mshow()\n\u001b[0;32m---> 26\u001b[0m \u001b[43mImage\u001b[49m\u001b[43m(\u001b[49m\u001b[43mfilename\u001b[49m\u001b[38;5;241;43m=\u001b[39;49m\u001b[43mplot_filename\u001b[49m\u001b[43m)\u001b[49m\n",
      "File \u001b[0;32m~/.local/share/virtualenvs/fraud_detection-I9haicwR/lib/python3.10/site-packages/IPython/core/display.py:970\u001b[0m, in \u001b[0;36mImage.__init__\u001b[0;34m(self, data, url, filename, format, embed, width, height, retina, unconfined, metadata, alt)\u001b[0m\n\u001b[1;32m    968\u001b[0m \u001b[38;5;28mself\u001b[39m\u001b[38;5;241m.\u001b[39munconfined \u001b[38;5;241m=\u001b[39m unconfined\n\u001b[1;32m    969\u001b[0m \u001b[38;5;28mself\u001b[39m\u001b[38;5;241m.\u001b[39malt \u001b[38;5;241m=\u001b[39m alt\n\u001b[0;32m--> 970\u001b[0m \u001b[38;5;28;43msuper\u001b[39;49m\u001b[43m(\u001b[49m\u001b[43mImage\u001b[49m\u001b[43m,\u001b[49m\u001b[43m \u001b[49m\u001b[38;5;28;43mself\u001b[39;49m\u001b[43m)\u001b[49m\u001b[38;5;241;43m.\u001b[39;49m\u001b[38;5;21;43m__init__\u001b[39;49m\u001b[43m(\u001b[49m\u001b[43mdata\u001b[49m\u001b[38;5;241;43m=\u001b[39;49m\u001b[43mdata\u001b[49m\u001b[43m,\u001b[49m\u001b[43m \u001b[49m\u001b[43murl\u001b[49m\u001b[38;5;241;43m=\u001b[39;49m\u001b[43murl\u001b[49m\u001b[43m,\u001b[49m\u001b[43m \u001b[49m\u001b[43mfilename\u001b[49m\u001b[38;5;241;43m=\u001b[39;49m\u001b[43mfilename\u001b[49m\u001b[43m,\u001b[49m\n\u001b[1;32m    971\u001b[0m \u001b[43m        \u001b[49m\u001b[43mmetadata\u001b[49m\u001b[38;5;241;43m=\u001b[39;49m\u001b[43mmetadata\u001b[49m\u001b[43m)\u001b[49m\n\u001b[1;32m    973\u001b[0m \u001b[38;5;28;01mif\u001b[39;00m \u001b[38;5;28mself\u001b[39m\u001b[38;5;241m.\u001b[39mwidth \u001b[38;5;129;01mis\u001b[39;00m \u001b[38;5;28;01mNone\u001b[39;00m \u001b[38;5;129;01mand\u001b[39;00m \u001b[38;5;28mself\u001b[39m\u001b[38;5;241m.\u001b[39mmetadata\u001b[38;5;241m.\u001b[39mget(\u001b[38;5;124m'\u001b[39m\u001b[38;5;124mwidth\u001b[39m\u001b[38;5;124m'\u001b[39m, {}):\n\u001b[1;32m    974\u001b[0m     \u001b[38;5;28mself\u001b[39m\u001b[38;5;241m.\u001b[39mwidth \u001b[38;5;241m=\u001b[39m metadata[\u001b[38;5;124m'\u001b[39m\u001b[38;5;124mwidth\u001b[39m\u001b[38;5;124m'\u001b[39m]\n",
      "File \u001b[0;32m~/.local/share/virtualenvs/fraud_detection-I9haicwR/lib/python3.10/site-packages/IPython/core/display.py:327\u001b[0m, in \u001b[0;36mDisplayObject.__init__\u001b[0;34m(self, data, url, filename, metadata)\u001b[0m\n\u001b[1;32m    324\u001b[0m \u001b[38;5;28;01melif\u001b[39;00m \u001b[38;5;28mself\u001b[39m\u001b[38;5;241m.\u001b[39mmetadata \u001b[38;5;129;01mis\u001b[39;00m \u001b[38;5;28;01mNone\u001b[39;00m:\n\u001b[1;32m    325\u001b[0m     \u001b[38;5;28mself\u001b[39m\u001b[38;5;241m.\u001b[39mmetadata \u001b[38;5;241m=\u001b[39m {}\n\u001b[0;32m--> 327\u001b[0m \u001b[38;5;28;43mself\u001b[39;49m\u001b[38;5;241;43m.\u001b[39;49m\u001b[43mreload\u001b[49m\u001b[43m(\u001b[49m\u001b[43m)\u001b[49m\n\u001b[1;32m    328\u001b[0m \u001b[38;5;28mself\u001b[39m\u001b[38;5;241m.\u001b[39m_check_data()\n",
      "File \u001b[0;32m~/.local/share/virtualenvs/fraud_detection-I9haicwR/lib/python3.10/site-packages/IPython/core/display.py:1005\u001b[0m, in \u001b[0;36mImage.reload\u001b[0;34m(self)\u001b[0m\n\u001b[1;32m   1003\u001b[0m \u001b[38;5;250m\u001b[39m\u001b[38;5;124;03m\"\"\"Reload the raw data from file or URL.\"\"\"\u001b[39;00m\n\u001b[1;32m   1004\u001b[0m \u001b[38;5;28;01mif\u001b[39;00m \u001b[38;5;28mself\u001b[39m\u001b[38;5;241m.\u001b[39membed:\n\u001b[0;32m-> 1005\u001b[0m     \u001b[38;5;28;43msuper\u001b[39;49m\u001b[43m(\u001b[49m\u001b[43mImage\u001b[49m\u001b[43m,\u001b[49m\u001b[38;5;28;43mself\u001b[39;49m\u001b[43m)\u001b[49m\u001b[38;5;241;43m.\u001b[39;49m\u001b[43mreload\u001b[49m\u001b[43m(\u001b[49m\u001b[43m)\u001b[49m\n\u001b[1;32m   1006\u001b[0m     \u001b[38;5;28;01mif\u001b[39;00m \u001b[38;5;28mself\u001b[39m\u001b[38;5;241m.\u001b[39mretina:\n\u001b[1;32m   1007\u001b[0m         \u001b[38;5;28mself\u001b[39m\u001b[38;5;241m.\u001b[39m_retina_shape()\n",
      "File \u001b[0;32m~/.local/share/virtualenvs/fraud_detection-I9haicwR/lib/python3.10/site-packages/IPython/core/display.py:353\u001b[0m, in \u001b[0;36mDisplayObject.reload\u001b[0;34m(self)\u001b[0m\n\u001b[1;32m    351\u001b[0m \u001b[38;5;28;01mif\u001b[39;00m \u001b[38;5;28mself\u001b[39m\u001b[38;5;241m.\u001b[39mfilename \u001b[38;5;129;01mis\u001b[39;00m \u001b[38;5;129;01mnot\u001b[39;00m \u001b[38;5;28;01mNone\u001b[39;00m:\n\u001b[1;32m    352\u001b[0m     encoding \u001b[38;5;241m=\u001b[39m \u001b[38;5;28;01mNone\u001b[39;00m \u001b[38;5;28;01mif\u001b[39;00m \u001b[38;5;124m\"\u001b[39m\u001b[38;5;124mb\u001b[39m\u001b[38;5;124m\"\u001b[39m \u001b[38;5;129;01min\u001b[39;00m \u001b[38;5;28mself\u001b[39m\u001b[38;5;241m.\u001b[39m_read_flags \u001b[38;5;28;01melse\u001b[39;00m \u001b[38;5;124m\"\u001b[39m\u001b[38;5;124mutf-8\u001b[39m\u001b[38;5;124m\"\u001b[39m\n\u001b[0;32m--> 353\u001b[0m     \u001b[38;5;28;01mwith\u001b[39;00m \u001b[38;5;28;43mopen\u001b[39;49m\u001b[43m(\u001b[49m\u001b[38;5;28;43mself\u001b[39;49m\u001b[38;5;241;43m.\u001b[39;49m\u001b[43mfilename\u001b[49m\u001b[43m,\u001b[49m\u001b[43m \u001b[49m\u001b[38;5;28;43mself\u001b[39;49m\u001b[38;5;241;43m.\u001b[39;49m\u001b[43m_read_flags\u001b[49m\u001b[43m,\u001b[49m\u001b[43m \u001b[49m\u001b[43mencoding\u001b[49m\u001b[38;5;241;43m=\u001b[39;49m\u001b[43mencoding\u001b[49m\u001b[43m)\u001b[49m \u001b[38;5;28;01mas\u001b[39;00m f:\n\u001b[1;32m    354\u001b[0m         \u001b[38;5;28mself\u001b[39m\u001b[38;5;241m.\u001b[39mdata \u001b[38;5;241m=\u001b[39m f\u001b[38;5;241m.\u001b[39mread()\n\u001b[1;32m    355\u001b[0m \u001b[38;5;28;01melif\u001b[39;00m \u001b[38;5;28mself\u001b[39m\u001b[38;5;241m.\u001b[39murl \u001b[38;5;129;01mis\u001b[39;00m \u001b[38;5;129;01mnot\u001b[39;00m \u001b[38;5;28;01mNone\u001b[39;00m:\n\u001b[1;32m    356\u001b[0m     \u001b[38;5;66;03m# Deferred import\u001b[39;00m\n",
      "\u001b[0;31mFileNotFoundError\u001b[0m: [Errno 2] No such file or directory: 'images/images_bivar_analysis/amount_boxplot.png'"
     ]
    }
   ],
   "source": [
    "filename = 'amount_boxplot.png'\n",
    "plot_filename = os.path.join(base_directory, filename)\n",
    "    \n",
    "if not os.path.isfile(plot_filename):\n",
    "    plt.figure(figsize=(12, 6))\n",
    "    boxplot = sns.boxplot(x='isFraud', y='amount', data=data, palette='pastel')\n",
    "\n",
    "    def get_boxplot_stats(boxplot):\n",
    "        stats = []\n",
    "        for line in boxplot.get_lines():\n",
    "            stats.append(line.get_ydata())\n",
    "        return stats\n",
    "\n",
    "    boxplot_stats = get_boxplot_stats(boxplot)\n",
    "\n",
    "    for i, stat in enumerate(boxplot_stats):\n",
    "        print(f'Stats {i}: {stat}')\n",
    "\n",
    "    plt.title('Boxplot of Amount by Fraud Status')\n",
    "    plt.xlabel('Fraud Status')\n",
    "    plt.ylabel('Amount')\n",
    "    plt.grid(True)\n",
    "    plt.show()\n",
    "\n",
    "\n",
    "Image(filename=plot_filename)\n"
   ]
  },
  {
   "cell_type": "code",
   "execution_count": null,
   "metadata": {},
   "outputs": [],
   "source": [
    "small_amounts = data.query('amount < 40000')\n",
    "small_amounts"
   ]
  },
  {
   "cell_type": "code",
   "execution_count": null,
   "metadata": {},
   "outputs": [],
   "source": [
    "%store small_amounts"
   ]
  },
  {
   "cell_type": "code",
   "execution_count": null,
   "metadata": {},
   "outputs": [],
   "source": [
    "small_amounts['isFraud'].value_counts()"
   ]
  },
  {
   "cell_type": "code",
   "execution_count": null,
   "metadata": {},
   "outputs": [],
   "source": [
    "small_amounts['isFraud'].value_counts(normalize=True).mul(100).apply(lambda x: f'{x:.3f}%')"
   ]
  },
  {
   "cell_type": "markdown",
   "metadata": {},
   "source": [
    "Observations:\n",
    "\n",
    "The percentage of fraudulent transactions in small transactions is 0.033%, the percentage of fraud in the full dataset is 0.129%. "
   ]
  },
  {
   "cell_type": "code",
   "execution_count": null,
   "metadata": {},
   "outputs": [],
   "source": [
    "more_4k_amounts = data.query('400000 < amount')"
   ]
  },
  {
   "cell_type": "code",
   "execution_count": null,
   "metadata": {},
   "outputs": [],
   "source": [
    "%store more_4k_amounts"
   ]
  },
  {
   "cell_type": "code",
   "execution_count": null,
   "metadata": {},
   "outputs": [],
   "source": [
    "more_4k_amounts['isFraud'].value_counts()"
   ]
  },
  {
   "cell_type": "code",
   "execution_count": null,
   "metadata": {},
   "outputs": [],
   "source": [
    "more_4k_amounts['isFraud'].value_counts(normalize=True).mul(100).apply(lambda x: f'{x:.3f}%')"
   ]
  },
  {
   "cell_type": "markdown",
   "metadata": {},
   "source": [
    "Observations:\n",
    "\n",
    "No visible relationship, let's dive deeper into bigger accounts"
   ]
  },
  {
   "cell_type": "code",
   "execution_count": null,
   "metadata": {},
   "outputs": [],
   "source": [
    "is_cached = False\n",
    "try:\n",
    "    %store -r repeated_amounts\n",
    "    is_cached = True\n",
    "except NameError:\n",
    "    is_cached = False\n",
    "\n",
    "if is_cached:\n",
    "    print(\"The DataFrame is already stored in cache\")\n",
    "else:\n",
    "    print(\"DataFrame not found. Calculating...\")\n",
    "\n",
    "    repeated_rows = data[data.duplicated('amount', keep=False) & (data['amount'] != 0)]\n",
    "\n",
    "    repeated_amounts = (repeated_rows.groupby('amount')\n",
    "                    .agg(count_is_not_Fraud=('isFraud', lambda x: (x == 'no_fraud').sum()),\n",
    "                            count_isFraud=('isFraud', lambda x: (x == 'fraud').sum()),\n",
    "                            percentage_is_not_Fraud=('isFraud', lambda x: round((x == 'no_fraud').mean() * 100, 2)),\n",
    "                            percentage_isFraud=('isFraud', lambda x: round((x == 'fraud').mean() * 100, 2)))\n",
    "                    .reset_index())\n",
    "\n",
    "    %store repeated_amounts\n",
    "\n",
    "repeated_amounts"
   ]
  },
  {
   "cell_type": "code",
   "execution_count": null,
   "metadata": {},
   "outputs": [],
   "source": [
    "repeated_amounts[(repeated_amounts['amount'] > 60) & (repeated_amounts['amount'] < 80)]"
   ]
  },
  {
   "cell_type": "code",
   "execution_count": null,
   "metadata": {},
   "outputs": [],
   "source": [
    "data.query('amount == 38.439999')"
   ]
  },
  {
   "cell_type": "code",
   "execution_count": null,
   "metadata": {},
   "outputs": [],
   "source": [
    "plt.figure(figsize=(12, 6))\n",
    "sns.swarmplot(x='isFraud', y='amount', data=data)\n",
    "plt.title('Violin Plot of Amount by Fraud Status')\n",
    "plt.xlabel('Fraud Status')\n",
    "plt.ylabel('Amount')\n",
    "plt.grid(True)\n",
    "plt.show()"
   ]
  },
  {
   "cell_type": "code",
   "execution_count": null,
   "metadata": {},
   "outputs": [],
   "source": [
    "is_cached = False\n",
    "\n",
    "try:\n",
    "    %store -r correlation\n",
    "    if 'integer_amounts' in locals():\n",
    "        is_cached = True\n",
    "except (NameError, KeyError):\n",
    "    is_cached = False\n",
    "\n",
    "if is_cached:\n",
    "    print(\"The integer amounts var is stored in cache\")\n",
    "else:\n",
    "    print(\"integer_amounts not found. Calculating...\")\n",
    "    integer_rows = data[data['amount'] == data['amount'].astype(int)]\n",
    "\n",
    "    integer_amounts = integer_rows.groupby('amount').apply(lambda x: pd.Series({\n",
    "        'count': x.shape[0],\n",
    "        'percentage_isFraud_0': (x['isFraud'] == 0).mean() * 100,\n",
    "        'percentage_isFraud_1': (x['isFraud'] == 1).mean() * 100\n",
    "    })).reset_index()\n",
    "    \n",
    "    %store integer_amounts\n",
    "    \n",
    "integer_amounts"
   ]
  },
  {
   "cell_type": "markdown",
   "metadata": {},
   "source": [
    "## nameOrig vs. isFraud"
   ]
  },
  {
   "cell_type": "markdown",
   "metadata": {},
   "source": [
    "From the univariate analysis we found that there were many transactions with the same amount. Let's check them"
   ]
  },
  {
   "cell_type": "code",
   "execution_count": null,
   "metadata": {},
   "outputs": [],
   "source": []
  },
  {
   "cell_type": "markdown",
   "metadata": {},
   "source": [
    "## oldbalanceOrig vs. isFraud"
   ]
  },
  {
   "cell_type": "markdown",
   "metadata": {},
   "source": [
    "## newbalanceOrig vs. isFraud"
   ]
  },
  {
   "cell_type": "markdown",
   "metadata": {},
   "source": [
    "---"
   ]
  },
  {
   "cell_type": "markdown",
   "metadata": {},
   "source": []
  },
  {
   "cell_type": "markdown",
   "metadata": {},
   "source": [
    "### Correlation"
   ]
  },
  {
   "cell_type": "code",
   "execution_count": null,
   "metadata": {},
   "outputs": [],
   "source": [
    "numerical_cols = data.select_dtypes(include=['float32', 'int16']).columns\n",
    "categorical_cols = data.select_dtypes(include=['object', 'category']).columns\n",
    "numerical_cols\n"
   ]
  },
  {
   "cell_type": "code",
   "execution_count": null,
   "metadata": {},
   "outputs": [],
   "source": [
    "is_cached = False\n",
    "\n",
    "try:\n",
    "    %store -r correlation\n",
    "    if 'correlation' in locals():\n",
    "        is_cached = True\n",
    "except (NameError, KeyError):\n",
    "    is_cached = False\n",
    "\n",
    "if is_cached:\n",
    "    print(\"The correlation matrix is stored in cache\")\n",
    "else:\n",
    "    print(\"Correlation matrix not found. Calculating...\")\n",
    "    \n",
    "    encoder = ce.TargetEncoder(cols=categorical_cols)\n",
    "    \n",
    "    target_col = numerical_cols[0]\n",
    "    \n",
    "    df_encoded = encoder.fit_transform(data, data[target_col])\n",
    "    correlation = df_encoded.corr()\n",
    "\n",
    "    %store correlation\n"
   ]
  },
  {
   "cell_type": "code",
   "execution_count": null,
   "metadata": {},
   "outputs": [],
   "source": [
    "correlation"
   ]
  },
  {
   "cell_type": "code",
   "execution_count": null,
   "metadata": {},
   "outputs": [],
   "source": [
    "plt.figure(figsize=(10, 8))\n",
    "sns.heatmap(correlation, annot=True, fmt=\".2f\", cmap='coolwarm', linewidths=0.5)\n",
    "plt.title('Heatmap of the correlation matrix')\n",
    "plt.show()"
   ]
  },
  {
   "cell_type": "code",
   "execution_count": null,
   "metadata": {},
   "outputs": [],
   "source": [
    "\n",
    "threshold = 0.9\n",
    "\n",
    "high_correlation_pairs = [(col1, col2) for col1 in correlation.columns for col2 in correlation.columns \n",
    "                          if col1 != col2 and abs(correlation.loc[col1, col2]) > threshold]\n",
    "\n",
    "variables_to_remove = set()\n",
    "for col1, col2 in high_correlation_pairs:\n",
    "    if col1 not in variables_to_remove and col2 not in variables_to_remove:\n",
    "        variables_to_remove.add(col2)\n",
    "\n",
    "print(f\"Variables to remove due to high correlation: {variables_to_remove}\")\n",
    "\n",
    "reduced_df = df_encoded.drop(columns=variables_to_remove)\n",
    "\n",
    "reduced_correlation = reduced_df.corr()\n",
    "plt.figure(figsize=(10, 8))\n",
    "sns.heatmap(reduced_correlation, annot=True, fmt=\".2f\", cmap='coolwarm', linewidths=0.5)\n",
    "plt.title('Heatmap of the Reduced Correlation Matrix')\n",
    "plt.show()"
   ]
  },
  {
   "cell_type": "code",
   "execution_count": null,
   "metadata": {},
   "outputs": [],
   "source": [
    "reduced_df.to_parquet('../data/gold/df_final.parquet', engine= 'fastparquet')"
   ]
  },
  {
   "cell_type": "code",
   "execution_count": null,
   "metadata": {},
   "outputs": [],
   "source": []
  }
 ],
 "metadata": {
  "kernelspec": {
   "display_name": "fraud_detection-I9haicwR",
   "language": "python",
   "name": "python3"
  },
  "language_info": {
   "codemirror_mode": {
    "name": "ipython",
    "version": 3
   },
   "file_extension": ".py",
   "mimetype": "text/x-python",
   "name": "python",
   "nbconvert_exporter": "python",
   "pygments_lexer": "ipython3",
   "version": "3.10.12"
  }
 },
 "nbformat": 4,
 "nbformat_minor": 2
}
