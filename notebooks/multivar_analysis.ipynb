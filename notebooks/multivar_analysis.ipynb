{
 "cells": [
  {
   "cell_type": "code",
   "execution_count": null,
   "metadata": {},
   "outputs": [],
   "source": []
  },
  {
   "cell_type": "code",
   "execution_count": null,
   "metadata": {},
   "outputs": [],
   "source": []
  },
  {
   "cell_type": "code",
   "execution_count": null,
   "metadata": {},
   "outputs": [],
   "source": []
  },
  {
   "cell_type": "code",
   "execution_count": null,
   "metadata": {},
   "outputs": [],
   "source": []
  },
  {
   "cell_type": "code",
   "execution_count": null,
   "metadata": {},
   "outputs": [],
   "source": []
  },
  {
   "cell_type": "code",
   "execution_count": null,
   "metadata": {},
   "outputs": [],
   "source": []
  },
  {
   "cell_type": "code",
   "execution_count": null,
   "metadata": {},
   "outputs": [],
   "source": [
    "corr"
   ]
  },
  {
   "cell_type": "code",
   "execution_count": null,
   "metadata": {},
   "outputs": [],
   "source": [
    "corr_df = df.copy()\n",
    "\n",
    "for col in corr_df.columns:\n",
    "    if corr_df[col].dtype == 'object':\n",
    "        corr_df[col] = pd.factorize(corr_df[col])[0]\n",
    "        print(f'The column to factorize is {col}, the number or unique values is : {corr_df[col].nunique()}')\n",
    "\n",
    "corr = corr_df.corr(method = 'pearson')\n",
    "plt.figure(figsize=(9, 7))\n",
    "sns.heatmap(corr, annot=True, cmap='coolwarm', annot_kws={\"size\": 8})\n",
    "plt.show()"
   ]
  },
  {
   "cell_type": "code",
   "execution_count": null,
   "metadata": {},
   "outputs": [],
   "source": [
    "Observations: \n",
    "\n",
    "- Step - nameOrig = 0.96\n",
    "- NewBalanceOrig - OldBalanceOrig = 1\n",
    "- NewBalanceDest - OlbalanceDest = 0.98\n",
    "\n",
    "There is high multicollinearity between these features. This issue will be managed later."
   ]
  }
 ],
 "metadata": {
  "kernelspec": {
   "display_name": "fraudvenv",
   "language": "python",
   "name": "python3"
  },
  "language_info": {
   "name": "python",
   "version": "3.11.7"
  }
 },
 "nbformat": 4,
 "nbformat_minor": 2
}
