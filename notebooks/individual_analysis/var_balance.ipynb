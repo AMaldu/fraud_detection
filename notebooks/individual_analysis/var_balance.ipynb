{
 "cells": [
  {
   "cell_type": "code",
   "execution_count": 1,
   "metadata": {},
   "outputs": [],
   "source": [
    "import pandas as pd\n",
    "import matplotlib.pyplot as plt\n",
    "import seaborn as sns\n",
    "from src.utils import pie_plot\n",
    "import numpy as np\n",
    "# diff balance in origin and dest "
   ]
  },
  {
   "cell_type": "markdown",
   "metadata": {},
   "source": [
    "## Balances in origin"
   ]
  },
  {
   "cell_type": "code",
   "execution_count": 3,
   "metadata": {},
   "outputs": [],
   "source": [
    "data = pd.read_csv('../../data/processed/fraud_viz_df.csv') \n"
   ]
  },
  {
   "cell_type": "code",
   "execution_count": 4,
   "metadata": {},
   "outputs": [],
   "source": [
    "subset_orig = data[[ 'amount', 'oldbalanceOrig', 'newbalanceOrig', 'isFraud']].copy()\n",
    "subset_orig['diffBalanceOrig'] = (subset_orig['oldbalanceOrig'] - subset_orig['newbalanceOrig']).round(2)\n"
   ]
  },
  {
   "cell_type": "code",
   "execution_count": 5,
   "metadata": {},
   "outputs": [
    {
     "data": {
      "text/html": [
       "<div>\n",
       "<style scoped>\n",
       "    .dataframe tbody tr th:only-of-type {\n",
       "        vertical-align: middle;\n",
       "    }\n",
       "\n",
       "    .dataframe tbody tr th {\n",
       "        vertical-align: top;\n",
       "    }\n",
       "\n",
       "    .dataframe thead th {\n",
       "        text-align: right;\n",
       "    }\n",
       "</style>\n",
       "<table border=\"1\" class=\"dataframe\">\n",
       "  <thead>\n",
       "    <tr style=\"text-align: right;\">\n",
       "      <th></th>\n",
       "      <th>amount</th>\n",
       "      <th>oldbalanceOrig</th>\n",
       "      <th>newbalanceOrig</th>\n",
       "      <th>diffBalanceOrig</th>\n",
       "    </tr>\n",
       "  </thead>\n",
       "  <tbody>\n",
       "    <tr>\n",
       "      <th>amount</th>\n",
       "      <td>1.000000</td>\n",
       "      <td>0.858859</td>\n",
       "      <td>0.338561</td>\n",
       "      <td>0.993904</td>\n",
       "    </tr>\n",
       "    <tr>\n",
       "      <th>oldbalanceOrig</th>\n",
       "      <td>0.858859</td>\n",
       "      <td>1.000000</td>\n",
       "      <td>0.767811</td>\n",
       "      <td>0.850741</td>\n",
       "    </tr>\n",
       "    <tr>\n",
       "      <th>newbalanceOrig</th>\n",
       "      <td>0.338561</td>\n",
       "      <td>0.767811</td>\n",
       "      <td>1.000000</td>\n",
       "      <td>0.316478</td>\n",
       "    </tr>\n",
       "    <tr>\n",
       "      <th>diffBalanceOrig</th>\n",
       "      <td>0.993904</td>\n",
       "      <td>0.850741</td>\n",
       "      <td>0.316478</td>\n",
       "      <td>1.000000</td>\n",
       "    </tr>\n",
       "  </tbody>\n",
       "</table>\n",
       "</div>"
      ],
      "text/plain": [
       "                   amount  oldbalanceOrig  newbalanceOrig  diffBalanceOrig\n",
       "amount           1.000000        0.858859        0.338561         0.993904\n",
       "oldbalanceOrig   0.858859        1.000000        0.767811         0.850741\n",
       "newbalanceOrig   0.338561        0.767811        1.000000         0.316478\n",
       "diffBalanceOrig  0.993904        0.850741        0.316478         1.000000"
      ]
     },
     "execution_count": 5,
     "metadata": {},
     "output_type": "execute_result"
    }
   ],
   "source": [
    "fraud_subset_orig = subset_orig.query('isFraud == 1').copy().reset_index(drop = True)\n",
    "corr_fraud_subset_orig = fraud_subset_orig.drop(columns = 'isFraud').corr()\n",
    "corr_fraud_subset_orig"
   ]
  },
  {
   "cell_type": "code",
   "execution_count": 6,
   "metadata": {},
   "outputs": [
    {
     "data": {
      "text/html": [
       "<div>\n",
       "<style scoped>\n",
       "    .dataframe tbody tr th:only-of-type {\n",
       "        vertical-align: middle;\n",
       "    }\n",
       "\n",
       "    .dataframe tbody tr th {\n",
       "        vertical-align: top;\n",
       "    }\n",
       "\n",
       "    .dataframe thead th {\n",
       "        text-align: right;\n",
       "    }\n",
       "</style>\n",
       "<table border=\"1\" class=\"dataframe\">\n",
       "  <thead>\n",
       "    <tr style=\"text-align: right;\">\n",
       "      <th></th>\n",
       "      <th>amount</th>\n",
       "      <th>oldbalanceOrig</th>\n",
       "      <th>newbalanceOrig</th>\n",
       "      <th>diffBalanceOrig</th>\n",
       "    </tr>\n",
       "  </thead>\n",
       "  <tbody>\n",
       "    <tr>\n",
       "      <th>amount</th>\n",
       "      <td>1.000000</td>\n",
       "      <td>-0.009092</td>\n",
       "      <td>-0.008521</td>\n",
       "      <td>-0.012479</td>\n",
       "    </tr>\n",
       "    <tr>\n",
       "      <th>oldbalanceOrig</th>\n",
       "      <td>-0.009092</td>\n",
       "      <td>1.000000</td>\n",
       "      <td>0.999417</td>\n",
       "      <td>-0.340197</td>\n",
       "    </tr>\n",
       "    <tr>\n",
       "      <th>newbalanceOrig</th>\n",
       "      <td>-0.008521</td>\n",
       "      <td>0.999417</td>\n",
       "      <td>1.000000</td>\n",
       "      <td>-0.372112</td>\n",
       "    </tr>\n",
       "    <tr>\n",
       "      <th>diffBalanceOrig</th>\n",
       "      <td>-0.012479</td>\n",
       "      <td>-0.340197</td>\n",
       "      <td>-0.372112</td>\n",
       "      <td>1.000000</td>\n",
       "    </tr>\n",
       "  </tbody>\n",
       "</table>\n",
       "</div>"
      ],
      "text/plain": [
       "                   amount  oldbalanceOrig  newbalanceOrig  diffBalanceOrig\n",
       "amount           1.000000       -0.009092       -0.008521        -0.012479\n",
       "oldbalanceOrig  -0.009092        1.000000        0.999417        -0.340197\n",
       "newbalanceOrig  -0.008521        0.999417        1.000000        -0.372112\n",
       "diffBalanceOrig -0.012479       -0.340197       -0.372112         1.000000"
      ]
     },
     "execution_count": 6,
     "metadata": {},
     "output_type": "execute_result"
    }
   ],
   "source": [
    "non_fraud_subset_orig = subset_orig.query('isFraud == 0').copy().reset_index(drop = True)\n",
    "corr_non_fraud_subset_orig = non_fraud_subset_orig.drop(columns = 'isFraud').corr()\n",
    "corr_non_fraud_subset_orig"
   ]
  },
  {
   "cell_type": "markdown",
   "metadata": {},
   "source": [
    "Observations: \n",
    "\n",
    "fraud_subset_orig shows high correlation between amount and oldbalanceOrig with diffBalanceOrig. Fraudsters try to extract the whole amount of money that users have inside the account. That could be a nice flag. \n",
    "\n",
    "non_fraud_subset_orig confirms that this behaviour doesn't appear on legitimate transactions. The NaN values of isFlaggedFraud just show that there is no variability in the results so the previous model works very well not giving False Positives"
   ]
  },
  {
   "cell_type": "code",
   "execution_count": 7,
   "metadata": {},
   "outputs": [
    {
     "data": {
      "image/png": "[encoded data removed]",
      "text/plain": [
       "<Figure size 1000x600 with 1 Axes>"
      ]
     },
     "metadata": {},
     "output_type": "display_data"
    }
   ],
   "source": [
    "plt.figure(figsize=(10, 6))\n",
    "sns.histplot(fraud_subset_orig['diffBalanceOrig'], bins=100, kde=True)\n",
    "plt.title('Difference in Balance for Fraud')\n",
    "plt.xlabel('Balance difference')\n",
    "plt.ylabel('Frequency')\n",
    "plt.show()"
   ]
  },
  {
   "cell_type": "code",
   "execution_count": 8,
   "metadata": {},
   "outputs": [
    {
     "data": {
      "image/png": "[encoded data removed]",
      "text/plain": [
       "<Figure size 1000x600 with 1 Axes>"
      ]
     },
     "metadata": {},
     "output_type": "display_data"
    }
   ],
   "source": [
    "plt.figure(figsize=(10, 6))\n",
    "sns.histplot(non_fraud_subset_orig['diffBalanceOrig'], bins=100, kde=True)\n",
    "plt.title('Difference in Balance for non Fraud')\n",
    "plt.xlabel('Balance difference')\n",
    "plt.ylabel('Frequency')\n",
    "plt.show()"
   ]
  },
  {
   "cell_type": "markdown",
   "metadata": {},
   "source": [
    "### Balances in destination"
   ]
  },
  {
   "cell_type": "code",
   "execution_count": 9,
   "metadata": {},
   "outputs": [],
   "source": [
    "subset_dest = data[[ 'amount', 'oldbalanceDest', 'newbalanceDest', 'isFraud']].copy()\n",
    "subset_dest['diffBalanceDest'] = (subset_dest['newbalanceDest'] - subset_dest['oldbalanceDest']).round(2)\n"
   ]
  },
  {
   "cell_type": "code",
   "execution_count": 10,
   "metadata": {},
   "outputs": [
    {
     "data": {
      "text/html": [
       "<div>\n",
       "<style scoped>\n",
       "    .dataframe tbody tr th:only-of-type {\n",
       "        vertical-align: middle;\n",
       "    }\n",
       "\n",
       "    .dataframe tbody tr th {\n",
       "        vertical-align: top;\n",
       "    }\n",
       "\n",
       "    .dataframe thead th {\n",
       "        text-align: right;\n",
       "    }\n",
       "</style>\n",
       "<table border=\"1\" class=\"dataframe\">\n",
       "  <thead>\n",
       "    <tr style=\"text-align: right;\">\n",
       "      <th></th>\n",
       "      <th>amount</th>\n",
       "      <th>oldbalanceDest</th>\n",
       "      <th>newbalanceDest</th>\n",
       "      <th>diffBalanceDest</th>\n",
       "    </tr>\n",
       "  </thead>\n",
       "  <tbody>\n",
       "    <tr>\n",
       "      <th>amount</th>\n",
       "      <td>1.000000</td>\n",
       "      <td>-0.007037</td>\n",
       "      <td>0.299403</td>\n",
       "      <td>0.642864</td>\n",
       "    </tr>\n",
       "    <tr>\n",
       "      <th>oldbalanceDest</th>\n",
       "      <td>-0.007037</td>\n",
       "      <td>1.000000</td>\n",
       "      <td>0.880353</td>\n",
       "      <td>0.056390</td>\n",
       "    </tr>\n",
       "    <tr>\n",
       "      <th>newbalanceDest</th>\n",
       "      <td>0.299403</td>\n",
       "      <td>0.880353</td>\n",
       "      <td>1.000000</td>\n",
       "      <td>0.523208</td>\n",
       "    </tr>\n",
       "    <tr>\n",
       "      <th>diffBalanceDest</th>\n",
       "      <td>0.642864</td>\n",
       "      <td>0.056390</td>\n",
       "      <td>0.523208</td>\n",
       "      <td>1.000000</td>\n",
       "    </tr>\n",
       "  </tbody>\n",
       "</table>\n",
       "</div>"
      ],
      "text/plain": [
       "                   amount  oldbalanceDest  newbalanceDest  diffBalanceDest\n",
       "amount           1.000000       -0.007037        0.299403         0.642864\n",
       "oldbalanceDest  -0.007037        1.000000        0.880353         0.056390\n",
       "newbalanceDest   0.299403        0.880353        1.000000         0.523208\n",
       "diffBalanceDest  0.642864        0.056390        0.523208         1.000000"
      ]
     },
     "execution_count": 10,
     "metadata": {},
     "output_type": "execute_result"
    }
   ],
   "source": [
    "fraud_subset_dest = subset_dest.query('isFraud == 1').copy().reset_index(drop = True)\n",
    "corr_fraud_subset_dest = fraud_subset_dest.drop(columns = 'isFraud').corr()\n",
    "corr_fraud_subset_dest"
   ]
  },
  {
   "cell_type": "code",
   "execution_count": 11,
   "metadata": {},
   "outputs": [
    {
     "data": {
      "text/html": [
       "<div>\n",
       "<style scoped>\n",
       "    .dataframe tbody tr th:only-of-type {\n",
       "        vertical-align: middle;\n",
       "    }\n",
       "\n",
       "    .dataframe tbody tr th {\n",
       "        vertical-align: top;\n",
       "    }\n",
       "\n",
       "    .dataframe thead th {\n",
       "        text-align: right;\n",
       "    }\n",
       "</style>\n",
       "<table border=\"1\" class=\"dataframe\">\n",
       "  <thead>\n",
       "    <tr style=\"text-align: right;\">\n",
       "      <th></th>\n",
       "      <th>amount</th>\n",
       "      <th>oldbalanceDest</th>\n",
       "      <th>newbalanceDest</th>\n",
       "      <th>diffBalanceDest</th>\n",
       "    </tr>\n",
       "  </thead>\n",
       "  <tbody>\n",
       "    <tr>\n",
       "      <th>amount</th>\n",
       "      <td>1.000000</td>\n",
       "      <td>0.298774</td>\n",
       "      <td>0.464114</td>\n",
       "      <td>0.850764</td>\n",
       "    </tr>\n",
       "    <tr>\n",
       "      <th>oldbalanceDest</th>\n",
       "      <td>0.298774</td>\n",
       "      <td>1.000000</td>\n",
       "      <td>0.976723</td>\n",
       "      <td>0.233333</td>\n",
       "    </tr>\n",
       "    <tr>\n",
       "      <th>newbalanceDest</th>\n",
       "      <td>0.464114</td>\n",
       "      <td>0.976723</td>\n",
       "      <td>1.000000</td>\n",
       "      <td>0.436486</td>\n",
       "    </tr>\n",
       "    <tr>\n",
       "      <th>diffBalanceDest</th>\n",
       "      <td>0.850764</td>\n",
       "      <td>0.233333</td>\n",
       "      <td>0.436486</td>\n",
       "      <td>1.000000</td>\n",
       "    </tr>\n",
       "  </tbody>\n",
       "</table>\n",
       "</div>"
      ],
      "text/plain": [
       "                   amount  oldbalanceDest  newbalanceDest  diffBalanceDest\n",
       "amount           1.000000        0.298774        0.464114         0.850764\n",
       "oldbalanceDest   0.298774        1.000000        0.976723         0.233333\n",
       "newbalanceDest   0.464114        0.976723        1.000000         0.436486\n",
       "diffBalanceDest  0.850764        0.233333        0.436486         1.000000"
      ]
     },
     "execution_count": 11,
     "metadata": {},
     "output_type": "execute_result"
    }
   ],
   "source": [
    "non_fraud_subset_dest = subset_dest.query('isFraud == 0').copy().reset_index(drop = True)\n",
    "corr_non_fraud_subset_dest = non_fraud_subset_dest.drop(columns = 'isFraud').corr()\n",
    "corr_non_fraud_subset_dest"
   ]
  },
  {
   "cell_type": "markdown",
   "metadata": {},
   "source": [
    "Observations:\n",
    "\n",
    "In this case the variable amount is the most correlated to the difference in balances. More research could be done here since there must be some missing data because balances in the origin and the destination don't match so that would mean there is some sort of by-pass that sends the money somewhere else? "
   ]
  },
  {
   "cell_type": "code",
   "execution_count": null,
   "metadata": {},
   "outputs": [],
   "source": [
    "plt.figure(figsize=(10, 6))\n",
    "sns.histplot(fraud_subset_dest['diffBalanceDest'], bins=100, kde=True)\n",
    "plt.title('Difference in Balance for Fraud')\n",
    "plt.xlabel('Balance difference')\n",
    "plt.ylabel('Frequency')\n",
    "plt.show()"
   ]
  },
  {
   "cell_type": "code",
   "execution_count": null,
   "metadata": {},
   "outputs": [],
   "source": [
    "plt.figure(figsize=(10, 6))\n",
    "sns.histplot(non_fraud_subset_dest['diffBalanceDest'], bins=100, kde=True)\n",
    "plt.title('Difference in Balance for non Fraud')\n",
    "plt.xlabel('Balance difference')\n",
    "plt.ylabel('Frequency')\n",
    "plt.show()"
   ]
  }
 ],
 "metadata": {
  "kernelspec": {
   "display_name": "fraudvenv",
   "language": "python",
   "name": "python3"
  },
  "language_info": {
   "codemirror_mode": {
    "name": "ipython",
    "version": 3
   },
   "file_extension": ".py",
   "mimetype": "text/x-python",
   "name": "python",
   "nbconvert_exporter": "python",
   "pygments_lexer": "ipython3",
   "version": "3.11.7"
  }
 },
 "nbformat": 4,
 "nbformat_minor": 2
}
