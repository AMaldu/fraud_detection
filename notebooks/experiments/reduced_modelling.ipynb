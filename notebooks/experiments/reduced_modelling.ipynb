{
 "cells": [
  {
   "cell_type": "code",
   "execution_count": 8,
   "metadata": {},
   "outputs": [],
   "source": [
    "import mlflow\n",
    "import mlflow.sklearn\n",
    "from hyperopt import fmin, tpe, hp, STATUS_OK, Trials\n",
    "from sklearn.ensemble import RandomForestClassifier\n",
    "from sklearn.metrics import confusion_matrix, classification_report, roc_auc_score, roc_curve, accuracy_score\n",
    "import matplotlib.pyplot as plt\n",
    "import seaborn as sns\n",
    "import numpy as np\n",
    "import os\n",
    "import joblib\n",
    "from scipy.sparse import load_npz\n",
    "\n",
    "\n",
    "import warnings\n",
    "warnings.filterwarnings('ignore')\n",
    "\n",
    "load_dir = '../../data/gold/'"
   ]
  },
  {
   "cell_type": "code",
   "execution_count": 9,
   "metadata": {},
   "outputs": [
    {
     "data": {
      "text/plain": [
       "<Experiment: artifact_location='/home/maldu/dscience/projects/fraud_detection/notebooks/experiments/mlruns/3', creation_time=1723021074916, experiment_id='3', last_update_time=1723021074916, lifecycle_stage='active', name='fraud_detection_reduced_experiment_v1', tags={}>"
      ]
     },
     "execution_count": 9,
     "metadata": {},
     "output_type": "execute_result"
    }
   ],
   "source": [
    "import mlflow\n",
    "\n",
    "\n",
    "mlflow.set_tracking_uri(\"sqlite:///mlflow.db\")\n",
    "mlflow.set_experiment('fraud_detection_reduced_experiment_v1')\n",
    "\n",
    "# experiment = mlflow.get_experiment_by_name('fraud_detection_reduced_experiment_v1')\n",
    "\n",
    "# if experiment:\n",
    "#     print(f\"ID: {experiment.experiment_id}, Name: {experiment.name}\")\n",
    "# else:\n",
    "#     print(\"The experiment doesn't exist\")"
   ]
  },
  {
   "cell_type": "code",
   "execution_count": 10,
   "metadata": {},
   "outputs": [
    {
     "name": "stdout",
     "output_type": "stream",
     "text": [
      "ID: 3, Name: fraud_detection_reduced_experiment_v1\n",
      "ID: 2, Name: fraud_detection_experiment_v1\n",
      "ID: 1, Name: model-experiment-v1\n",
      "ID: 0, Name: Default\n"
     ]
    }
   ],
   "source": [
    "try:\n",
    "    experiments = mlflow.search_experiments()\n",
    "    for exp in experiments:\n",
    "        print(f\"ID: {exp.experiment_id}, Name: {exp.name}\")\n",
    "except AttributeError as e:\n",
    "    print(f\"Error: {e}\")"
   ]
  },
  {
   "cell_type": "code",
   "execution_count": 11,
   "metadata": {},
   "outputs": [],
   "source": [
    "X_train_scaled = load_npz(os.path.join(load_dir, 'X_train_scaled.npz'))\n",
    "X_test_scaled = load_npz(os.path.join(load_dir, 'X_test_scaled.npz'))\n",
    "\n",
    "y_train = joblib.load(os.path.join(load_dir, 'y_train.pkl'))\n",
    "y_test = joblib.load(os.path.join(load_dir, 'y_test.pkl'))"
   ]
  },
  {
   "cell_type": "code",
   "execution_count": 12,
   "metadata": {},
   "outputs": [],
   "source": [
    "search_space = {\n",
    "    'n_estimators': hp.quniform('n_estimators', 50, 100, 10),\n",
    "    'max_depth': hp.quniform('max_depth', 10, 20, 2),\n",
    "    'min_samples_split': hp.uniform('min_samples_split', 0.1, 0.2),\n",
    "}"
   ]
  },
  {
   "cell_type": "code",
   "execution_count": 13,
   "metadata": {},
   "outputs": [],
   "source": [
    "def objective(params):\n",
    "    with mlflow.start_run():\n",
    "        mlflow.set_tag('developer', 'Ana')\n",
    "        \n",
    "        # Log data paths\n",
    "        mlflow.log_param('train-data-path', os.path.join(load_dir, 'X_train_scaled.npz'))\n",
    "        mlflow.log_param('val-data-path', os.path.join(load_dir, 'X_test_scaled.npz'))\n",
    "        mlflow.log_param('train-labels-path', os.path.join(load_dir, 'y_train.pkl'))\n",
    "        mlflow.log_param('val-labels-path', os.path.join(load_dir, 'y_test.pkl'))\n",
    "        \n",
    "        # Log parameters\n",
    "        n_estimators = int(params['n_estimators'])\n",
    "        max_depth = int(params['max_depth'])\n",
    "        min_samples_split = params['min_samples_split']\n",
    "        \n",
    "        mlflow.log_param('n_estimators', n_estimators)\n",
    "        mlflow.log_param('max_depth', max_depth)\n",
    "        mlflow.log_param('min_samples_split', min_samples_split)\n",
    "        \n",
    "        model = RandomForestClassifier(\n",
    "            n_estimators=n_estimators,\n",
    "            max_depth=max_depth,\n",
    "            min_samples_split=min_samples_split,\n",
    "            random_state=42\n",
    "        )\n",
    "        \n",
    "        model.fit(X_train_scaled, y_train)\n",
    "        \n",
    "        # Evaluar el modelo en los datos de prueba\n",
    "        y_pred = model.predict(X_test_scaled)\n",
    "        accuracy = accuracy_score(y_test, y_pred)\n",
    "        mlflow.log_metric('accuracy', accuracy)\n",
    "\n",
    "        # Evaluar el modelo en los datos de entrenamiento\n",
    "        train_accuracy = model.score(X_train_scaled, y_train)\n",
    "        mlflow.log_metric('train_accuracy', train_accuracy)\n",
    "        \n",
    "        test_accuracy = model.score(X_test_scaled, y_test)\n",
    "        mlflow.log_metric('test_accuracy', test_accuracy)\n",
    "        # Calcular y mostrar la matriz de confusión\n",
    "        cm = confusion_matrix(y_test, y_pred)\n",
    "        cm_display = sns.heatmap(cm, annot=True, fmt=\"d\", cmap=\"Blues\")\n",
    "        plt.title('Confusion Matrix')\n",
    "        plt.xlabel('Predicted')\n",
    "        plt.ylabel('Actual')\n",
    "        plt.savefig(\"confusion_matrix.png\")\n",
    "        mlflow.log_artifact(\"confusion_matrix.png\")\n",
    "        plt.close()\n",
    "\n",
    "        # Mostrar el reporte de clasificación\n",
    "        report = classification_report(y_test, y_pred, output_dict=True)\n",
    "        for key, value in report.items():\n",
    "            if isinstance(value, dict):\n",
    "                for sub_key, sub_value in value.items():\n",
    "                    mlflow.log_metric(f'{key}_{sub_key}', sub_value)\n",
    "            else:\n",
    "                mlflow.log_metric(f'{key}', value)\n",
    "        \n",
    "        # Calcular y mostrar la curva ROC y el AUC\n",
    "        y_prob = model.predict_proba(X_test_scaled)[:, 1]\n",
    "        roc_auc = roc_auc_score(y_test, y_prob)\n",
    "        mlflow.log_metric('roc_auc', roc_auc)\n",
    "        \n",
    "        fpr, tpr, _ = roc_curve(y_test, y_prob)\n",
    "        plt.figure()\n",
    "        plt.plot(fpr, tpr, color='darkorange', lw=2, label=f'ROC curve (AUC = {roc_auc:.2f})')\n",
    "        plt.plot([0, 1], [0, 1], color='navy', lw=2, linestyle='--')\n",
    "        plt.xlabel('False Positive Rate')\n",
    "        plt.ylabel('True Positive Rate')\n",
    "        plt.title('Receiver Operating Characteristic')\n",
    "        plt.legend(loc=\"lower right\")\n",
    "        plt.savefig(\"roc_curve.png\")\n",
    "        mlflow.log_artifact(\"roc_curve.png\")\n",
    "        plt.close()\n",
    "        \n",
    "        # Guardar el modelo\n",
    "        mlflow.sklearn.log_model(model, \"model\")\n",
    "        print(f\"Default artifacts URI: '{mlflow.get_artifact_uri()}'\")\n",
    "        \n",
    "        return {'loss': -accuracy, 'status': STATUS_OK}"
   ]
  },
  {
   "cell_type": "code",
   "execution_count": 14,
   "metadata": {},
   "outputs": [
    {
     "name": "stdout",
     "output_type": "stream",
     "text": [
      "  0%|          | 0/10 [00:00<?, ?trial/s, best loss=?]"
     ]
    },
    {
     "name": "stderr",
     "output_type": "stream",
     "text": [
      "2024/08/07 15:22:08 WARNING mlflow.models.model: Input example should be provided to infer model signature if the model signature is not provided when logging the model.\n",
      "\n"
     ]
    },
    {
     "name": "stdout",
     "output_type": "stream",
     "text": [
      "Default artifacts URI: '/home/maldu/dscience/projects/fraud_detection/notebooks/experiments/mlruns/3/bb118cfa08104571af7e3bb6707ea282/artifacts'\n",
      " 10%|█         | 1/10 [02:06<18:58, 126.53s/trial, best loss: -0.9987269395311994]"
     ]
    },
    {
     "name": "stderr",
     "output_type": "stream",
     "text": [
      "2024/08/07 15:24:04 WARNING mlflow.models.model: Input example should be provided to infer model signature if the model signature is not provided when logging the model.\n",
      "\n"
     ]
    },
    {
     "name": "stdout",
     "output_type": "stream",
     "text": [
      "Default artifacts URI: '/home/maldu/dscience/projects/fraud_detection/notebooks/experiments/mlruns/3/250b3066baa743439e2648f633bca496/artifacts'\n",
      " 20%|██        | 2/10 [04:02<16:00, 120.03s/trial, best loss: -0.9987269395311994]"
     ]
    },
    {
     "name": "stderr",
     "output_type": "stream",
     "text": [
      "2024/08/07 15:25:57 WARNING mlflow.models.model: Input example should be provided to infer model signature if the model signature is not provided when logging the model.\n",
      "\n"
     ]
    },
    {
     "name": "stdout",
     "output_type": "stream",
     "text": [
      "Default artifacts URI: '/home/maldu/dscience/projects/fraud_detection/notebooks/experiments/mlruns/3/e6bad078261249d88a77893adf0100a7/artifacts'\n",
      " 30%|███       | 3/10 [05:55<13:38, 116.90s/trial, best loss: -0.9987269395311994]"
     ]
    },
    {
     "name": "stderr",
     "output_type": "stream",
     "text": [
      "2024/08/07 15:27:58 WARNING mlflow.models.model: Input example should be provided to infer model signature if the model signature is not provided when logging the model.\n",
      "\n"
     ]
    },
    {
     "name": "stdout",
     "output_type": "stream",
     "text": [
      "Default artifacts URI: '/home/maldu/dscience/projects/fraud_detection/notebooks/experiments/mlruns/3/c6a3942243b34a20b55a78575bea8193/artifacts'\n",
      " 40%|████      | 4/10 [07:56<11:52, 118.79s/trial, best loss: -0.9987269395311994]"
     ]
    },
    {
     "name": "stderr",
     "output_type": "stream",
     "text": [
      "2024/08/07 15:30:59 WARNING mlflow.models.model: Input example should be provided to infer model signature if the model signature is not provided when logging the model.\n",
      "\n"
     ]
    },
    {
     "name": "stdout",
     "output_type": "stream",
     "text": [
      "Default artifacts URI: '/home/maldu/dscience/projects/fraud_detection/notebooks/experiments/mlruns/3/4ba77f08f82e4ca89705c9fc331a3efd/artifacts'\n",
      " 50%|█████     | 5/10 [10:57<11:44, 140.99s/trial, best loss: -0.9987269395311994]"
     ]
    },
    {
     "name": "stderr",
     "output_type": "stream",
     "text": [
      "2024/08/07 15:33:03 WARNING mlflow.models.model: Input example should be provided to infer model signature if the model signature is not provided when logging the model.\n",
      "\n"
     ]
    },
    {
     "name": "stdout",
     "output_type": "stream",
     "text": [
      "Default artifacts URI: '/home/maldu/dscience/projects/fraud_detection/notebooks/experiments/mlruns/3/03f0722120404dd89f3aef249ef41692/artifacts'\n",
      " 60%|██████    | 6/10 [13:00<09:00, 135.12s/trial, best loss: -0.9987269395311994]"
     ]
    },
    {
     "name": "stderr",
     "output_type": "stream",
     "text": [
      "2024/08/07 15:34:38 WARNING mlflow.models.model: Input example should be provided to infer model signature if the model signature is not provided when logging the model.\n",
      "\n"
     ]
    },
    {
     "name": "stdout",
     "output_type": "stream",
     "text": [
      "Default artifacts URI: '/home/maldu/dscience/projects/fraud_detection/notebooks/experiments/mlruns/3/0458af4f85994657a39be758cdfff288/artifacts'\n",
      " 70%|███████   | 7/10 [14:36<06:06, 122.08s/trial, best loss: -0.9987269395311994]"
     ]
    },
    {
     "name": "stderr",
     "output_type": "stream",
     "text": [
      "2024/08/07 15:36:19 WARNING mlflow.models.model: Input example should be provided to infer model signature if the model signature is not provided when logging the model.\n",
      "\n"
     ]
    },
    {
     "name": "stdout",
     "output_type": "stream",
     "text": [
      "Default artifacts URI: '/home/maldu/dscience/projects/fraud_detection/notebooks/experiments/mlruns/3/fa042f8fe8c54ea7a8c7c124329e5762/artifacts'\n",
      " 80%|████████  | 8/10 [16:16<03:50, 115.30s/trial, best loss: -0.9987269395311994]"
     ]
    },
    {
     "name": "stderr",
     "output_type": "stream",
     "text": [
      "2024/08/07 15:37:58 WARNING mlflow.models.model: Input example should be provided to infer model signature if the model signature is not provided when logging the model.\n",
      "\n"
     ]
    },
    {
     "name": "stdout",
     "output_type": "stream",
     "text": [
      "Default artifacts URI: '/home/maldu/dscience/projects/fraud_detection/notebooks/experiments/mlruns/3/ed624b9087ec4214b63edde7adf770eb/artifacts'\n",
      " 90%|█████████ | 9/10 [17:56<01:50, 110.32s/trial, best loss: -0.9987269395311994]"
     ]
    },
    {
     "name": "stderr",
     "output_type": "stream",
     "text": [
      "2024/08/07 15:39:31 WARNING mlflow.models.model: Input example should be provided to infer model signature if the model signature is not provided when logging the model.\n",
      "\n"
     ]
    },
    {
     "name": "stdout",
     "output_type": "stream",
     "text": [
      "Default artifacts URI: '/home/maldu/dscience/projects/fraud_detection/notebooks/experiments/mlruns/3/72915f2752604ff0be011fb1489b82f2/artifacts'\n",
      "100%|██████████| 10/10 [19:29<00:00, 116.92s/trial, best loss: -0.9987269395311994]\n"
     ]
    }
   ],
   "source": [
    "trials = Trials()\n",
    "\n",
    "best = fmin(\n",
    "    fn=objective,\n",
    "    space=search_space,\n",
    "    algo=tpe.suggest,\n",
    "    max_evals=10,  \n",
    "    trials=trials\n",
    ")"
   ]
  },
  {
   "cell_type": "code",
   "execution_count": 15,
   "metadata": {},
   "outputs": [
    {
     "name": "stdout",
     "output_type": "stream",
     "text": [
      "Mejores hiperparámetros: {'max_depth': 12.0, 'min_samples_split': 0.10553180327691568, 'n_estimators': 80.0}\n"
     ]
    }
   ],
   "source": [
    "print(f\"Mejores hiperparámetros: {best}\")"
   ]
  },
  {
   "cell_type": "code",
   "execution_count": 16,
   "metadata": {},
   "outputs": [
    {
     "ename": "SyntaxError",
     "evalue": "invalid syntax (3586699426.py, line 1)",
     "output_type": "error",
     "traceback": [
      "\u001b[0;36m  Cell \u001b[0;32mIn[16], line 1\u001b[0;36m\u001b[0m\n\u001b[0;31m    unbalanced needs fp and fn\u001b[0m\n\u001b[0m               ^\u001b[0m\n\u001b[0;31mSyntaxError\u001b[0m\u001b[0;31m:\u001b[0m invalid syntax\n"
     ]
    }
   ],
   "source": [
    "unbalanced needs fp and fn"
   ]
  },
  {
   "cell_type": "code",
   "execution_count": null,
   "metadata": {},
   "outputs": [],
   "source": []
  }
 ],
 "metadata": {
  "kernelspec": {
   "display_name": "fraud_detection-I9haicwR",
   "language": "python",
   "name": "python3"
  },
  "language_info": {
   "codemirror_mode": {
    "name": "ipython",
    "version": 3
   },
   "file_extension": ".py",
   "mimetype": "text/x-python",
   "name": "python",
   "nbconvert_exporter": "python",
   "pygments_lexer": "ipython3",
   "version": "3.10.12"
  }
 },
 "nbformat": 4,
 "nbformat_minor": 2
}
