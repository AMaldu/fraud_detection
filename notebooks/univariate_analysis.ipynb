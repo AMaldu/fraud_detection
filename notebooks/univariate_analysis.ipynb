{
 "cells": [
  {
   "cell_type": "markdown",
   "metadata": {},
   "source": [
    "# Univariate Analysis\n",
    "\n",
    "The objective of this notebook is to analyze each variable separately to understand its distribution, central tendencies (mean, median), and dispersion (variance, standard deviation). It also includes visualization of variables."
   ]
  },
  {
   "cell_type": "code",
   "execution_count": null,
   "metadata": {},
   "outputs": [],
   "source": [
    "import pandas as pd\n",
    "import matplotlib.pyplot as plt\n",
    "import seaborn as sns\n",
    "from src.utils import pie_plot, qq_plots, skewness_and_kurtosis, detect_outliers\n",
    "import numpy as np\n",
    "\n",
    "\n"
   ]
  },
  {
   "cell_type": "code",
   "execution_count": null,
   "metadata": {},
   "outputs": [],
   "source": [
    "data = pd.read_csv('../data/processed/df_fraud.csv')\n",
    "data.head()"
   ]
  },
  {
   "cell_type": "code",
   "execution_count": null,
   "metadata": {},
   "outputs": [],
   "source": [
    "data.info(show_counts=True)"
   ]
  },
  {
   "cell_type": "markdown",
   "metadata": {},
   "source": [
    "# Visualization of the target variable"
   ]
  },
  {
   "cell_type": "markdown",
   "metadata": {},
   "source": [
    "## isFraud"
   ]
  },
  {
   "cell_type": "code",
   "execution_count": null,
   "metadata": {},
   "outputs": [],
   "source": [
    "data['isFraud'].describe()"
   ]
  },
  {
   "cell_type": "code",
   "execution_count": null,
   "metadata": {},
   "outputs": [],
   "source": [
    "data['isFraud'].value_counts()"
   ]
  },
  {
   "cell_type": "code",
   "execution_count": null,
   "metadata": {},
   "outputs": [],
   "source": [
    "data['isFraud'].value_counts(normalize=True).mul(100).apply(lambda x: f'{x:.3f}%')"
   ]
  },
  {
   "cell_type": "markdown",
   "metadata": {},
   "source": []
  },
  {
   "cell_type": "markdown",
   "metadata": {},
   "source": [
    "Observations: \n",
    "\n",
    "The vast majority of transactions are non-fraudulent, which is evidenced by the very low mean (0.00129082) and the percentiles (25%, 50%, 75%) all being 0. The standard deviation is also low, indicating little variability. This is typical in fraud datasets, where fraudulent instances are much less common compared to non-fraudulent instances."
   ]
  },
  {
   "cell_type": "markdown",
   "metadata": {},
   "source": [
    "# Visualization of the categorical variables"
   ]
  },
  {
   "cell_type": "markdown",
   "metadata": {},
   "source": [
    "## Type"
   ]
  },
  {
   "cell_type": "code",
   "execution_count": null,
   "metadata": {},
   "outputs": [],
   "source": [
    "data['type'].describe(include = ['O'])"
   ]
  },
  {
   "cell_type": "code",
   "execution_count": null,
   "metadata": {},
   "outputs": [],
   "source": [
    "data['type'].value_counts()"
   ]
  },
  {
   "cell_type": "code",
   "execution_count": null,
   "metadata": {},
   "outputs": [],
   "source": [
    "pie_plot(data['type'])"
   ]
  },
  {
   "cell_type": "markdown",
   "metadata": {},
   "source": [
    "Observations: \n",
    "- CASH_OUT & PAYMENT are the predominant types of transactions\n",
    "- CASH_IN & TRANSFER are relatively popular\n",
    "- DEBIT is the less common among types of transactions. \n",
    "\n"
   ]
  },
  {
   "cell_type": "markdown",
   "metadata": {},
   "source": [
    "## nameOrig and nameDest"
   ]
  },
  {
   "cell_type": "code",
   "execution_count": null,
   "metadata": {},
   "outputs": [],
   "source": [
    "\n",
    "categorical_cols = [ 'nameOrig', 'nameDest']\n",
    "\n",
    "fig, axs = plt.subplots(nrows=2, ncols=1, figsize=(20, 10))\n",
    "\n",
    "for ax, col in zip(axs, categorical_cols):\n",
    "    top_categories = data[col].value_counts().nlargest(80)\n",
    "    \n",
    "    top_categories.plot(kind='bar', ax=ax)\n",
    "    \n",
    "    ax.set_title(f'Top 50 most frequent categories in {col}')\n",
    "    ax.set_xlabel(col)\n",
    "    ax.set_ylabel('Count')\n",
    "    ax.grid(True)\n",
    "\n",
    "plt.tight_layout()\n",
    "plt.show()"
   ]
  },
  {
   "cell_type": "markdown",
   "metadata": {},
   "source": [
    "Observations:\n",
    "- nameOrig: There are many accounts that have sent money more than 1 time. Is there a relationship between fraudulent behaviours and the amount of times the account has sent money?\n",
    "\n",
    "- nameDest: The amount of times that the most common accounts is way higher so for. Can I cluster them somehow? It gonna be interesting to analyse if in this case the accounts with high frequency have some relationship with the fraudulent behaviours too. "
   ]
  },
  {
   "cell_type": "markdown",
   "metadata": {},
   "source": [
    "# Visualization of the numerical variables"
   ]
  },
  {
   "cell_type": "markdown",
   "metadata": {},
   "source": [
    "### Basic overview of the distributions for all variables"
   ]
  },
  {
   "cell_type": "code",
   "execution_count": null,
   "metadata": {},
   "outputs": [],
   "source": [
    "numeric_cols =['step', 'amount','oldbalanceOrig', 'newbalanceOrig', 'oldbalanceDest','newbalanceDest']\n",
    "\n",
    "\n",
    "fig, axes = plt.subplots(nrows=3, ncols=2, figsize=(14,8))\n",
    "axes = axes.flatten()  \n",
    "\n",
    "for ax, col in zip(axes, numeric_cols):\n",
    "    sns.kdeplot(data[col], ax=ax, fill=True)\n",
    "    ax.set_title(f'Density Plot of {col}')\n",
    "    ax.set_xlabel(col)\n",
    "    ax.set_ylabel('Density')\n",
    "\n",
    "plt.tight_layout()\n",
    "plt.show()"
   ]
  },
  {
   "cell_type": "markdown",
   "metadata": {},
   "source": [
    "Observations:\n",
    "\n",
    "- The columns 'amount','oldbalanceOrig', 'newbalanceOrig', 'oldbalanceDest','newbalanceDest' have most of the values slighty above 0. \n",
    "\n",
    "- The column 'step' has  two ranges that look interesting and will be checked later more accurately."
   ]
  },
  {
   "cell_type": "code",
   "execution_count": null,
   "metadata": {},
   "outputs": [],
   "source": [
    "qq_plots(data, numeric_cols)"
   ]
  },
  {
   "cell_type": "markdown",
   "metadata": {},
   "source": [
    "Observations:\n",
    "\n",
    "- Positive skewness in every column. \n",
    "\n",
    "- As we said in the previous plots, step shows a bit more simetry but it remains far from being a normal distribution."
   ]
  },
  {
   "cell_type": "markdown",
   "metadata": {},
   "source": [
    "### Step"
   ]
  },
  {
   "cell_type": "code",
   "execution_count": null,
   "metadata": {},
   "outputs": [],
   "source": [
    "data['step'].describe()"
   ]
  },
  {
   "cell_type": "markdown",
   "metadata": {},
   "source": [
    "Observations:\n",
    "- The mean (243.40) and median (239.00) are close, indicating relatively symmetric distribution. However, the standard deviation (142.33) suggests considerable variability in the data.\n",
    "- The wide range (from 1 to 743) and the large difference between the 25th percentile (156) and the 75th percentile (335) suggest that there are high values or outliers in the dataset. This indicates potential right skewness (I'll check it later), with the distribution having a longer tail on the right side."
   ]
  },
  {
   "cell_type": "markdown",
   "metadata": {},
   "source": [
    "Since I have many rows, I'm going to use a density plot for better visualization "
   ]
  },
  {
   "cell_type": "code",
   "execution_count": null,
   "metadata": {},
   "outputs": [],
   "source": [
    "plt.figure(figsize=(10, 4))\n",
    "sns.histplot(data['step'], kde=True)\n",
    "plt.title('Density plot of the variable \"Step\"')\n",
    "plt.xlabel('Step')\n",
    "plt.ylabel('Density')\n",
    "plt.grid()\n",
    "plt.show()"
   ]
  },
  {
   "cell_type": "markdown",
   "metadata": {},
   "source": [
    "Observations:\n",
    "\n",
    "For context, 1 step represents 1 hour. The total range of hour data is equivalent to a month. \n",
    "\n",
    "The are two main step ranges where the amount of transactions are very likely to happen. \n",
    "- Are they related to fraudulent behavior? \n",
    "- How is the behavior divided per day instead?\n",
    "\n",
    "---"
   ]
  },
  {
   "cell_type": "markdown",
   "metadata": {},
   "source": [
    "I'm going to check the distribution per day"
   ]
  },
  {
   "cell_type": "code",
   "execution_count": null,
   "metadata": {},
   "outputs": [],
   "source": [
    "data['day_of_month'] = np.ceil(data['step'] / 24).astype(int)"
   ]
  },
  {
   "cell_type": "code",
   "execution_count": null,
   "metadata": {},
   "outputs": [],
   "source": [
    "plt.figure(figsize=(10, 4))\n",
    "sns.histplot(data['day_of_month'], kde=True)\n",
    "plt.title('Histogram and Density of the variable \"Day of Month\"')\n",
    "plt.xlabel('Day of month')\n",
    "plt.ylabel('Density')\n",
    "plt.grid()\n",
    "plt.show()"
   ]
  },
  {
   "cell_type": "markdown",
   "metadata": {},
   "source": [
    "Observations: \n",
    "\n",
    "The behavior is more clear with this graph. There are two main groups:\n",
    "\n",
    "- Group 1: The ones that use the first and second day to do transactions. It makes sense since people get paid at the end of the month so they can use their money at the begining of the next month. \n",
    "- Group 2: The ones that take from 6 to 17 days to do transactions. That doesn't make sense to me. I'll try to understand this behavior later comparing it with the column isFraud and maybe other variables.. follow the path to the bivariate and multivariate analysis notebooks for more possible insights :)\n"
   ]
  },
  {
   "cell_type": "code",
   "execution_count": null,
   "metadata": {},
   "outputs": [],
   "source": [
    "skewness_and_kurtosis(data, 'step')"
   ]
  },
  {
   "cell_type": "markdown",
   "metadata": {},
   "source": [
    "Observations: \n",
    "\n",
    "- Skewness is very low, good, but the distribution is not normal. \n",
    "- Kurtosis is ver low (Platykurtic), light tails and flat peak so I won't find a huge amount of outliers"
   ]
  },
  {
   "cell_type": "code",
   "execution_count": null,
   "metadata": {},
   "outputs": [],
   "source": [
    "skewness_and_kurtosis(data, 'day_of_month')"
   ]
  },
  {
   "cell_type": "markdown",
   "metadata": {},
   "source": [
    "Observations:\n",
    "\n",
    "The new approach based on days slightly increases both skewness and kurtosis"
   ]
  },
  {
   "cell_type": "markdown",
   "metadata": {},
   "source": [
    "### Amount"
   ]
  },
  {
   "cell_type": "code",
   "execution_count": null,
   "metadata": {},
   "outputs": [],
   "source": [
    "data['amount'].describe()"
   ]
  },
  {
   "cell_type": "markdown",
   "metadata": {},
   "source": [
    "Observations:\n",
    "\n",
    "- The mean (179,861.90) is significantly higher than the median (74,871.94), which, along with a high standard deviation (603,858.22), indicates that the distribution is heavily skewed to the right with a large number of high-value outliers.\n",
    "\n",
    "- The minimum value is 0 and the maximum is 92,445,200, suggesting a wide range of values. The 25th percentile (13,389.57) and 75th percentile (208,721.50) show that the upper range of values contributes significantly to the high mean, further indicating right-skewness and potential outliers."
   ]
  },
  {
   "cell_type": "code",
   "execution_count": null,
   "metadata": {},
   "outputs": [],
   "source": [
    "count = data['amount'].value_counts()\n",
    "\n",
    "plt.figure(figsize=(8, 4))\n",
    "sns.histplot(count, kde=True, bins = 100)\n",
    "plt.title('Density plot of the variable \"Amount\"')\n",
    "plt.xlabel('Amount')\n",
    "plt.ylabel('Density')\n",
    "plt.grid()\n",
    "plt.show()"
   ]
  },
  {
   "cell_type": "markdown",
   "metadata": {},
   "source": [
    "I see almost nothing here, let's zoom in the small values of amount"
   ]
  },
  {
   "cell_type": "code",
   "execution_count": null,
   "metadata": {},
   "outputs": [],
   "source": [
    "plt.figure(figsize=(10, 6))\n",
    "\n",
    "\n",
    "sns.histplot(data[data['amount'] < 100000]['amount'], kde=True)\n",
    "plt.title('Histogram of \"Amount\" (Values < 100000)')\n",
    "plt.xlabel('Amount')\n",
    "plt.ylabel('Density')\n",
    "\n",
    "plt.tight_layout()\n",
    "plt.grid()\n",
    "plt.show()\n"
   ]
  },
  {
   "cell_type": "code",
   "execution_count": null,
   "metadata": {},
   "outputs": [],
   "source": [
    "skewness_and_kurtosis(data, 'amount')"
   ]
  },
  {
   "cell_type": "markdown",
   "metadata": {},
   "source": [
    "Observations:\n",
    "\n",
    "Here we can see the distribution shape that reflect the basic statitstical data from before. Most transactions are below 40.000€. The distribution is very skewed and leptokurtic.\n",
    "\n",
    "- Are this type of transactions related to fraudulent behaviour?\n",
    "\n",
    "----"
   ]
  },
  {
   "cell_type": "markdown",
   "metadata": {},
   "source": [
    "I'm going to use exponential increasing bins since the range of my data is high. Further analysis can give some insights using uniform bins."
   ]
  },
  {
   "cell_type": "code",
   "execution_count": null,
   "metadata": {},
   "outputs": [],
   "source": [
    "bins = [0, 1000, 10000, 100000, 1000000, 10000000, 100000000]\n",
    "labels = ['0-1.000', '1.000-10.000', '10.000-100.000', '100.000-1.000.000', '1.000.000-10.000.000', '10.000.000-100.000.000']\n",
    "data['amount_range'] = pd.cut(data['amount'], bins=bins, labels=labels, right=False)"
   ]
  },
  {
   "cell_type": "code",
   "execution_count": null,
   "metadata": {},
   "outputs": [],
   "source": [
    "data['amount_range'].value_counts()"
   ]
  },
  {
   "cell_type": "code",
   "execution_count": null,
   "metadata": {},
   "outputs": [],
   "source": [
    "data['amount_range'].describe()"
   ]
  },
  {
   "cell_type": "code",
   "execution_count": null,
   "metadata": {},
   "outputs": [],
   "source": [
    "order = ['0-1.000', '1.000-10.000', '10.000-100.000', '100.000-1.000.000', '1.000.000-10.000.000', '10.000.000-100.000.000']\n",
    "\n",
    "\n",
    "plt.figure(figsize=(8, 5))\n",
    "barplot = sns.countplot(data=data, x='amount_range', order=order)\n",
    "\n",
    "plt.title('Counts of Transactions per Amount Range')\n",
    "plt.xlabel('Amount Range')\n",
    "plt.ylabel('Count')\n",
    "\n",
    "plt.xticks(rotation=45)  \n",
    "plt.show()"
   ]
  },
  {
   "cell_type": "markdown",
   "metadata": {},
   "source": [
    "Observations:\n",
    "\n",
    "- The most commonn ranges are 10.000 - 100.000 and 100.000 - 1.000.000.\n",
    "- The bins approach looks good to me even though other non exponential bin strategies could be considered. \n",
    "- I will study if this approach provides some insights about the relationship with fraudulent behaviours."
   ]
  },
  {
   "cell_type": "markdown",
   "metadata": {},
   "source": [
    "## oldbalanceOrig "
   ]
  },
  {
   "cell_type": "code",
   "execution_count": null,
   "metadata": {},
   "outputs": [],
   "source": [
    "data['oldbalanceOrig'].describe()"
   ]
  },
  {
   "cell_type": "markdown",
   "metadata": {},
   "source": [
    "Observations:\n",
    "\n",
    "- The mean of the dataset is 833,883.1, which is significantly higher than the median of 14,208.0. This discrepancy suggests that the data is right-skewed, meaning there are a few very high values pulling the mean upwards. The spread of the data is considerable, as indicated by the standard deviation of 2,888,243, which measures the average distance of each data point from the mean. This high standard deviation indicates that the data points are spread out over a large range of values. \n",
    "- The range of the data is from 0 to 59,585,040, further emphasizing the significant variability within the dataset. The interquartile range (IQR), which is the range of the middle 50% of the data, is 107,315.2. This IQR shows that the middle half of the data is also spread out, though not as extensively as the entire range. Overall, the distribution of oldbalanceOrig is right-skewed with a few extremely high values contributing to a high mean and substantial spread in the dataset."
   ]
  },
  {
   "cell_type": "code",
   "execution_count": null,
   "metadata": {},
   "outputs": [],
   "source": [
    "old_orig = data['oldbalanceOrig'].value_counts()\n",
    "old_orig.head(10)"
   ]
  },
  {
   "cell_type": "code",
   "execution_count": null,
   "metadata": {},
   "outputs": [],
   "source": [
    "filtered_old_orig = old_orig[old_orig >1]"
   ]
  },
  {
   "cell_type": "code",
   "execution_count": null,
   "metadata": {},
   "outputs": [],
   "source": [
    "filtered_old_orig.head(90)"
   ]
  },
  {
   "cell_type": "code",
   "execution_count": null,
   "metadata": {},
   "outputs": [],
   "source": [
    "integers = filtered_old_orig[filtered_old_orig.index % 1 == 0]\n",
    "print(f'The length of the old balances with integers is: {len(integers)}')\n",
    "integers.head(20)"
   ]
  },
  {
   "cell_type": "code",
   "execution_count": null,
   "metadata": {},
   "outputs": [],
   "source": [
    "non_integers = filtered_old_orig[filtered_old_orig.index % 1 != 0]\n",
    "print(f'The length of the old balances with decimals is: {len(non_integers)}')\n",
    "non_integers.head(20)"
   ]
  },
  {
   "cell_type": "code",
   "execution_count": null,
   "metadata": {},
   "outputs": [],
   "source": [
    "skewness_and_kurtosis(data,'newbalanceOrig')"
   ]
  },
  {
   "cell_type": "markdown",
   "metadata": {},
   "source": [
    "Observations:\n",
    "\n",
    "- There are repeated old balances over time. I have divided them into amounts of integers and amounts with decimals.\n",
    "\n",
    "- There are many transactions with old balance = 0€. How is this possible? We should compare the type of transaction to check what could have been happening. \n",
    "\n",
    "- Repeated old balances with integers are much more frequent than old balances with decimals. Is it a coincidence? \n",
    "\n",
    "- High skewness and kurtosis"
   ]
  },
  {
   "cell_type": "markdown",
   "metadata": {},
   "source": [
    "## newbalanceOrig"
   ]
  },
  {
   "cell_type": "code",
   "execution_count": null,
   "metadata": {},
   "outputs": [],
   "source": [
    "data['newbalanceOrig'].describe()"
   ]
  },
  {
   "cell_type": "markdown",
   "metadata": {},
   "source": [
    "Observations:\n",
    "\n",
    "- The mean is quite high (855,113.7), but the median is 0. This suggests that while the average balance is relatively high, a large proportion of records have a balance of 0. This indicates a right-skewed distribution with a significant number of zero or near-zero balances.\n",
    "\n",
    "- The standard deviation is very high (2,924,049), indicating a high level of variability in the data. This large dispersion suggests that there are some very high balances compared to the majority. The range of 49,585,040 indicates that the balances vary widely, from 0 to nearly 50 million, highlighting the presence of extreme values. The quartiles further confirm that a large portion of the data has low balances (including zero), with a smaller proportion having higher balances."
   ]
  },
  {
   "cell_type": "code",
   "execution_count": null,
   "metadata": {},
   "outputs": [],
   "source": [
    "new_orig = data['newbalanceOrig'].value_counts()\n",
    "new_orig.head(10)"
   ]
  },
  {
   "cell_type": "code",
   "execution_count": null,
   "metadata": {},
   "outputs": [],
   "source": [
    "filtered_new_orig = new_orig[new_orig >1]\n",
    "filtered_new_orig.head(10)"
   ]
  },
  {
   "cell_type": "code",
   "execution_count": null,
   "metadata": {},
   "outputs": [],
   "source": [
    "len(filtered_new_orig)"
   ]
  },
  {
   "cell_type": "code",
   "execution_count": null,
   "metadata": {},
   "outputs": [],
   "source": [
    "integers = filtered_new_orig[filtered_new_orig.index % 1 == 0]\n",
    "print(f'The length of the new balances with integers is: {len(integers)}')\n",
    "integers.head()"
   ]
  },
  {
   "cell_type": "code",
   "execution_count": null,
   "metadata": {},
   "outputs": [],
   "source": [
    "non_integers = filtered_new_orig[filtered_new_orig.index % 1 != 0]\n",
    "print(f'The length of the new balances with decimals is: {len(non_integers)}')\n",
    "non_integers.head(20)"
   ]
  },
  {
   "cell_type": "code",
   "execution_count": null,
   "metadata": {},
   "outputs": [],
   "source": [
    "skewness_and_kurtosis(data,'newbalanceOrig')"
   ]
  },
  {
   "cell_type": "markdown",
   "metadata": {},
   "source": [
    "Observations:\n",
    "\n",
    "- High skewness and kurtosis"
   ]
  },
  {
   "cell_type": "markdown",
   "metadata": {},
   "source": [
    "## oldbalanceDest"
   ]
  },
  {
   "cell_type": "code",
   "execution_count": null,
   "metadata": {},
   "outputs": [],
   "source": [
    "data['oldbalanceDest'].describe()"
   ]
  },
  {
   "cell_type": "markdown",
   "metadata": {},
   "source": [
    "- The mean value of 1,100,702 is significantly higher than the median value of 132,705.7. This suggests that the distribution is positively skewed, meaning that there are some extremely high values (outliers) pulling the mean up.\n",
    "\n",
    "\n",
    "- The standard deviation is very high (3,399,180), indicating a large variability around the mean. This is consistent with the large difference between the mean and median, as well as the large range. The range of 356,015,900 shows a wide spread between the minimum and maximum values.The fact that both the 25th percentile and the median are much lower than the 75th percentile and maximum reinforces the idea of a right-skewed distribution, with a large proportion of low to mid-range values and a few very high values."
   ]
  },
  {
   "cell_type": "code",
   "execution_count": null,
   "metadata": {},
   "outputs": [],
   "source": [
    "old_dest = data['oldbalanceDest'].value_counts()\n",
    "old_dest.head(20)"
   ]
  },
  {
   "cell_type": "code",
   "execution_count": null,
   "metadata": {},
   "outputs": [],
   "source": [
    "filtered_old_dest = old_dest[old_dest >1]\n",
    "filtered_old_dest.head()"
   ]
  },
  {
   "cell_type": "code",
   "execution_count": null,
   "metadata": {},
   "outputs": [],
   "source": [
    "integers = filtered_old_dest[filtered_old_dest.index % 1 == 0]\n",
    "print(f'The length of the old balances with integers is: {len(integers)}')\n",
    "integers.head(20)"
   ]
  },
  {
   "cell_type": "code",
   "execution_count": null,
   "metadata": {},
   "outputs": [],
   "source": [
    "non_integers = filtered_old_dest[filtered_old_dest.index % 1 != 0]\n",
    "print(f'The length of the old balances with decimals is: {len(non_integers)}')\n",
    "non_integers.head(20)"
   ]
  },
  {
   "cell_type": "code",
   "execution_count": null,
   "metadata": {},
   "outputs": [],
   "source": [
    "skewness_and_kurtosis(data,'newbalanceOrig')"
   ]
  },
  {
   "cell_type": "markdown",
   "metadata": {},
   "source": [
    "Observations:\n",
    "\n",
    "- High skewness and kurtosis"
   ]
  },
  {
   "cell_type": "markdown",
   "metadata": {},
   "source": [
    "## newbalanceDest"
   ]
  },
  {
   "cell_type": "code",
   "execution_count": null,
   "metadata": {},
   "outputs": [],
   "source": [
    "data['newbalanceDest'].describe()"
   ]
  },
  {
   "cell_type": "markdown",
   "metadata": {},
   "source": [
    "Observations:\n",
    "\n",
    "- The mean and median values suggest a central tendency around a substantial amount. The mean (1,224,996) is higher than the median (214,661.4), indicating that while a substantial portion of the balances are around the median, the mean is significantly influenced by some very high balances. The large standard deviation (3,674,129) compared to the mean indicates high variability in the data. The spread of values is considerable, which is consistent with the maximum value being over 356 million.\n",
    "\n",
    "\n",
    "- Both the 25th and 50th percentiles being at 0.0 and 214,661.4, respectively, highlight that while many entries are zero or low, there are also significant balances that push the mean higher. The 75th percentile value (1,111,909) shows that a substantial portion of the data has balances that are quite high compared to the median. The very high maximum value (356,179,300) indicates the presence of some extreme outliers. These extreme high values skew the mean upwards and contribute to the large standard deviation."
   ]
  },
  {
   "cell_type": "code",
   "execution_count": null,
   "metadata": {},
   "outputs": [],
   "source": [
    "new_dest = data['newbalanceDest'].value_counts()\n",
    "new_dest.head(10)"
   ]
  },
  {
   "cell_type": "code",
   "execution_count": null,
   "metadata": {},
   "outputs": [],
   "source": [
    "filtered_new_dest = new_dest[new_dest >1]"
   ]
  },
  {
   "cell_type": "code",
   "execution_count": null,
   "metadata": {},
   "outputs": [],
   "source": [
    "integers = filtered_new_dest[filtered_new_dest.index % 1 == 0]\n",
    "print(f'The length of the new balances with integers is: {len(integers)}')\n",
    "integers.head(20)"
   ]
  },
  {
   "cell_type": "code",
   "execution_count": null,
   "metadata": {},
   "outputs": [],
   "source": [
    "non_integers = filtered_new_dest[filtered_new_dest.index % 1 != 0]\n",
    "print(f'The length of the new balances with decimals is: {len(non_integers)}')\n",
    "non_integers.head(20)"
   ]
  },
  {
   "cell_type": "code",
   "execution_count": null,
   "metadata": {},
   "outputs": [],
   "source": [
    "skewness_and_kurtosis(data,'newbalanceDest')"
   ]
  },
  {
   "cell_type": "markdown",
   "metadata": {},
   "source": [
    "Observations:\n",
    "\n",
    "It catches my attention the amount of exact same amounts of money moved. Maybe it's a coincidence but needs further analysis.\n",
    "\n",
    "- Very high skewness and kurtosis."
   ]
  },
  {
   "cell_type": "markdown",
   "metadata": {},
   "source": []
  },
  {
   "cell_type": "code",
   "execution_count": null,
   "metadata": {},
   "outputs": [],
   "source": []
  },
  {
   "cell_type": "code",
   "execution_count": null,
   "metadata": {},
   "outputs": [],
   "source": []
  },
  {
   "cell_type": "code",
   "execution_count": null,
   "metadata": {},
   "outputs": [],
   "source": []
  },
  {
   "cell_type": "code",
   "execution_count": null,
   "metadata": {},
   "outputs": [],
   "source": []
  },
  {
   "cell_type": "code",
   "execution_count": null,
   "metadata": {},
   "outputs": [],
   "source": []
  },
  {
   "cell_type": "code",
   "execution_count": null,
   "metadata": {},
   "outputs": [],
   "source": []
  },
  {
   "cell_type": "code",
   "execution_count": null,
   "metadata": {},
   "outputs": [],
   "source": []
  },
  {
   "cell_type": "code",
   "execution_count": null,
   "metadata": {},
   "outputs": [],
   "source": []
  },
  {
   "cell_type": "code",
   "execution_count": null,
   "metadata": {},
   "outputs": [],
   "source": []
  },
  {
   "cell_type": "code",
   "execution_count": null,
   "metadata": {},
   "outputs": [],
   "source": []
  },
  {
   "cell_type": "markdown",
   "metadata": {},
   "source": [
    "### Balances in the destination"
   ]
  },
  {
   "cell_type": "code",
   "execution_count": null,
   "metadata": {},
   "outputs": [],
   "source": [
    "subset_dest = data[['type', 'amount', 'oldbalanceDest', 'newbalanceDest', 'isFraud']].copy()\n",
    "subset_dest['amount_moved'] = (subset_dest['newbalanceDest'] - subset_dest['oldbalanceDest']).round(2)\n",
    "subset_dest = subset_dest.loc[subset_dest['amount'] != subset_dest['amount_moved']]\n",
    "subset_dest"
   ]
  },
  {
   "cell_type": "markdown",
   "metadata": {},
   "source": [
    "#### Potential losses in the destination"
   ]
  },
  {
   "cell_type": "code",
   "execution_count": null,
   "metadata": {},
   "outputs": [],
   "source": [
    "subset_dest.query('isFraud == 1')"
   ]
  },
  {
   "cell_type": "markdown",
   "metadata": {},
   "source": [
    "Observations:\n",
    "\n",
    "Further investigation can be done here. Amounts don't match and there can be some patterns hidden related to user. Other features I would consider important are features related to location and transaction time"
   ]
  },
  {
   "cell_type": "markdown",
   "metadata": {},
   "source": [
    "### Name Origin"
   ]
  },
  {
   "cell_type": "code",
   "execution_count": null,
   "metadata": {},
   "outputs": [],
   "source": [
    "subset_orig_dest = data[['nameOrig', 'nameDest', 'isFraud']].copy()\n",
    "subset_orig_dest"
   ]
  },
  {
   "cell_type": "code",
   "execution_count": null,
   "metadata": {},
   "outputs": [],
   "source": [
    "# Group by nameOrig\n",
    "nameorig_counts = subset_orig_dest.groupby('nameOrig').size()\n",
    "nameorig_counts\n"
   ]
  },
  {
   "cell_type": "code",
   "execution_count": null,
   "metadata": {},
   "outputs": [],
   "source": [
    "# Get the nameOrig with occurence > 1 \n",
    "nameorig_common = nameorig_counts[nameorig_counts > 1]\n",
    "subset_nameorig_repeated = data[data['nameOrig'].isin(nameorig_common.index)]"
   ]
  },
  {
   "cell_type": "markdown",
   "metadata": {},
   "source": [
    "Can we find users in the origin with mixed fraudulent and not fraudulent behaviour? Are they only doing fraud? "
   ]
  },
  {
   "cell_type": "code",
   "execution_count": null,
   "metadata": {},
   "outputs": [],
   "source": [
    "fraudulent = subset_nameorig_repeated[subset_nameorig_repeated['isFraud'] == 1]['nameOrig'].unique()\n",
    "non_fraudulent = subset_nameorig_repeated[subset_nameorig_repeated['isFraud'] == 0]['nameOrig'].unique()\n",
    "\n",
    "common_fraud_nonfraud = np.intersect1d(fraudulent, non_fraudulent)\n",
    "common_fraud_nonfraud"
   ]
  },
  {
   "cell_type": "code",
   "execution_count": null,
   "metadata": {},
   "outputs": [],
   "source": [
    "fraud_nonfraud_in_orig = data[data['nameOrig'].isin(common_fraud_nonfraud)].sort_values(by = 'nameOrig', ascending = True).reset_index(drop = True)\n",
    "fraud_nonfraud_in_orig.head()"
   ]
  },
  {
   "cell_type": "markdown",
   "metadata": {},
   "source": [
    "Observations:\n",
    "\n",
    "There is a very small amount of account data that shares fraudulent and non-fraudulent transactions. The only pattern observed is that every account has one fraudulent and one non-fraudulent transaction. Further analysis could be done here as long as we continue getting data to understand the behavior of these \"hybrid\" accounts"
   ]
  },
  {
   "cell_type": "code",
   "execution_count": null,
   "metadata": {},
   "outputs": [],
   "source": [
    "two_times_nameorig = nameorig_counts[nameorig_counts == 2]\n",
    "subset_data_two_times = data[data['nameOrig'].isin(two_times_nameorig.index)]\n",
    "subset_two_data_filtered = subset_data_two_times[~subset_data_two_times['nameOrig'].isin(common_fraud_nonfraud)].sort_values(by = 'nameOrig', ascending = True).reset_index(drop = True)\n",
    "subset_two_data_filtered\n"
   ]
  },
  {
   "cell_type": "code",
   "execution_count": null,
   "metadata": {},
   "outputs": [],
   "source": [
    "subset_two_data_filtered.query('isFraud == 1')"
   ]
  },
  {
   "cell_type": "code",
   "execution_count": null,
   "metadata": {},
   "outputs": [],
   "source": [
    "three_times_nameorig = nameorig_counts[nameorig_counts == 3]\n",
    "subset_data_three_times = data[data['nameOrig'].isin(three_times_nameorig.index)].sort_values(by = 'nameOrig', ascending = True).reset_index(drop = True)\n",
    "subset_data_three_times.head()"
   ]
  },
  {
   "cell_type": "code",
   "execution_count": null,
   "metadata": {},
   "outputs": [],
   "source": [
    "subset_data_three_times.query('isFraud == 1')"
   ]
  },
  {
   "cell_type": "markdown",
   "metadata": {},
   "source": [
    "Observations:\n",
    "\n",
    "The remaining commonly used accounts (more than two times) only have non fraudulent transactions"
   ]
  },
  {
   "cell_type": "markdown",
   "metadata": {},
   "source": [
    "### Name Destination"
   ]
  },
  {
   "cell_type": "code",
   "execution_count": null,
   "metadata": {},
   "outputs": [],
   "source": [
    "# Group by nameOrig\n",
    "namedest_counts = subset_orig_dest.groupby('nameOrig').size()\n",
    "namedest_counts"
   ]
  },
  {
   "cell_type": "code",
   "execution_count": null,
   "metadata": {},
   "outputs": [],
   "source": [
    "# Get the nameOrig with occurence > 1 \n",
    "namedest_common = namedest_counts[namedest_counts > 1]\n",
    "subset_namedest_repeated = data[data['nameDest'].isin(namedest_common.index)]"
   ]
  },
  {
   "cell_type": "markdown",
   "metadata": {},
   "source": [
    "Can we find users in the destination with mixed fraudulent and not fraudulent behaviour? Are they only doing fraud? "
   ]
  },
  {
   "cell_type": "code",
   "execution_count": null,
   "metadata": {},
   "outputs": [],
   "source": [
    "fraudulent = subset_namedest_repeated[subset_namedest_repeated['isFraud'] == 1]['nameDest'].unique()\n",
    "non_fraudulent = subset_namedest_repeated[subset_namedest_repeated['isFraud'] == 0]['nameDest'].unique()\n",
    "\n",
    "common_fraud_nonfraud = np.intersect1d(fraudulent, non_fraudulent)\n",
    "common_fraud_nonfraud"
   ]
  },
  {
   "cell_type": "code",
   "execution_count": null,
   "metadata": {},
   "outputs": [],
   "source": [
    "two_times_namedest = namedest_counts[namedest_counts == 2]\n",
    "subset_data_two_times = data[data['nameDest'].isin(two_times_namedest.index)]\n",
    "subset_data_two_times.query('isFraud == 1')"
   ]
  },
  {
   "cell_type": "code",
   "execution_count": null,
   "metadata": {},
   "outputs": [],
   "source": [
    "three_times_namedest = namedest_counts[namedest_counts == 3]\n",
    "subset_data_three_times = data[data['nameDest'].isin(three_times_namedest.index)].sort_values(by = 'nameDest', ascending = True).reset_index(drop = True)\n",
    "subset_data_three_times.head()"
   ]
  },
  {
   "cell_type": "markdown",
   "metadata": {},
   "source": [
    "Observations:\n",
    "\n",
    "Merchants only have 1 time fraud occurence. That can happen if the client rejects the transaction thinking it's an invalid but it is valid. Maybe the forgot they bought an item by the time the transaction was done."
   ]
  },
  {
   "cell_type": "markdown",
   "metadata": {},
   "source": [
    "## Outliers"
   ]
  },
  {
   "cell_type": "code",
   "execution_count": null,
   "metadata": {},
   "outputs": [],
   "source": [
    "numeric_cols = data.select_dtypes(include=['int64','float64'])\n",
    "\n",
    "plt.figure(figsize=(12, 8))\n",
    "numeric_cols.boxplot()\n",
    "plt.title('Boxplots of numerical variables')\n",
    "plt.xticks(rotation=45)\n",
    "plt.show()"
   ]
  },
  {
   "cell_type": "code",
   "execution_count": null,
   "metadata": {},
   "outputs": [],
   "source": [
    "detect_outliers(data)"
   ]
  }
 ],
 "metadata": {
  "kernelspec": {
   "display_name": "fraudvenv",
   "language": "python",
   "name": "python3"
  },
  "language_info": {
   "codemirror_mode": {
    "name": "ipython",
    "version": 3
   },
   "file_extension": ".py",
   "mimetype": "text/x-python",
   "name": "python",
   "nbconvert_exporter": "python",
   "pygments_lexer": "ipython3",
   "version": "3.10.12"
  }
 },
 "nbformat": 4,
 "nbformat_minor": 2
}
